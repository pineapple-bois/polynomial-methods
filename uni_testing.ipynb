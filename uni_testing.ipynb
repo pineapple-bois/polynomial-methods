{
 "cells": [
  {
   "cell_type": "markdown",
   "source": [
    "# Building `Polynomial` class"
   ],
   "metadata": {
    "collapsed": false
   }
  },
  {
   "cell_type": "code",
   "execution_count": 1,
   "metadata": {
    "collapsed": true
   },
   "outputs": [],
   "source": [
    "from poly_dictionary import decompose_polynomial\n",
    "from polynomial_class import *"
   ]
  },
  {
   "cell_type": "code",
   "execution_count": 2,
   "outputs": [],
   "source": [
    "poly7 = decompose_polynomial(\"2*x^2 - 3*x + 5\")                                 # Uni-variate\n",
    "poly8 = decompose_polynomial(\"-x^2 + 4*x - 7\")                                  # Uni-variate\n",
    "poly9 = decompose_polynomial(\"5*x^3 - 3*x^2 + 7*x - 10\")                        # Uni-variate"
   ],
   "metadata": {
    "collapsed": false
   }
  },
  {
   "cell_type": "code",
   "execution_count": 3,
   "outputs": [],
   "source": [
    "poly10 = decompose_polynomial(\"2*x^2*y - 3*x*y^2 + 5*y\")                        # Multivariate\n",
    "poly11 = decompose_polynomial(\"-x^2*y^2 + 4*x*y - 7*z^3\")                       # Multivariate\n",
    "poly12 = decompose_polynomial(\"5*x^3*y^2*z - 3*x^2*y*z^2 + 7*x*y*z - 10*z^2\")   # Multivariate"
   ],
   "metadata": {
    "collapsed": false
   }
  },
  {
   "cell_type": "markdown",
   "source": [
    "## `is_mulitvariate` functionality"
   ],
   "metadata": {
    "collapsed": false
   }
  },
  {
   "cell_type": "code",
   "execution_count": 4,
   "outputs": [
    {
     "data": {
      "text/plain": "False"
     },
     "execution_count": 4,
     "metadata": {},
     "output_type": "execute_result"
    }
   ],
   "source": [
    "p7 = UniPoly(poly7)\n",
    "p8 = UniPoly(poly8)\n",
    "p9 = UniPoly(poly9)\n",
    "\n",
    "p7.is_multivariate"
   ],
   "metadata": {
    "collapsed": false
   }
  },
  {
   "cell_type": "code",
   "execution_count": 5,
   "outputs": [
    {
     "data": {
      "text/plain": "True"
     },
     "execution_count": 5,
     "metadata": {},
     "output_type": "execute_result"
    }
   ],
   "source": [
    "p10 = MultiPoly(poly10)\n",
    "p11 = MultiPoly(poly11)\n",
    "p12 = MultiPoly(poly12)\n",
    "\n",
    "p10.is_multivariate"
   ],
   "metadata": {
    "collapsed": false
   }
  },
  {
   "cell_type": "markdown",
   "source": [
    "----\n",
    "&nbsp;\n",
    "### Incorrect instances"
   ],
   "metadata": {
    "collapsed": false
   }
  },
  {
   "cell_type": "code",
   "execution_count": 6,
   "outputs": [
    {
     "ename": "ValueError",
     "evalue": "The provided coefficients don't represent a uni-variate polynomial.",
     "output_type": "error",
     "traceback": [
      "\u001B[0;31m---------------------------------------------------------------------------\u001B[0m",
      "\u001B[0;31mValueError\u001B[0m                                Traceback (most recent call last)",
      "\u001B[0;32m/var/folders/s9/z74lxq2n7d9ct45y9_ffymd00000gn/T/ipykernel_96934/3181815689.py\u001B[0m in \u001B[0;36m<module>\u001B[0;34m\u001B[0m\n\u001B[0;32m----> 1\u001B[0;31m \u001B[0mp_error\u001B[0m \u001B[0;34m=\u001B[0m \u001B[0mUniPoly\u001B[0m\u001B[0;34m(\u001B[0m\u001B[0mpoly10\u001B[0m\u001B[0;34m)\u001B[0m\u001B[0;34m\u001B[0m\u001B[0;34m\u001B[0m\u001B[0m\n\u001B[0m",
      "\u001B[0;32m~/Documents/Study/Stage3/Programming/Github/polynomial-methods/polynomial_class.py\u001B[0m in \u001B[0;36m__init__\u001B[0;34m(self, coefficients)\u001B[0m\n\u001B[1;32m    155\u001B[0m         \u001B[0msuper\u001B[0m\u001B[0;34m(\u001B[0m\u001B[0;34m)\u001B[0m\u001B[0;34m.\u001B[0m\u001B[0m__init__\u001B[0m\u001B[0;34m(\u001B[0m\u001B[0mcoefficients\u001B[0m\u001B[0;34m)\u001B[0m\u001B[0;34m\u001B[0m\u001B[0;34m\u001B[0m\u001B[0m\n\u001B[1;32m    156\u001B[0m         \u001B[0;32mif\u001B[0m \u001B[0mself\u001B[0m\u001B[0;34m.\u001B[0m\u001B[0mis_multivariate\u001B[0m\u001B[0;34m:\u001B[0m\u001B[0;34m\u001B[0m\u001B[0;34m\u001B[0m\u001B[0m\n\u001B[0;32m--> 157\u001B[0;31m             \u001B[0;32mraise\u001B[0m \u001B[0mValueError\u001B[0m\u001B[0;34m(\u001B[0m\u001B[0;34m\"The provided coefficients don't represent a uni-variate polynomial.\"\u001B[0m\u001B[0;34m)\u001B[0m\u001B[0;34m\u001B[0m\u001B[0;34m\u001B[0m\u001B[0m\n\u001B[0m\u001B[1;32m    158\u001B[0m \u001B[0;34m\u001B[0m\u001B[0m\n\u001B[1;32m    159\u001B[0m     \u001B[0;32mdef\u001B[0m \u001B[0mplot\u001B[0m\u001B[0;34m(\u001B[0m\u001B[0mself\u001B[0m\u001B[0;34m,\u001B[0m \u001B[0mx_min\u001B[0m\u001B[0;34m=\u001B[0m\u001B[0;34m-\u001B[0m\u001B[0;36m10\u001B[0m\u001B[0;34m,\u001B[0m \u001B[0mx_max\u001B[0m\u001B[0;34m=\u001B[0m\u001B[0;36m10\u001B[0m\u001B[0;34m,\u001B[0m \u001B[0mnum_points\u001B[0m\u001B[0;34m=\u001B[0m\u001B[0;36m1000\u001B[0m\u001B[0;34m)\u001B[0m\u001B[0;34m:\u001B[0m\u001B[0;34m\u001B[0m\u001B[0;34m\u001B[0m\u001B[0m\n",
      "\u001B[0;31mValueError\u001B[0m: The provided coefficients don't represent a uni-variate polynomial."
     ]
    }
   ],
   "source": [
    "p_error = UniPoly(poly10)"
   ],
   "metadata": {
    "collapsed": false
   }
  },
  {
   "cell_type": "code",
   "execution_count": 7,
   "outputs": [
    {
     "ename": "ValueError",
     "evalue": "The provided coefficients don't represent a multivariate polynomial.",
     "output_type": "error",
     "traceback": [
      "\u001B[0;31m---------------------------------------------------------------------------\u001B[0m",
      "\u001B[0;31mValueError\u001B[0m                                Traceback (most recent call last)",
      "\u001B[0;32m/var/folders/s9/z74lxq2n7d9ct45y9_ffymd00000gn/T/ipykernel_96934/1208097113.py\u001B[0m in \u001B[0;36m<module>\u001B[0;34m\u001B[0m\n\u001B[0;32m----> 1\u001B[0;31m \u001B[0mp_error_two\u001B[0m \u001B[0;34m=\u001B[0m \u001B[0mMultiPoly\u001B[0m\u001B[0;34m(\u001B[0m\u001B[0mpoly9\u001B[0m\u001B[0;34m)\u001B[0m\u001B[0;34m\u001B[0m\u001B[0;34m\u001B[0m\u001B[0m\n\u001B[0m",
      "\u001B[0;32m~/Documents/Study/Stage3/Programming/Github/polynomial-methods/polynomial_class.py\u001B[0m in \u001B[0;36m__init__\u001B[0;34m(self, coefficients)\u001B[0m\n\u001B[1;32m    210\u001B[0m         \u001B[0msuper\u001B[0m\u001B[0;34m(\u001B[0m\u001B[0;34m)\u001B[0m\u001B[0;34m.\u001B[0m\u001B[0m__init__\u001B[0m\u001B[0;34m(\u001B[0m\u001B[0mcoefficients\u001B[0m\u001B[0;34m)\u001B[0m\u001B[0;34m\u001B[0m\u001B[0;34m\u001B[0m\u001B[0m\n\u001B[1;32m    211\u001B[0m         \u001B[0;32mif\u001B[0m \u001B[0;32mnot\u001B[0m \u001B[0mself\u001B[0m\u001B[0;34m.\u001B[0m\u001B[0mis_multivariate\u001B[0m\u001B[0;34m:\u001B[0m\u001B[0;34m\u001B[0m\u001B[0;34m\u001B[0m\u001B[0m\n\u001B[0;32m--> 212\u001B[0;31m             \u001B[0;32mraise\u001B[0m \u001B[0mValueError\u001B[0m\u001B[0;34m(\u001B[0m\u001B[0;34m\"The provided coefficients don't represent a multivariate polynomial.\"\u001B[0m\u001B[0;34m)\u001B[0m\u001B[0;34m\u001B[0m\u001B[0;34m\u001B[0m\u001B[0m\n\u001B[0m\u001B[1;32m    213\u001B[0m \u001B[0;34m\u001B[0m\u001B[0m\n\u001B[1;32m    214\u001B[0m \u001B[0;34m\u001B[0m\u001B[0m\n",
      "\u001B[0;31mValueError\u001B[0m: The provided coefficients don't represent a multivariate polynomial."
     ]
    }
   ],
   "source": [
    "p_error_two = MultiPoly(poly9)"
   ],
   "metadata": {
    "collapsed": false
   }
  },
  {
   "cell_type": "markdown",
   "source": [
    "----\n",
    "&nbsp;\n",
    "## Testing `__add__()`, `__sub__()`, `__mul__()` and `__str__()`  methods"
   ],
   "metadata": {
    "collapsed": false
   }
  },
  {
   "cell_type": "code",
   "execution_count": 9,
   "outputs": [
    {
     "name": "stdout",
     "output_type": "stream",
     "text": [
      "-----\n",
      "p9 + p10\n",
      "{(3, 0, 0): 5.0, (2, 0, 0): -3.0, (1, 0, 0): 7.0, (0, 0, 0): -10.0, (2, 1, 0): 2.0, (1, 2, 0): -3.0, (0, 1, 0): 5.0}\n",
      "5.0 * x^3 - 3.0 * x^2 + 2.0 * x^2 * y + 7.0 * x - 3.0 * x * y^2 - 10.0 + 5.0 * y\n",
      "-----\n",
      "p9 + p11\n",
      "{(3, 0, 0): 5.0, (2, 0, 0): -3.0, (1, 0, 0): 7.0, (0, 0, 0): -10.0, (2, 2, 0): -1.0, (1, 1, 0): 4.0, (0, 0, 3): -7.0}\n",
      "5.0 * x^3 - 3.0 * x^2 - x^2 * y^2 + 7.0 * x + 4.0 * x * y - 10.0 - 7.0 * z^3\n",
      "-----\n",
      "p9 + p12\n",
      "{(3, 0, 0): 5.0, (2, 0, 0): -3.0, (1, 0, 0): 7.0, (0, 0, 0): -10.0, (3, 2, 1): 5.0, (2, 1, 2): -3.0, (1, 1, 1): 7.0, (0, 0, 2): -10.0}\n",
      "5.0 * x^3 + 5.0 * x^3 * y^2 * z - 3.0 * x^2 - 3.0 * x^2 * y * z^2 + 7.0 * x + 7.0 * x * y * z - 10.0 - 10.0 * z^2\n"
     ]
    }
   ],
   "source": [
    "polynomials = [p10, p11, p12]\n",
    "\n",
    "for i, poly in enumerate(polynomials, start=10):\n",
    "    print(\"-----\")\n",
    "    print(f\"p9 + p{i}\")\n",
    "    print((p9 + poly).coeff)\n",
    "    print(p9 + poly)"
   ],
   "metadata": {
    "collapsed": false
   }
  },
  {
   "cell_type": "code",
   "execution_count": 10,
   "outputs": [
    {
     "name": "stdout",
     "output_type": "stream",
     "text": [
      "-----\n",
      "p9 - p10\n",
      "{(3, 0, 0): 5.0, (2, 0, 0): -3.0, (1, 0, 0): 7.0, (0, 0, 0): -10.0, (2, 1, 0): -2.0, (1, 2, 0): 3.0, (0, 1, 0): -5.0}\n",
      "5.0 * x^3 - 3.0 * x^2 + 2.0 * x^2 * y + 7.0 * x - 3.0 * x * y^2 - 10.0 + 5.0 * y\n",
      "-----\n",
      "p9 - p11\n",
      "{(3, 0, 0): 5.0, (2, 0, 0): -3.0, (1, 0, 0): 7.0, (0, 0, 0): -10.0, (2, 2, 0): 1.0, (1, 1, 0): -4.0, (0, 0, 3): 7.0}\n",
      "5.0 * x^3 - 3.0 * x^2 - x^2 * y^2 + 7.0 * x + 4.0 * x * y - 10.0 - 7.0 * z^3\n",
      "-----\n",
      "p9 - p12\n",
      "{(3, 0, 0): 5.0, (2, 0, 0): -3.0, (1, 0, 0): 7.0, (0, 0, 0): -10.0, (3, 2, 1): -5.0, (2, 1, 2): 3.0, (1, 1, 1): -7.0, (0, 0, 2): 10.0}\n",
      "5.0 * x^3 + 5.0 * x^3 * y^2 * z - 3.0 * x^2 - 3.0 * x^2 * y * z^2 + 7.0 * x + 7.0 * x * y * z - 10.0 - 10.0 * z^2\n"
     ]
    }
   ],
   "source": [
    "for i, poly in enumerate(polynomials, start=10):\n",
    "    print(\"-----\")\n",
    "    print(f\"p9 - p{i}\")\n",
    "    print((p9 - poly).coeff)\n",
    "    print(p9 + poly)"
   ],
   "metadata": {
    "collapsed": false
   }
  },
  {
   "cell_type": "code",
   "execution_count": 11,
   "outputs": [
    {
     "name": "stdout",
     "output_type": "stream",
     "text": [
      "-----\n",
      "p9 * p10\n",
      "Coefficients:\n",
      "{(5, 1, 0): 10.0, (4, 2, 0): -15.0, (3, 1, 0): 39.0, (4, 1, 0): -6.0, (3, 2, 0): 9.0, (2, 1, 0): -35.0, (2, 2, 0): -21.0, (1, 1, 0): 35.0, (1, 2, 0): 30.0, (0, 1, 0): -50.0}\n",
      "\n",
      "10.0 * x^5 * y - 15.0 * x^4 * y^2 - 6.0 * x^4 * y + 39.0 * x^3 * y + 9.0 * x^3 * y^2 - 35.0 * x^2 * y - 21.0 * x^2 * y^2 + 35.0 * x * y + 30.0 * x * y^2 - 50.0 * y\n",
      "-----\n",
      "p9 * p11\n",
      "Coefficients:\n",
      "{(5, 2, 0): -5.0, (4, 1, 0): 20.0, (3, 0, 3): -35.0, (4, 2, 0): 3.0, (3, 1, 0): -12.0, (2, 0, 3): 21.0, (3, 2, 0): -7.0, (2, 1, 0): 28.0, (1, 0, 3): -49.0, (2, 2, 0): 10.0, (1, 1, 0): -40.0, (0, 0, 3): 70.0}\n",
      "\n",
      "-5.0 * x^5 * y^2 + 20.0 * x^4 * y + 3.0 * x^4 * y^2 - 35.0 * x^3 * z^3 - 12.0 * x^3 * y - 7.0 * x^3 * y^2 + 21.0 * x^2 * z^3 + 28.0 * x^2 * y + 10.0 * x^2 * y^2 - 49.0 * x * z^3 - 40.0 * x * y + 70.0 * z^3\n",
      "-----\n",
      "p9 * p12\n",
      "Coefficients:\n",
      "{(6, 2, 1): 25.0, (5, 1, 2): -15.0, (4, 1, 1): 35.0, (3, 0, 2): -50.0, (5, 2, 1): -15.0, (4, 1, 2): 9.0, (3, 1, 1): -21.0, (2, 0, 2): 30.0, (4, 2, 1): 35.0, (3, 1, 2): -21.0, (2, 1, 1): 49.0, (1, 0, 2): -70.0, (3, 2, 1): -50.0, (2, 1, 2): 30.0, (1, 1, 1): -70.0, (0, 0, 2): 100.0}\n",
      "\n",
      "25.0 * x^6 * y^2 * z - 15.0 * x^5 * y * z^2 - 15.0 * x^5 * y^2 * z + 35.0 * x^4 * y * z + 9.0 * x^4 * y * z^2 + 35.0 * x^4 * y^2 * z - 50.0 * x^3 * z^2 - 21.0 * x^3 * y * z - 21.0 * x^3 * y * z^2 - 50.0 * x^3 * y^2 * z + 30.0 * x^2 * z^2 + 49.0 * x^2 * y * z + 30.0 * x^2 * y * z^2 - 70.0 * x * z^2 - 70.0 * x * y * z + 100.0 * z^2\n"
     ]
    }
   ],
   "source": [
    "for i, poly in enumerate(polynomials, start=10):\n",
    "    print(\"-----\")\n",
    "    print(f\"p9 * p{i}\")\n",
    "    print(f\"Coefficients:\\n{(p9 * poly).coeff}\\n\")\n",
    "    print(f\"{p9 * poly}\")"
   ],
   "metadata": {
    "collapsed": false
   }
  },
  {
   "cell_type": "markdown",
   "source": [
    "----\n",
    "&nbsp;\n",
    "## Testing `__call__`"
   ],
   "metadata": {
    "collapsed": false
   }
  },
  {
   "cell_type": "code",
   "execution_count": 12,
   "outputs": [
    {
     "name": "stdout",
     "output_type": "stream",
     "text": [
      "p9: 5.0 * x^3 - 3.0 * x^2 + 7.0 * x - 10.0\n"
     ]
    },
    {
     "data": {
      "text/plain": "290.0"
     },
     "execution_count": 12,
     "metadata": {},
     "output_type": "execute_result"
    }
   ],
   "source": [
    "print(f\"p9: {p9}\")\n",
    "p9(4)"
   ],
   "metadata": {
    "collapsed": false
   }
  },
  {
   "cell_type": "code",
   "execution_count": 13,
   "outputs": [
    {
     "name": "stdout",
     "output_type": "stream",
     "text": [
      "p12: 5.0 * x^3 * y^2 * z - 3.0 * x^2 * y * z^2 + 7.0 * x * y * z - 10.0 * z^2\n"
     ]
    },
    {
     "data": {
      "text/plain": "5312.0"
     },
     "execution_count": 13,
     "metadata": {},
     "output_type": "execute_result"
    }
   ],
   "source": [
    "print(f\"p12: {p12}\")\n",
    "p12(4, 3, 2)"
   ],
   "metadata": {
    "collapsed": false
   }
  },
  {
   "cell_type": "markdown",
   "source": [
    "----\n",
    "&nbsp;\n",
    "## Testing `plot()`"
   ],
   "metadata": {
    "collapsed": false
   }
  },
  {
   "cell_type": "code",
   "execution_count": 14,
   "outputs": [
    {
     "data": {
      "text/plain": "<Figure size 640x480 with 1 Axes>",
      "image/png": "[encoded data removed]"
     },
     "metadata": {},
     "output_type": "display_data"
    }
   ],
   "source": [
    "p9.plot(-1, 2)"
   ],
   "metadata": {
    "collapsed": false
   }
  },
  {
   "cell_type": "code",
   "execution_count": 15,
   "outputs": [
    {
     "name": "stdout",
     "output_type": "stream",
     "text": [
      "15.0 * x^2 - 6.0 * x + 7.0\n"
     ]
    }
   ],
   "source": [
    "dp9 = p9.differentiate()\n",
    "print(dp9)"
   ],
   "metadata": {
    "collapsed": false
   }
  },
  {
   "cell_type": "code",
   "execution_count": 16,
   "outputs": [
    {
     "data": {
      "text/plain": "(1.0597580762092567, True, 4)"
     },
     "execution_count": 16,
     "metadata": {},
     "output_type": "execute_result"
    }
   ],
   "source": [
    "p9.newton(0.5)"
   ],
   "metadata": {
    "collapsed": false
   }
  },
  {
   "cell_type": "code",
   "execution_count": 17,
   "outputs": [
    {
     "name": "stdout",
     "output_type": "stream",
     "text": [
      "The method did not converge after 1e-07 iterations.\n"
     ]
    }
   ],
   "source": [
    "p9.bisection(1, 1.5)"
   ],
   "metadata": {
    "collapsed": false
   }
  },
  {
   "cell_type": "markdown",
   "source": [
    "----"
   ],
   "metadata": {
    "collapsed": false
   }
  },
  {
   "cell_type": "markdown",
   "source": [
    "# The [Newton-Raphson](https://en.wikipedia.org/wiki/Newton%27s_method) method can approximate roots from simple cases"
   ],
   "metadata": {
    "collapsed": false
   }
  },
  {
   "cell_type": "markdown",
   "source": [
    "## Try a Quartic"
   ],
   "metadata": {
    "collapsed": false
   }
  },
  {
   "cell_type": "code",
   "execution_count": 33,
   "outputs": [
    {
     "data": {
      "text/plain": "<Figure size 640x480 with 1 Axes>",
      "image/png": "[encoded data removed]"
     },
     "metadata": {},
     "output_type": "display_data"
    },
    {
     "name": "stdout",
     "output_type": "stream",
     "text": [
      "p13: x^4 - 8.0 * x^3 + 23.0 * x^2 - 26.0 * x + 6.25\n",
      "derivative: 4.0 * x^3 - 24.0 * x^2 + 46.0 * x - 26.0\n",
      "integral: 0.2 * x^5 - 2.0 * x^4 + 7.6667 * x^3 - 13.0 * x^2 + 6.25 * x\n"
     ]
    }
   ],
   "source": [
    "poly13 = decompose_polynomial(\"x^4-8*x^3+ 23*x^2 - 26*x + 6.25\")\n",
    "p13 = UniPoly(poly13)\n",
    "\n",
    "p13.plot(-1, 4)\n",
    "dp13 = p13.differentiate()\n",
    "ip13 = p13.integrate()\n",
    "\n",
    "print(f\"p13: {p13}\")\n",
    "print(f\"derivative: {dp13}\")\n",
    "print(f\"integral: {ip13}\")"
   ],
   "metadata": {
    "collapsed": false
   }
  },
  {
   "cell_type": "code",
   "execution_count": 34,
   "outputs": [
    {
     "data": {
      "text/plain": "(0.32246327598946956, True, 3)"
     },
     "execution_count": 34,
     "metadata": {},
     "output_type": "execute_result"
    }
   ],
   "source": [
    "p13.newton(0.5)"
   ],
   "metadata": {
    "collapsed": false
   }
  },
  {
   "cell_type": "code",
   "execution_count": 35,
   "outputs": [
    {
     "data": {
      "text/plain": "(2.9320716171852697, True, 2)"
     },
     "execution_count": 35,
     "metadata": {},
     "output_type": "execute_result"
    }
   ],
   "source": [
    "p13.newton(3)"
   ],
   "metadata": {
    "collapsed": false
   }
  },
  {
   "cell_type": "code",
   "execution_count": 36,
   "outputs": [
    {
     "name": "stdout",
     "output_type": "stream",
     "text": [
      "The method did not converge after 1e-07 iterations.\n"
     ]
    }
   ],
   "source": [
    "p13.bisection(2.5, 3.5)"
   ],
   "metadata": {
    "collapsed": false
   }
  },
  {
   "cell_type": "markdown",
   "source": [
    "The other two roots are complex"
   ],
   "metadata": {
    "collapsed": false
   }
  },
  {
   "cell_type": "markdown",
   "source": [
    "----"
   ],
   "metadata": {
    "collapsed": false
   }
  },
  {
   "cell_type": "markdown",
   "source": [
    "## Try a Cubic"
   ],
   "metadata": {
    "collapsed": false
   }
  },
  {
   "cell_type": "code",
   "execution_count": 37,
   "outputs": [
    {
     "data": {
      "text/plain": "<Figure size 640x480 with 1 Axes>",
      "image/png": "[encoded data removed]"
     },
     "metadata": {},
     "output_type": "display_data"
    },
    {
     "name": "stdout",
     "output_type": "stream",
     "text": [
      "p14: x^3 - 5.0 * x^2 + 4.0 * x + 3.0\n",
      "derivative: 3.0 * x^2 - 10.0 * x + 4.0\n",
      "integral: 0.25 * x^4 - 1.6667 * x^3 + 2.0 * x^2 + 3.0 * x\n"
     ]
    }
   ],
   "source": [
    "poly14 = decompose_polynomial(\"x^3 - 5*x^2 + 4*x +3\")\n",
    "p14 = UniPoly(poly14)\n",
    "\n",
    "p14.plot(-1, 5)\n",
    "dp14 = p14.differentiate()\n",
    "ip14 = p14.integrate()\n",
    "\n",
    "print(f\"p14: {p14}\")\n",
    "print(f\"derivative: {dp14}\")\n",
    "print(f\"integral: {ip14}\")"
   ],
   "metadata": {
    "collapsed": false
   }
  },
  {
   "cell_type": "code",
   "execution_count": 38,
   "outputs": [
    {
     "data": {
      "text/plain": "3.749999999999999"
     },
     "execution_count": 38,
     "metadata": {},
     "output_type": "execute_result"
    }
   ],
   "source": [
    "# definite integral (lower bound, upper bound)\n",
    "\n",
    "p14.integrate_definite(-1, 2)"
   ],
   "metadata": {
    "collapsed": false
   }
  },
  {
   "cell_type": "code",
   "execution_count": 39,
   "outputs": [
    {
     "data": {
      "text/plain": "(-0.4605056069250443, True, 2)"
     },
     "execution_count": 39,
     "metadata": {},
     "output_type": "execute_result"
    }
   ],
   "source": [
    "p14.newton(-0.5)"
   ],
   "metadata": {
    "collapsed": false
   }
  },
  {
   "cell_type": "code",
   "execution_count": 40,
   "outputs": [
    {
     "data": {
      "text/plain": "(1.7608695652173914, True, 2)"
     },
     "execution_count": 40,
     "metadata": {},
     "output_type": "execute_result"
    }
   ],
   "source": [
    "p14.newton(2)"
   ],
   "metadata": {
    "collapsed": false
   }
  },
  {
   "cell_type": "code",
   "execution_count": 41,
   "outputs": [
    {
     "data": {
      "text/plain": "(3.6996291078458654, True, 3)"
     },
     "execution_count": 41,
     "metadata": {},
     "output_type": "execute_result"
    }
   ],
   "source": [
    "p14.newton(3.5)"
   ],
   "metadata": {
    "collapsed": false
   }
  },
  {
   "cell_type": "markdown",
   "source": [
    "----"
   ],
   "metadata": {
    "collapsed": false
   }
  },
  {
   "cell_type": "markdown",
   "source": [
    "### An Example where starting points could enter an infinite cycle"
   ],
   "metadata": {
    "collapsed": false
   }
  },
  {
   "cell_type": "code",
   "execution_count": 27,
   "outputs": [
    {
     "name": "stdout",
     "output_type": "stream",
     "text": [
      "p15: x^3 - 2.0 * x + 2.0\n"
     ]
    },
    {
     "data": {
      "text/plain": "<Figure size 640x480 with 1 Axes>",
      "image/png": "[encoded data removed]"
     },
     "metadata": {},
     "output_type": "display_data"
    },
    {
     "name": "stdout",
     "output_type": "stream",
     "text": [
      "derivative: 3.0 * x^2 - 2.0\n"
     ]
    }
   ],
   "source": [
    "poly15 = decompose_polynomial(\"x^3 - 2*x +2\")\n",
    "p15 = UniPoly(poly15)\n",
    "\n",
    "print(f\"p15: {p15}\")\n",
    "p15.plot(-2, 2)\n",
    "dp15 = p15.differentiate()\n",
    "print(f\"derivative: {dp15}\")"
   ],
   "metadata": {
    "collapsed": false
   }
  },
  {
   "cell_type": "markdown",
   "source": [
    "Choosing $x=0$ or $x=1$ as starting points, Newton's method fails to converge even after 100 iterations"
   ],
   "metadata": {
    "collapsed": false
   }
  },
  {
   "cell_type": "code",
   "execution_count": 28,
   "outputs": [
    {
     "data": {
      "text/plain": "(1.0, False, 100)"
     },
     "execution_count": 28,
     "metadata": {},
     "output_type": "execute_result"
    }
   ],
   "source": [
    "p15.newton(1, max_it=100)"
   ],
   "metadata": {
    "collapsed": false
   }
  },
  {
   "cell_type": "code",
   "execution_count": 29,
   "outputs": [
    {
     "data": {
      "text/plain": "(0.0, False, 100)"
     },
     "execution_count": 29,
     "metadata": {},
     "output_type": "execute_result"
    }
   ],
   "source": [
    "p15.newton(0, max_it=100)"
   ],
   "metadata": {
    "collapsed": false
   }
  },
  {
   "cell_type": "markdown",
   "source": [
    "The graph of the function aids suitable starting points"
   ],
   "metadata": {
    "collapsed": false
   }
  },
  {
   "cell_type": "code",
   "execution_count": 30,
   "outputs": [
    {
     "data": {
      "text/plain": "(-1.769292662905941, True, 2)"
     },
     "execution_count": 30,
     "metadata": {},
     "output_type": "execute_result"
    }
   ],
   "source": [
    "p15.newton(-2)"
   ],
   "metadata": {
    "collapsed": false
   }
  },
  {
   "cell_type": "code",
   "execution_count": 31,
   "outputs": [
    {
     "data": {
      "text/plain": "(-1.76929656115579, True, 7)"
     },
     "execution_count": 31,
     "metadata": {},
     "output_type": "execute_result"
    }
   ],
   "source": [
    "p15.newton(0.5)"
   ],
   "metadata": {
    "collapsed": false
   }
  },
  {
   "cell_type": "markdown",
   "source": [
    "----"
   ],
   "metadata": {
    "collapsed": false
   }
  },
  {
   "cell_type": "code",
   "execution_count": 31,
   "outputs": [],
   "source": [],
   "metadata": {
    "collapsed": false
   }
  }
 ],
 "metadata": {
  "kernelspec": {
   "display_name": "Python 3",
   "language": "python",
   "name": "python3"
  },
  "language_info": {
   "codemirror_mode": {
    "name": "ipython",
    "version": 2
   },
   "file_extension": ".py",
   "mimetype": "text/x-python",
   "name": "python",
   "nbconvert_exporter": "python",
   "pygments_lexer": "ipython2",
   "version": "2.7.6"
  }
 },
 "nbformat": 4,
 "nbformat_minor": 0
}
