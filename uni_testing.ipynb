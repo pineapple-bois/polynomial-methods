{
 "cells": [
  {
   "cell_type": "markdown",
   "source": [
    "# Building `Polynomial` class\n",
    "## Testing `__add__()`, `__sub__()` and `__str__()`  method"
   ],
   "metadata": {
    "collapsed": false
   }
  },
  {
   "cell_type": "code",
   "execution_count": 3,
   "metadata": {
    "collapsed": true
   },
   "outputs": [],
   "source": [
    "from poly_dictionary import decompose_polynomial\n",
    "from polynomial_class import *"
   ]
  },
  {
   "cell_type": "code",
   "execution_count": 4,
   "outputs": [],
   "source": [
    "poly7 = decompose_polynomial(\"2*x^2 - 3*x + 5\")             # Univariate\n",
    "poly8 = decompose_polynomial(\"-x^2 + 4*x - 7\")              # Univariate\n",
    "poly9 = decompose_polynomial(\"5*x^3 - 3*x^2 + 7*x - 10\")    # Univariate"
   ],
   "metadata": {
    "collapsed": false
   }
  },
  {
   "cell_type": "code",
   "execution_count": 5,
   "outputs": [],
   "source": [
    "poly10 = decompose_polynomial(\"2*x^2*y - 3*x*y^2 + 5*y\")                        # Multivariate\n",
    "poly11 = decompose_polynomial(\"-x^2*y^2 + 4*x*y - 7*z^3\")                       # Multivariate\n",
    "poly12 = decompose_polynomial(\"5*x^3*y^2*z - 3*x^2*y*z^2 + 7*x*y*z - 10*z^2\")   # Multivariate"
   ],
   "metadata": {
    "collapsed": false
   }
  },
  {
   "cell_type": "code",
   "execution_count": 6,
   "outputs": [
    {
     "data": {
      "text/plain": "False"
     },
     "execution_count": 6,
     "metadata": {},
     "output_type": "execute_result"
    }
   ],
   "source": [
    "p7 = UniPoly(poly7)\n",
    "p8 = UniPoly(poly8)\n",
    "p9 = UniPoly(poly9)\n",
    "\n",
    "p7.is_multivariate"
   ],
   "metadata": {
    "collapsed": false
   }
  },
  {
   "cell_type": "code",
   "execution_count": 7,
   "outputs": [
    {
     "data": {
      "text/plain": "True"
     },
     "execution_count": 7,
     "metadata": {},
     "output_type": "execute_result"
    }
   ],
   "source": [
    "p10 = MultiPoly(poly10)\n",
    "p11 = MultiPoly(poly11)\n",
    "p12 = MultiPoly(poly12)\n",
    "\n",
    "p10.is_multivariate"
   ],
   "metadata": {
    "collapsed": false
   }
  },
  {
   "cell_type": "code",
   "execution_count": 8,
   "outputs": [
    {
     "name": "stdout",
     "output_type": "stream",
     "text": [
      "-----\n",
      "p9 + p10\n",
      "{(3, 0, 0): 5.0, (2, 0, 0): -3.0, (1, 0, 0): 7.0, (0, 0, 0): -10.0, (2, 1, 0): 2.0, (1, 2, 0): -3.0, (0, 1, 0): 5.0}\n",
      "5.0 * x^3 - 3.0 * x^2 + 2.0 * x^2 * y + 7.0 * x - 3.0 * x * y^2 - 10.0 + 5.0 * y\n",
      "Multivariate? True\n",
      "-----\n",
      "p9 + p11\n",
      "{(3, 0, 0): 5.0, (2, 0, 0): -3.0, (1, 0, 0): 7.0, (0, 0, 0): -10.0, (2, 2, 0): -1.0, (1, 1, 0): 4.0, (0, 0, 3): -7.0}\n",
      "5.0 * x^3 - 3.0 * x^2 - x^2 * y^2 + 7.0 * x + 4.0 * x * y - 10.0 - 7.0 * z^3\n",
      "Multivariate? True\n",
      "-----\n",
      "p9 + p12\n",
      "{(3, 0, 0): 5.0, (2, 0, 0): -3.0, (1, 0, 0): 7.0, (0, 0, 0): -10.0, (3, 2, 1): 5.0, (2, 1, 2): -3.0, (1, 1, 1): 7.0, (0, 0, 2): -10.0}\n",
      "5.0 * x^3 + 5.0 * x^3 * y^2 * z - 3.0 * x^2 - 3.0 * x^2 * y * z^2 + 7.0 * x + 7.0 * x * y * z - 10.0 - 10.0 * z^2\n",
      "Multivariate? True\n"
     ]
    }
   ],
   "source": [
    "polynomials = [p10, p11, p12]\n",
    "\n",
    "for i, poly in enumerate(polynomials, start=10):\n",
    "    print(\"-----\")\n",
    "    print(f\"p9 + p{i}\")\n",
    "    print((p9 + poly).coeff)\n",
    "    print(p9 + poly)\n",
    "    print(f\"Multivariate? {(p9 + poly).is_multivariate}\")"
   ],
   "metadata": {
    "collapsed": false
   }
  },
  {
   "cell_type": "code",
   "execution_count": 9,
   "outputs": [
    {
     "name": "stdout",
     "output_type": "stream",
     "text": [
      "5.0 * x^3 * y^2 * z + 2.0 * x^2 - 3.0 * x^2 * y * z^2 - 3.0 * x + 7.0 * x * y * z + 5.0 - 10.0 * z^2\n"
     ]
    }
   ],
   "source": [
    "print(p7 + p12)"
   ],
   "metadata": {
    "collapsed": false
   }
  },
  {
   "cell_type": "code",
   "execution_count": 10,
   "outputs": [
    {
     "name": "stdout",
     "output_type": "stream",
     "text": [
      "5.0 * x^3 * y^2 * z - 3.0 * x^2 * y * z^2 + 2.0 * x^2 + 7.0 * x * y * z - 3.0 * x - 10.0 * z^2 + 5.0\n"
     ]
    }
   ],
   "source": [
    "print(p12 + p7)"
   ],
   "metadata": {
    "collapsed": false
   }
  },
  {
   "cell_type": "code",
   "execution_count": 11,
   "outputs": [
    {
     "name": "stdout",
     "output_type": "stream",
     "text": [
      "-----\n",
      "p7 - p8\n",
      "{(2, 0, 0): 2.0, (1, 0, 0): -3.0, (0, 0, 0): 5.0, (2, 1, 0): -2.0, (1, 2, 0): 3.0, (0, 1, 0): -5.0}\n",
      "-----\n",
      "p7 - p9\n",
      "{(2, 0, 0): 2.0, (1, 0, 0): -3.0, (0, 0, 0): 5.0, (2, 2, 0): 1.0, (1, 1, 0): -4.0, (0, 0, 3): 7.0}\n",
      "-----\n",
      "p7 - p10\n",
      "{(2, 0, 0): 2.0, (1, 0, 0): -3.0, (0, 0, 0): 5.0, (3, 2, 1): -5.0, (2, 1, 2): 3.0, (1, 1, 1): -7.0, (0, 0, 2): 10.0}\n"
     ]
    }
   ],
   "source": [
    "for i, poly in enumerate(polynomials, start=8):\n",
    "    print(\"-----\")\n",
    "    print(f\"p7 - p{i}\")\n",
    "    print((p7 - poly).coeff)"
   ],
   "metadata": {
    "collapsed": false
   }
  },
  {
   "cell_type": "markdown",
   "source": [
    "----\n",
    "&nbsp;\n",
    "## Testing `__call__`"
   ],
   "metadata": {
    "collapsed": false
   }
  },
  {
   "cell_type": "code",
   "execution_count": 12,
   "outputs": [
    {
     "name": "stdout",
     "output_type": "stream",
     "text": [
      "p9: 5.0 * x^3 - 3.0 * x^2 + 7.0 * x - 10.0\n",
      "False\n"
     ]
    },
    {
     "data": {
      "text/plain": "290.0"
     },
     "execution_count": 12,
     "metadata": {},
     "output_type": "execute_result"
    }
   ],
   "source": [
    "print(f\"p9: {p9}\")\n",
    "print(p9.is_multivariate)\n",
    "p9(4)"
   ],
   "metadata": {
    "collapsed": false
   }
  },
  {
   "cell_type": "code",
   "execution_count": 13,
   "outputs": [
    {
     "name": "stdout",
     "output_type": "stream",
     "text": [
      "p12: 5.0 * x^3 * y^2 * z - 3.0 * x^2 * y * z^2 + 7.0 * x * y * z - 10.0 * z^2\n"
     ]
    },
    {
     "data": {
      "text/plain": "5312.0"
     },
     "execution_count": 13,
     "metadata": {},
     "output_type": "execute_result"
    }
   ],
   "source": [
    "print(f\"p12: {p12}\")\n",
    "p12(4, 3, 2)"
   ],
   "metadata": {
    "collapsed": false
   }
  },
  {
   "cell_type": "markdown",
   "source": [
    "## Testing `plot()`"
   ],
   "metadata": {
    "collapsed": false
   }
  },
  {
   "cell_type": "code",
   "execution_count": 14,
   "outputs": [
    {
     "data": {
      "text/plain": "<Figure size 640x480 with 1 Axes>",
      "image/png": "[encoded data removed]"
     },
     "metadata": {},
     "output_type": "display_data"
    }
   ],
   "source": [
    "p9.plot(-5, 5)"
   ],
   "metadata": {
    "collapsed": false
   }
  },
  {
   "cell_type": "code",
   "execution_count": 15,
   "outputs": [
    {
     "name": "stdout",
     "output_type": "stream",
     "text": [
      "15.0 * x^2 - 6.0 * x + 7.0\n"
     ]
    }
   ],
   "source": [
    "dp9 = p9.differentiate()\n",
    "print(dp9)"
   ],
   "metadata": {
    "collapsed": false
   }
  },
  {
   "cell_type": "code",
   "execution_count": 16,
   "outputs": [
    {
     "data": {
      "text/plain": "(1.0597580762092567, True, 4)"
     },
     "execution_count": 16,
     "metadata": {},
     "output_type": "execute_result"
    }
   ],
   "source": [
    "p9.newton(0.5)"
   ],
   "metadata": {
    "collapsed": false
   }
  },
  {
   "cell_type": "markdown",
   "source": [
    "----"
   ],
   "metadata": {
    "collapsed": false
   }
  },
  {
   "cell_type": "markdown",
   "source": [
    "## Try a Quartic"
   ],
   "metadata": {
    "collapsed": false
   }
  },
  {
   "cell_type": "code",
   "execution_count": 17,
   "outputs": [
    {
     "name": "stdout",
     "output_type": "stream",
     "text": [
      "p13: x^4 - 8.0 * x^3 + 23.0 * x^2 - 26.0 * x + 6.25\n"
     ]
    },
    {
     "data": {
      "text/plain": "<Figure size 640x480 with 1 Axes>",
      "image/png": "[encoded data removed]"
     },
     "metadata": {},
     "output_type": "display_data"
    },
    {
     "name": "stdout",
     "output_type": "stream",
     "text": [
      "derivative: 4.0 * x^3 - 24.0 * x^2 + 46.0 * x - 26.0\n"
     ]
    }
   ],
   "source": [
    "poly13 = decompose_polynomial(\"x^4-8*x^3+ 23*x^2 - 26*x + 6.25\")\n",
    "p13 = UniPoly(poly13)\n",
    "\n",
    "print(f\"p13: {p13}\")\n",
    "p13.plot(-5, 5)\n",
    "dp13 = p13.differentiate()\n",
    "print(f\"derivative: {dp13}\")"
   ],
   "metadata": {
    "collapsed": false
   }
  },
  {
   "cell_type": "code",
   "execution_count": 18,
   "outputs": [
    {
     "data": {
      "text/plain": "(0.32246327598946956, True, 3)"
     },
     "execution_count": 18,
     "metadata": {},
     "output_type": "execute_result"
    }
   ],
   "source": [
    "p13.newton(0.5)"
   ],
   "metadata": {
    "collapsed": false
   }
  },
  {
   "cell_type": "code",
   "execution_count": 19,
   "outputs": [
    {
     "data": {
      "text/plain": "(2.9320716171852697, True, 2)"
     },
     "execution_count": 19,
     "metadata": {},
     "output_type": "execute_result"
    }
   ],
   "source": [
    "p13.newton(3)"
   ],
   "metadata": {
    "collapsed": false
   }
  },
  {
   "cell_type": "markdown",
   "source": [
    "The other two roots are complex"
   ],
   "metadata": {
    "collapsed": false
   }
  },
  {
   "cell_type": "markdown",
   "source": [
    "----"
   ],
   "metadata": {
    "collapsed": false
   }
  },
  {
   "cell_type": "markdown",
   "source": [
    "## Try a Cubic"
   ],
   "metadata": {
    "collapsed": false
   }
  },
  {
   "cell_type": "code",
   "execution_count": 20,
   "outputs": [
    {
     "name": "stdout",
     "output_type": "stream",
     "text": [
      "p14: x^3 - 5.0 * x^2 + 4.0 * x + 3.0\n"
     ]
    },
    {
     "data": {
      "text/plain": "<Figure size 640x480 with 1 Axes>",
      "image/png": "[encoded data removed]"
     },
     "metadata": {},
     "output_type": "display_data"
    },
    {
     "name": "stdout",
     "output_type": "stream",
     "text": [
      "derivative: 3.0 * x^2 - 10.0 * x + 4.0\n"
     ]
    }
   ],
   "source": [
    "poly14 = decompose_polynomial(\"x^3 - 5*x^2 + 4*x +3\")\n",
    "p14 = UniPoly(poly14)\n",
    "\n",
    "print(f\"p14: {p14}\")\n",
    "p14.plot(-1, 5)\n",
    "dp14 = p14.differentiate()\n",
    "print(f\"derivative: {dp14}\")"
   ],
   "metadata": {
    "collapsed": false
   }
  },
  {
   "cell_type": "code",
   "execution_count": 21,
   "outputs": [
    {
     "data": {
      "text/plain": "(-0.4605056069250443, True, 2)"
     },
     "execution_count": 21,
     "metadata": {},
     "output_type": "execute_result"
    }
   ],
   "source": [
    "p14.newton(-0.5)"
   ],
   "metadata": {
    "collapsed": false
   }
  },
  {
   "cell_type": "code",
   "execution_count": 22,
   "outputs": [
    {
     "data": {
      "text/plain": "(1.7608695652173914, True, 2)"
     },
     "execution_count": 22,
     "metadata": {},
     "output_type": "execute_result"
    }
   ],
   "source": [
    "p14.newton(2)"
   ],
   "metadata": {
    "collapsed": false
   }
  },
  {
   "cell_type": "code",
   "execution_count": 23,
   "outputs": [
    {
     "data": {
      "text/plain": "(3.6996291078458654, True, 3)"
     },
     "execution_count": 23,
     "metadata": {},
     "output_type": "execute_result"
    }
   ],
   "source": [
    "p14.newton(3.5)"
   ],
   "metadata": {
    "collapsed": false
   }
  },
  {
   "cell_type": "markdown",
   "source": [
    "----"
   ],
   "metadata": {
    "collapsed": false
   }
  },
  {
   "cell_type": "code",
   "execution_count": 23,
   "outputs": [],
   "source": [],
   "metadata": {
    "collapsed": false
   }
  }
 ],
 "metadata": {
  "kernelspec": {
   "display_name": "Python 3",
   "language": "python",
   "name": "python3"
  },
  "language_info": {
   "codemirror_mode": {
    "name": "ipython",
    "version": 2
   },
   "file_extension": ".py",
   "mimetype": "text/x-python",
   "name": "python",
   "nbconvert_exporter": "python",
   "pygments_lexer": "ipython2",
   "version": "2.7.6"
  }
 },
 "nbformat": 4,
 "nbformat_minor": 0
}
