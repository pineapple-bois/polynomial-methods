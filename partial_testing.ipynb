{
 "cells": [
  {
   "cell_type": "markdown",
   "source": [
    "# Multivariate Polynomials"
   ],
   "metadata": {
    "collapsed": false
   }
  },
  {
   "cell_type": "code",
   "execution_count": 1,
   "outputs": [],
   "source": [
    "from py_files.poly_dictionary import decompose_polynomial\n",
    "from py_files.Polynomial import *"
   ],
   "metadata": {
    "collapsed": false,
    "ExecuteTime": {
     "end_time": "2023-07-02T00:09:36.855773Z",
     "start_time": "2023-07-02T00:09:35.602068Z"
    }
   }
  },
  {
   "cell_type": "markdown",
   "source": [
    "## Checking instantiation"
   ],
   "metadata": {
    "collapsed": false
   }
  },
  {
   "cell_type": "markdown",
   "source": [
    "Session polynomials can be edited here"
   ],
   "metadata": {
    "collapsed": false
   }
  },
  {
   "cell_type": "code",
   "execution_count": 2,
   "outputs": [],
   "source": [
    "poly1 = decompose_polynomial(\"2*x + 3*y**2\")\n",
    "poly2 = decompose_polynomial(\"5*x**2 - 2.5*x*y + 7.5*y**2 - 4.5\")\n",
    "poly3 = decompose_polynomial(\"10.5*x**3 - 8*x**2*y + 6*x*y**2 - 4*y**3 + 2*x + 3.25\")"
   ],
   "metadata": {
    "collapsed": false,
    "ExecuteTime": {
     "end_time": "2023-07-02T00:09:38.917709Z",
     "start_time": "2023-07-02T00:09:38.910723Z"
    }
   }
  },
  {
   "cell_type": "code",
   "execution_count": 4,
   "outputs": [],
   "source": [
    "poly4 = decompose_polynomial(\"x**2 + 2*x*y + 3*x*z + y**2 + 4*y*z + z**2\")\n",
    "poly5 = decompose_polynomial(\"2.5*x**3*y**2*z**2 + 3.5*x**2*y*z - 4*x*y**3 + 5*x*y*z**3 - 6*x**2*z**2 + 7*y**2*z**2\")\n",
    "poly6 = decompose_polynomial(\"8*x**4*y**3*z**2 - 7*x**3*y*z**3 + 6*x**2*y**2*z - 5*x*y*z**4 + 4*x**3*z**2 - 3*x*y**2*z**3 + 2*x*z**4 - y**3*z**2 + 9*z**5 + 2.25\")"
   ],
   "metadata": {
    "collapsed": false,
    "ExecuteTime": {
     "end_time": "2023-07-02T00:09:43.124048Z",
     "start_time": "2023-07-02T00:09:42.993127Z"
    }
   }
  },
  {
   "cell_type": "markdown",
   "source": [
    "----\n",
    "&nbsp;\n",
    "### Bi-variate cases"
   ],
   "metadata": {
    "collapsed": false
   }
  },
  {
   "cell_type": "code",
   "execution_count": 5,
   "outputs": [],
   "source": [
    "p1 = BiVarPoly(poly1)\n",
    "p2 = BiVarPoly(poly2)\n",
    "p3 = BiVarPoly(poly3)"
   ],
   "metadata": {
    "collapsed": false,
    "ExecuteTime": {
     "end_time": "2023-07-02T00:09:43.201947Z",
     "start_time": "2023-07-02T00:09:43.006833Z"
    }
   }
  },
  {
   "cell_type": "markdown",
   "source": [
    "# Big DEBUG required!"
   ],
   "metadata": {
    "collapsed": false
   }
  },
  {
   "cell_type": "code",
   "execution_count": 6,
   "outputs": [
    {
     "name": "stdout",
     "output_type": "stream",
     "text": [
      "True\n",
      "True\n",
      "True\n",
      "True\n",
      "True\n",
      "True\n"
     ]
    }
   ],
   "source": [
    "print(p1.is_bivariate)\n",
    "print(p1.is_multivariate)\n",
    "print(p2.is_bivariate)\n",
    "print(p2.is_multivariate)\n",
    "print(p3.is_bivariate)\n",
    "print(p3.is_multivariate)"
   ],
   "metadata": {
    "collapsed": false,
    "ExecuteTime": {
     "end_time": "2023-07-02T00:09:43.213245Z",
     "start_time": "2023-07-02T00:09:43.018132Z"
    }
   }
  },
  {
   "cell_type": "code",
   "execution_count": 7,
   "outputs": [
    {
     "name": "stdout",
     "output_type": "stream",
     "text": [
      "---\n",
      "p1:\n",
      "3.0 * y^2 + 2.0 * x\n",
      "Bi-variate? True\n",
      "---\n",
      "p2:\n",
      "5.0 * x^2 - 2.5 * x * y + 7.5 * y^2 - 4.5\n",
      "Bi-variate? True\n",
      "---\n",
      "p3:\n",
      "10.5 * x^3 - 8.0 * x^2 * y + 6.0 * x * y^2 - 4.0 * y^3 + 2.0 * x + 3.25\n",
      "Bi-variate? True\n"
     ]
    }
   ],
   "source": [
    "bipolys = [p1, p2, p3]\n",
    "for i, poly in enumerate(bipolys, start=1):\n",
    "    print(\"---\")\n",
    "    print(f\"p{i}:\\n{poly}\")\n",
    "    print(f\"Bi-variate? {poly.is_bivariate}\")"
   ],
   "metadata": {
    "collapsed": false,
    "ExecuteTime": {
     "end_time": "2023-07-02T00:09:43.215303Z",
     "start_time": "2023-07-02T00:09:43.024098Z"
    }
   }
  },
  {
   "cell_type": "markdown",
   "source": [
    "Send to SymPy"
   ],
   "metadata": {
    "collapsed": false,
    "ExecuteTime": {
     "end_time": "2023-07-01T22:37:39.549986Z",
     "start_time": "2023-07-01T22:37:39.282094Z"
    }
   },
   "outputs": [],
   "execution_count": 7
  },
  {
   "cell_type": "code",
   "execution_count": 8,
   "outputs": [],
   "source": [
    "symp1 = p1.save_as_sympy(rational=True)\n",
    "symp2 = p2.save_as_sympy(rational=True)\n",
    "symp3 = p3.save_as_sympy(rational=True)"
   ],
   "metadata": {
    "collapsed": false,
    "ExecuteTime": {
     "end_time": "2023-07-02T00:09:43.230237Z",
     "start_time": "2023-07-02T00:09:43.030096Z"
    }
   }
  },
  {
   "cell_type": "code",
   "execution_count": 9,
   "outputs": [
    {
     "data": {
      "text/plain": "Poly(2*x + 3*y**2, x, y, domain='ZZ')",
      "text/latex": "$\\displaystyle \\operatorname{Poly}{\\left( 2 x + 3 y^{2}, x, y, domain=\\mathbb{Z} \\right)}$"
     },
     "metadata": {},
     "output_type": "display_data"
    },
    {
     "data": {
      "text/plain": "Poly(5*x**2 - 5/2*x*y + 15/2*y**2 - 9/2, x, y, domain='QQ')",
      "text/latex": "$\\displaystyle \\operatorname{Poly}{\\left( 5 x^{2} -  \\frac{5}{2} xy + \\frac{15}{2} y^{2} -  \\frac{9}{2}, x, y, domain=\\mathbb{Q} \\right)}$"
     },
     "metadata": {},
     "output_type": "display_data"
    },
    {
     "data": {
      "text/plain": "Poly(21/2*x**3 - 8*x**2*y + 6*x*y**2 + 2*x - 4*y**3 + 13/4, x, y, domain='QQ')",
      "text/latex": "$\\displaystyle \\operatorname{Poly}{\\left( \\frac{21}{2} x^{3} - 8 x^{2}y + 6 xy^{2} + 2 x - 4 y^{3} + \\frac{13}{4}, x, y, domain=\\mathbb{Q} \\right)}$"
     },
     "metadata": {},
     "output_type": "display_data"
    }
   ],
   "source": [
    "display(symp1)\n",
    "display(symp2)\n",
    "display(symp3)"
   ],
   "metadata": {
    "collapsed": false,
    "ExecuteTime": {
     "end_time": "2023-07-02T00:09:43.248648Z",
     "start_time": "2023-07-02T00:09:43.071009Z"
    }
   }
  },
  {
   "cell_type": "markdown",
   "source": [
    "----\n",
    "Incorrect instantiation"
   ],
   "metadata": {
    "collapsed": false,
    "ExecuteTime": {
     "end_time": "2023-07-01T22:37:39.550219Z",
     "start_time": "2023-07-01T22:37:39.332539Z"
    }
   },
   "outputs": [],
   "execution_count": 9
  },
  {
   "cell_type": "code",
   "execution_count": 10,
   "outputs": [],
   "source": [
    "p_error_bi = BiVarPoly(decompose_polynomial(\"x**2 + 2*x*y + 3*x*z + y**2 + 4*y*z + z**2\"))"
   ],
   "metadata": {
    "collapsed": false,
    "ExecuteTime": {
     "end_time": "2023-07-02T00:09:43.250701Z",
     "start_time": "2023-07-02T00:09:43.077207Z"
    }
   }
  },
  {
   "cell_type": "markdown",
   "source": [
    "----\n",
    "&nbsp;\n",
    "### Tri-variate cases"
   ],
   "metadata": {
    "collapsed": false,
    "ExecuteTime": {
     "end_time": "2023-07-01T22:37:39.550250Z",
     "start_time": "2023-07-01T22:37:39.335271Z"
    }
   },
   "outputs": [],
   "execution_count": 10
  },
  {
   "cell_type": "code",
   "execution_count": 11,
   "outputs": [],
   "source": [
    "p4 = TriVarPoly(poly4)\n",
    "p5 = TriVarPoly(poly5)\n",
    "p6 = TriVarPoly(poly6)"
   ],
   "metadata": {
    "collapsed": false,
    "ExecuteTime": {
     "end_time": "2023-07-02T00:09:43.250811Z",
     "start_time": "2023-07-02T00:09:43.080435Z"
    }
   }
  },
  {
   "cell_type": "code",
   "execution_count": 12,
   "outputs": [
    {
     "name": "stdout",
     "output_type": "stream",
     "text": [
      "---\n",
      "p4:\n",
      "x^2 + 2.0 * x * y + 3.0 * x * z + y^2 + 4.0 * y * z + z^2\n",
      "Tri-variate? True\n",
      "---\n",
      "p5:\n",
      "2.5 * x^3 * y^2 * z^2 + 5.0 * x * y * z^3 + 3.5 * x^2 * y * z - 4.0 * x * y^3 - 6.0 * x^2 * z^2 + 7.0 * y^2 * z^2\n",
      "Tri-variate? True\n",
      "---\n",
      "p6:\n",
      "8.0 * x^4 * y^3 * z^2 - 7.0 * x^3 * y * z^3 - 5.0 * x * y * z^4 - 3.0 * x * y^2 * z^3 + 6.0 * x^2 * y^2 * z + 4.0 * x^3 * z^2 + 2.0 * x * z^4 - y^3 * z^2 + 9.0 * z^5 + 2.25\n",
      "Tri-variate? True\n"
     ]
    }
   ],
   "source": [
    "tripolys = [p4, p5, p6]\n",
    "for i, poly in enumerate(tripolys, start=4):\n",
    "    print(\"---\")\n",
    "    print(f\"p{i}:\\n{poly}\")\n",
    "    print(f\"Tri-variate? {poly.is_trivariate}\")"
   ],
   "metadata": {
    "collapsed": false,
    "ExecuteTime": {
     "end_time": "2023-07-02T00:09:43.255138Z",
     "start_time": "2023-07-02T00:09:43.084239Z"
    }
   }
  },
  {
   "cell_type": "code",
   "execution_count": 13,
   "outputs": [],
   "source": [
    "symp4 = p4.save_as_sympy(rational=True)\n",
    "symp5 = p5.save_as_sympy(rational=True)\n",
    "symp6 = p6.save_as_sympy(rational=True)"
   ],
   "metadata": {
    "collapsed": false,
    "ExecuteTime": {
     "end_time": "2023-07-02T00:09:43.280798Z",
     "start_time": "2023-07-02T00:09:43.099332Z"
    }
   }
  },
  {
   "cell_type": "code",
   "execution_count": 14,
   "outputs": [
    {
     "data": {
      "text/plain": "Poly(x**2 + 2*x*y + 3*x*z + y**2 + 4*y*z + z**2, x, y, z, domain='ZZ')",
      "text/latex": "$\\displaystyle \\operatorname{Poly}{\\left( x^{2} + 2 xy + 3 xz + y^{2} + 4 yz + z^{2}, x, y, z, domain=\\mathbb{Z} \\right)}$"
     },
     "metadata": {},
     "output_type": "display_data"
    },
    {
     "data": {
      "text/plain": "Poly(5/2*x**3*y**2*z**2 + 7/2*x**2*y*z - 6*x**2*z**2 - 4*x*y**3 + 5*x*y*z**3 + 7*y**2*z**2, x, y, z, domain='QQ')",
      "text/latex": "$\\displaystyle \\operatorname{Poly}{\\left( \\frac{5}{2} x^{3}y^{2}z^{2} + \\frac{7}{2} x^{2}yz - 6 x^{2}z^{2} - 4 xy^{3} + 5 xyz^{3} + 7 y^{2}z^{2}, x, y, z, domain=\\mathbb{Q} \\right)}$"
     },
     "metadata": {},
     "output_type": "display_data"
    },
    {
     "data": {
      "text/plain": "Poly(8*x**4*y**3*z**2 - 7*x**3*y*z**3 + 4*x**3*z**2 + 6*x**2*y**2*z - 3*x*y**2*z**3 - 5*x*y*z**4 + 2*x*z**4 - y**3*z**2 + 9*z**5 + 9/4, x, y, z, domain='QQ')",
      "text/latex": "$\\displaystyle \\operatorname{Poly}{\\left( 8 x^{4}y^{3}z^{2} - 7 x^{3}yz^{3} + 4 x^{3}z^{2} + 6 x^{2}y^{2}z - 3 xy^{2}z^{3} - 5 xyz^{4} + 2 xz^{4} - y^{3}z^{2} + 9 z^{5} + \\frac{9}{4}, x, y, z, domain=\\mathbb{Q} \\right)}$"
     },
     "metadata": {},
     "output_type": "display_data"
    }
   ],
   "source": [
    "display(symp4)\n",
    "display(symp5)\n",
    "display(symp6)"
   ],
   "metadata": {
    "collapsed": false,
    "ExecuteTime": {
     "end_time": "2023-07-02T00:09:43.281972Z",
     "start_time": "2023-07-02T00:09:43.107394Z"
    }
   }
  },
  {
   "cell_type": "markdown",
   "source": [
    "----\n",
    "&nbsp;\n",
    "Incorrect instantiation"
   ],
   "metadata": {
    "collapsed": false,
    "ExecuteTime": {
     "end_time": "2023-07-01T22:37:39.591745Z",
     "start_time": "2023-07-01T22:37:39.367466Z"
    }
   },
   "outputs": [],
   "execution_count": 14
  },
  {
   "cell_type": "code",
   "execution_count": 15,
   "outputs": [],
   "source": [
    "p_error_tri = TriVarPoly(decompose_polynomial(\"10.5*x**3 - 8*x**2*y + 6*x*y**2 - 4*y**3 + 2*x + 3.25\"))"
   ],
   "metadata": {
    "collapsed": false,
    "ExecuteTime": {
     "end_time": "2023-07-02T00:09:43.282049Z",
     "start_time": "2023-07-02T00:09:43.115474Z"
    }
   }
  },
  {
   "cell_type": "markdown",
   "source": [
    "----\n",
    "&nbsp;\n",
    "### Arithmetic operations on Bi and Tri instances should form Tri-variate Poly"
   ],
   "metadata": {
    "collapsed": false,
    "ExecuteTime": {
     "end_time": "2023-07-01T22:37:39.591814Z",
     "start_time": "2023-07-01T22:37:39.371105Z"
    }
   },
   "outputs": [
    {
     "name": "stdout",
     "output_type": "stream",
     "text": [
      "---\n",
      "2.5 * x^3 * y^2 * z^2 + 5.0 * x * y * z^3 + 3.5 * x^2 * y * z - 4.0 * x * y^3 - 6.0 * x^2 * z^2 + 7.0 * y^2 * z^2 + 5.0 * x^2 - 2.5 * x * y + 8.5 * y^2 - 4.5\n",
      "Number of variables? 3\n",
      "---\n",
      "-2.5 * x^3 * y^2 * z^2 - 5.0 * x * y * z^3 - 3.5 * x^2 * y * z + 4.0 * x * y^3 + 6.0 * x^2 * z^2 - 7.0 * y^2 * z^2 + 5.0 * x^2 - 2.5 * x * y + 8.5 * y^2 - 4.5\n",
      "Number of variables? 3\n",
      "---\n",
      "12.5 * x^5 * y^2 * z^2 - 6.25 * x^4 * y^3 * z^2 + 21.25 * x^3 * y^4 * z^2 + 25.0 * x^3 * y * z^3 - 12.5 * x^2 * y^2 * z^3 + 42.5 * x * y^3 * z^3 - 11.25 * x^3 * y^2 * z^2 + 17.5 * x^4 * y * z - 20.0 * x^3 * y^3 - 30.0 * x^4 * z^2 - 16.0 * x^2 * y^2 * z^2 - 8.75 * x^3 * y^2 * z + 10.0 * x^2 * y^4 + 15.0 * x^3 * y * z^2 - 17.5 * x * y^3 * z^2 + 29.75 * x^2 * y^3 * z - 34.0 * x * y^5 + 59.5 * y^4 * z^2 - 22.5 * x * y * z^3 - 15.75 * x^2 * y * z + 18.0 * x * y^3 + 27.0 * x^2 * z^2 - 31.5 * y^2 * z^2\n",
      "Number of variables? 3\n",
      "---\n",
      "15.0 * x^3 * y^2 * z^2 + 30.0 * x * y * z^3 + 21.0 * x^2 * y * z - 24.0 * x * y^3 - 36.0 * x^2 * z^2 + 42.0 * y^2 * z^2\n",
      "Number of variables? 3\n"
     ]
    }
   ],
   "execution_count": 15
  },
  {
   "cell_type": "code",
   "execution_count": 16,
   "outputs": [
    {
     "name": "stdout",
     "output_type": "stream",
     "text": [
      "---\n",
      "2.5 * x^3 * y^2 * z^2 + 5.0 * x * y * z^3 + 3.5 * x^2 * y * z - 4.0 * x * y^3 - 6.0 * x^2 * z^2 + 7.0 * y^2 * z^2 + 5.0 * x^2 - 2.5 * x * y + 7.5 * y^2 - 4.5\n",
      "Number of variables? 3\n",
      "---\n",
      "-2.5 * x^3 * y^2 * z^2 - 5.0 * x * y * z^3 - 3.5 * x^2 * y * z + 4.0 * x * y^3 + 6.0 * x^2 * z^2 - 7.0 * y^2 * z^2 + 5.0 * x^2 - 2.5 * x * y + 7.5 * y^2 - 4.5\n",
      "Number of variables? 3\n",
      "---\n",
      "12.5 * x^5 * y^2 * z^2 - 6.25 * x^4 * y^3 * z^2 + 18.75 * x^3 * y^4 * z^2 + 25.0 * x^3 * y * z^3 - 12.5 * x^2 * y^2 * z^3 + 37.5 * x * y^3 * z^3 - 11.25 * x^3 * y^2 * z^2 + 17.5 * x^4 * y * z - 20.0 * x^3 * y^3 - 30.0 * x^4 * z^2 - 10.0 * x^2 * y^2 * z^2 - 8.75 * x^3 * y^2 * z + 10.0 * x^2 * y^4 + 15.0 * x^3 * y * z^2 - 17.5 * x * y^3 * z^2 + 26.25 * x^2 * y^3 * z - 30.0 * x * y^5 + 52.5 * y^4 * z^2 - 22.5 * x * y * z^3 - 15.75 * x^2 * y * z + 18.0 * x * y^3 + 27.0 * x^2 * z^2 - 31.5 * y^2 * z^2\n",
      "Number of variables? 3\n",
      "---\n",
      "15.0 * x^3 * y^2 * z^2 + 30.0 * x * y * z^3 + 21.0 * x^2 * y * z - 24.0 * x * y^3 - 36.0 * x^2 * z^2 + 42.0 * y^2 * z^2\n",
      "Number of variables? 3\n"
     ]
    }
   ],
   "source": [
    "add = p2 + p5\n",
    "sub = p2 - p5\n",
    "mul = p2 * p5\n",
    "scalar = 6 * p5\n",
    "\n",
    "ops = [add, sub, mul, scalar]\n",
    "\n",
    "for op in ops:\n",
    "    print(\"---\")\n",
    "    print(f\"{op}\\nNumber of variables? {op.num_variables}\")"
   ],
   "metadata": {
    "collapsed": false,
    "ExecuteTime": {
     "end_time": "2023-07-02T00:09:43.282132Z",
     "start_time": "2023-07-02T00:09:43.117156Z"
    }
   }
  },
  {
   "cell_type": "markdown",
   "source": [
    "----\n",
    "&nbsp;\n",
    "# Partial Differentiation"
   ],
   "metadata": {
    "collapsed": false
   }
  },
  {
   "cell_type": "markdown",
   "source": [
    "----\n",
    "&nbsp;\n",
    "### Bi-variate"
   ],
   "metadata": {
    "collapsed": false,
    "ExecuteTime": {
     "end_time": "2023-07-01T22:37:39.596817Z",
     "start_time": "2023-07-01T22:37:39.375556Z"
    }
   },
   "outputs": [],
   "execution_count": 16
  },
  {
   "cell_type": "code",
   "execution_count": 17,
   "outputs": [],
   "source": [
    "p1 = BiVarPoly(poly1)\n",
    "p2 = BiVarPoly(poly2)\n",
    "p3 = BiVarPoly(poly3)"
   ],
   "metadata": {
    "collapsed": false,
    "ExecuteTime": {
     "end_time": "2023-07-02T00:09:43.282838Z",
     "start_time": "2023-07-02T00:09:43.123702Z"
    }
   }
  },
  {
   "cell_type": "code",
   "execution_count": 18,
   "outputs": [
    {
     "name": "stdout",
     "output_type": "stream",
     "text": [
      "3.0 * y^2 + 2.0 * x\n",
      "5.0 * x^2 - 2.5 * x * y + 7.5 * y^2 - 4.5\n",
      "10.5 * x^3 - 8.0 * x^2 * y + 6.0 * x * y^2 - 4.0 * y^3 + 2.0 * x + 3.25\n"
     ]
    }
   ],
   "source": [
    "print(p1)\n",
    "print(p2)\n",
    "print(p3)"
   ],
   "metadata": {
    "collapsed": false,
    "ExecuteTime": {
     "end_time": "2023-07-02T00:09:43.283011Z",
     "start_time": "2023-07-02T00:09:43.126844Z"
    }
   }
  },
  {
   "cell_type": "code",
   "execution_count": 19,
   "outputs": [
    {
     "ename": "NameError",
     "evalue": "name 'coefficients' is not defined",
     "output_type": "error",
     "traceback": [
      "\u001B[0;31m---------------------------------------------------------------------------\u001B[0m",
      "\u001B[0;31mNameError\u001B[0m                                 Traceback (most recent call last)",
      "\u001B[0;32m/var/folders/s9/z74lxq2n7d9ct45y9_ffymd00000gn/T/ipykernel_62938/4141630772.py\u001B[0m in \u001B[0;36m<module>\u001B[0;34m\u001B[0m\n\u001B[0;32m----> 1\u001B[0;31m \u001B[0mp1x\u001B[0m \u001B[0;34m=\u001B[0m \u001B[0mp1\u001B[0m\u001B[0;34m.\u001B[0m\u001B[0mpartial_derivative\u001B[0m\u001B[0;34m(\u001B[0m\u001B[0;34m'x'\u001B[0m\u001B[0;34m)\u001B[0m\u001B[0;34m\u001B[0m\u001B[0;34m\u001B[0m\u001B[0m\n\u001B[0m\u001B[1;32m      2\u001B[0m \u001B[0mp1y\u001B[0m \u001B[0;34m=\u001B[0m \u001B[0mp1\u001B[0m\u001B[0;34m.\u001B[0m\u001B[0mpartial_derivative\u001B[0m\u001B[0;34m(\u001B[0m\u001B[0;34m'y'\u001B[0m\u001B[0;34m)\u001B[0m\u001B[0;34m\u001B[0m\u001B[0;34m\u001B[0m\u001B[0m\n\u001B[1;32m      3\u001B[0m \u001B[0;34m\u001B[0m\u001B[0m\n\u001B[1;32m      4\u001B[0m \u001B[0mprint\u001B[0m\u001B[0;34m(\u001B[0m\u001B[0;34mf\"p1: {p1}\\n\"\u001B[0m\u001B[0;34m)\u001B[0m\u001B[0;34m\u001B[0m\u001B[0;34m\u001B[0m\u001B[0m\n\u001B[1;32m      5\u001B[0m \u001B[0mprint\u001B[0m\u001B[0;34m(\u001B[0m\u001B[0;34mf\"p1x: {p1x}\\n{p1x.coeff}\\n\"\u001B[0m\u001B[0;34m)\u001B[0m\u001B[0;34m\u001B[0m\u001B[0;34m\u001B[0m\u001B[0m\n",
      "\u001B[0;32m~/Documents/Study/Stage3/Programming/Github/polynomial-methods/py_files/Polynomial.py\u001B[0m in \u001B[0;36mpartial_derivative\u001B[0;34m(self, variable, second_variable)\u001B[0m\n\u001B[1;32m    405\u001B[0m \u001B[0;34m\u001B[0m\u001B[0m\n\u001B[1;32m    406\u001B[0m         \u001B[0;31m# Determine the appropriate class for the derived polynomial\u001B[0m\u001B[0;34m\u001B[0m\u001B[0;34m\u001B[0m\u001B[0m\n\u001B[0;32m--> 407\u001B[0;31m         \u001B[0;32mif\u001B[0m \u001B[0mself\u001B[0m\u001B[0;34m.\u001B[0m\u001B[0mcount_variables\u001B[0m\u001B[0;34m(\u001B[0m\u001B[0mnew_coeff\u001B[0m\u001B[0;34m)\u001B[0m \u001B[0;34m>\u001B[0m \u001B[0;36m1\u001B[0m\u001B[0;34m:\u001B[0m\u001B[0;34m\u001B[0m\u001B[0;34m\u001B[0m\u001B[0m\n\u001B[0m\u001B[1;32m    408\u001B[0m             \u001B[0mderived_poly\u001B[0m \u001B[0;34m=\u001B[0m \u001B[0mBiVarPoly\u001B[0m\u001B[0;34m(\u001B[0m\u001B[0mnew_coeff\u001B[0m\u001B[0;34m)\u001B[0m\u001B[0;34m\u001B[0m\u001B[0;34m\u001B[0m\u001B[0m\n\u001B[1;32m    409\u001B[0m         \u001B[0;32melse\u001B[0m\u001B[0;34m:\u001B[0m\u001B[0;34m\u001B[0m\u001B[0;34m\u001B[0m\u001B[0m\n",
      "\u001B[0;32m~/Documents/Study/Stage3/Programming/Github/polynomial-methods/py_files/Polynomial.py\u001B[0m in \u001B[0;36mcount_variables\u001B[0;34m(_coeff)\u001B[0m\n\u001B[1;32m     66\u001B[0m     \u001B[0;32mdef\u001B[0m \u001B[0mcount_variables\u001B[0m\u001B[0;34m(\u001B[0m\u001B[0m_coeff\u001B[0m\u001B[0;34m)\u001B[0m\u001B[0;34m:\u001B[0m\u001B[0;34m\u001B[0m\u001B[0;34m\u001B[0m\u001B[0m\n\u001B[1;32m     67\u001B[0m         \u001B[0mmax_variables\u001B[0m \u001B[0;34m=\u001B[0m \u001B[0;36m0\u001B[0m\u001B[0;34m\u001B[0m\u001B[0;34m\u001B[0m\u001B[0m\n\u001B[0;32m---> 68\u001B[0;31m         \u001B[0;32mfor\u001B[0m \u001B[0mpowers\u001B[0m \u001B[0;32min\u001B[0m \u001B[0mcoefficients\u001B[0m\u001B[0;34m.\u001B[0m\u001B[0mkeys\u001B[0m\u001B[0;34m(\u001B[0m\u001B[0;34m)\u001B[0m\u001B[0;34m:\u001B[0m\u001B[0;34m\u001B[0m\u001B[0;34m\u001B[0m\u001B[0m\n\u001B[0m\u001B[1;32m     69\u001B[0m             \u001B[0mvariables\u001B[0m \u001B[0;34m=\u001B[0m \u001B[0msum\u001B[0m\u001B[0;34m(\u001B[0m\u001B[0;36m1\u001B[0m \u001B[0;32mfor\u001B[0m \u001B[0mpower\u001B[0m \u001B[0;32min\u001B[0m \u001B[0mpowers\u001B[0m \u001B[0;32mif\u001B[0m \u001B[0mpower\u001B[0m \u001B[0;34m!=\u001B[0m \u001B[0;36m0\u001B[0m\u001B[0;34m)\u001B[0m\u001B[0;34m\u001B[0m\u001B[0;34m\u001B[0m\u001B[0m\n\u001B[1;32m     70\u001B[0m             \u001B[0;32mif\u001B[0m \u001B[0mvariables\u001B[0m \u001B[0;34m>\u001B[0m \u001B[0mmax_variables\u001B[0m\u001B[0;34m:\u001B[0m\u001B[0;34m\u001B[0m\u001B[0;34m\u001B[0m\u001B[0m\n",
      "\u001B[0;31mNameError\u001B[0m: name 'coefficients' is not defined"
     ]
    }
   ],
   "source": [
    "p1x = p1.partial_derivative('x')\n",
    "p1y = p1.partial_derivative('y')\n",
    "\n",
    "print(f\"p1: {p1}\\n\")\n",
    "print(f\"p1x: {p1x}\\n{p1x.coeff}\\n\")\n",
    "print(f\"p1y: {p1y}\\n{p1y.coeff}\")"
   ],
   "metadata": {
    "collapsed": false,
    "ExecuteTime": {
     "end_time": "2023-07-02T00:09:43.367110Z",
     "start_time": "2023-07-02T00:09:43.129779Z"
    }
   }
  },
  {
   "cell_type": "code",
   "execution_count": null,
   "outputs": [],
   "source": [
    "p2x = p2.partial_derivative('x')\n",
    "p2y = p2.partial_derivative('y')\n",
    "\n",
    "print(f\"p2: {p2}\\n\")\n",
    "print(f\"p2x: {p2x}\\n{p2x.coeff}\\n\")\n",
    "print(f\"p2y: {p2y}\\n{p2y.coeff}\")"
   ],
   "metadata": {
    "collapsed": false,
    "ExecuteTime": {
     "start_time": "2023-07-02T00:09:43.246250Z"
    }
   }
  },
  {
   "cell_type": "code",
   "execution_count": null,
   "outputs": [],
   "source": [
    "p3x = p3.partial_derivative('x')\n",
    "p3y = p3.partial_derivative('y')\n",
    "\n",
    "print(f\"p3: {p3}\\n\")\n",
    "print(f\"p3x: {p3x}\\n{p3x.coeff}\\n\")\n",
    "print(f\"p3y: {p3y}\\n{p3y.coeff}\")"
   ],
   "metadata": {
    "collapsed": false,
    "ExecuteTime": {
     "start_time": "2023-07-02T00:09:43.248017Z"
    }
   }
  },
  {
   "cell_type": "markdown",
   "source": [
    "----\n",
    "&nbsp;\n",
    "#### Second partial derivatives,\n",
    "##### $\\frac{\\partial^2 f}{\\partial x^2} = f_{xx}$  and   $\\frac{\\partial^2 f}{\\partial y^2} = f_{yy}$\n",
    "&nbsp;\n",
    "#### Mixed partial derivatives,\n",
    "##### $\\frac{\\partial^2 f}{\\partial x \\partial y} = f_{xy}$  and   $\\frac{\\partial^2 f}{\\partial y \\partial x} = f_{xy}$\n",
    "&nbsp;\n",
    "##### Where, $f_{xy} = f_{yx}$ by the [Mixed Partial Derivative](https://en.wikipedia.org/wiki/Symmetry_of_second_derivatives) Theorem.\n"
   ],
   "metadata": {
    "collapsed": false,
    "ExecuteTime": {
     "end_time": "2023-07-01T22:37:39.614037Z",
     "start_time": "2023-07-01T22:37:39.391263Z"
    }
   },
   "outputs": [
    {
     "name": "stdout",
     "output_type": "stream",
     "text": [
      "10.5 * x^3 - 8.0 * x^2 * y + 6.0 * x * y^2 - 4.0 * y^3 + 2.0 * x + 3.25\n"
     ]
    }
   ],
   "execution_count": 21
  },
  {
   "cell_type": "code",
   "execution_count": null,
   "outputs": [],
   "source": [
    "print(p3)"
   ],
   "metadata": {
    "collapsed": false,
    "ExecuteTime": {
     "start_time": "2023-07-02T00:09:43.249746Z"
    }
   }
  },
  {
   "cell_type": "code",
   "execution_count": null,
   "outputs": [],
   "source": [
    "x, y = sympy.symbols('x y')\n",
    "symp3 = p3.save_as_sympy(rational=True)\n",
    "display(symp3.args[0])"
   ],
   "metadata": {
    "collapsed": false,
    "ExecuteTime": {
     "start_time": "2023-07-02T00:09:43.251529Z"
    }
   }
  },
  {
   "cell_type": "code",
   "execution_count": null,
   "outputs": [],
   "source": [
    "# Declare second partial derivatives\n",
    "p3xx = p3.partial_derivative('x', 'x')\n",
    "p3xy = p3.partial_derivative('x', 'y')\n",
    "p3yx = p3.partial_derivative('y', 'x')\n",
    "p3yy = p3.partial_derivative('y', 'y')"
   ],
   "metadata": {
    "collapsed": false,
    "ExecuteTime": {
     "start_time": "2023-07-02T00:09:43.253194Z"
    }
   }
  },
  {
   "cell_type": "code",
   "execution_count": null,
   "outputs": [],
   "source": [
    "print(f\"p3xx: {p3xx}\\n{p3xx.coeff}\\n\")"
   ],
   "metadata": {
    "collapsed": false,
    "ExecuteTime": {
     "start_time": "2023-07-02T00:09:43.254957Z"
    }
   }
  },
  {
   "cell_type": "code",
   "execution_count": null,
   "outputs": [],
   "source": [
    "symp3xx = symp3.diff(x, x)\n",
    "display(symp3xx.args[0])"
   ],
   "metadata": {
    "collapsed": false,
    "ExecuteTime": {
     "start_time": "2023-07-02T00:09:43.256732Z"
    }
   }
  },
  {
   "cell_type": "code",
   "execution_count": null,
   "outputs": [],
   "source": [
    "# Mixed partial derivatives\n",
    "print(f\"p3xy: {p3xy}\\n{p3xy.coeff}\")\n",
    "print(f\"p3yx: {p3yx}\\n{p3yx.coeff}\")"
   ],
   "metadata": {
    "collapsed": false,
    "ExecuteTime": {
     "start_time": "2023-07-02T00:09:43.258492Z"
    }
   }
  },
  {
   "cell_type": "code",
   "execution_count": null,
   "outputs": [],
   "source": [
    "symp3xy = symp3.diff(x, y)\n",
    "symp3yx = symp3.diff(y, x)\n",
    "display(symp3xy.args[0])\n",
    "display(symp3yx.args[0])"
   ],
   "metadata": {
    "collapsed": false,
    "ExecuteTime": {
     "start_time": "2023-07-02T00:09:43.260107Z"
    }
   }
  },
  {
   "cell_type": "code",
   "execution_count": null,
   "outputs": [],
   "source": [
    "print(f\"p3yy: {p3yy}\\n{p3yy.coeff}\\n\")"
   ],
   "metadata": {
    "collapsed": false,
    "ExecuteTime": {
     "start_time": "2023-07-02T00:09:43.261815Z"
    }
   }
  },
  {
   "cell_type": "code",
   "execution_count": null,
   "outputs": [],
   "source": [
    "symp3yy = symp3.diff(y, y)\n",
    "display(symp3yy.args[0])"
   ],
   "metadata": {
    "collapsed": false,
    "ExecuteTime": {
     "start_time": "2023-07-02T00:09:43.263803Z"
    }
   }
  },
  {
   "cell_type": "markdown",
   "source": [
    "----"
   ],
   "metadata": {
    "collapsed": false
   }
  },
  {
   "cell_type": "markdown",
   "source": [
    "----\n",
    "&nbsp;\n",
    "# Tri-variate"
   ],
   "metadata": {
    "collapsed": false,
    "ExecuteTime": {
     "end_time": "2023-07-01T22:37:39.735896Z",
     "start_time": "2023-07-01T22:37:39.554079Z"
    }
   },
   "outputs": [],
   "execution_count": 30
  },
  {
   "cell_type": "code",
   "execution_count": null,
   "outputs": [],
   "source": [
    "p4 = TriVarPoly(poly4)\n",
    "p5 = TriVarPoly(poly5)\n",
    "p6 = TriVarPoly(poly6)"
   ],
   "metadata": {
    "collapsed": false,
    "ExecuteTime": {
     "start_time": "2023-07-02T00:09:43.265376Z"
    }
   }
  },
  {
   "cell_type": "code",
   "execution_count": null,
   "outputs": [],
   "source": [
    "x, y, z = sympy.symbols('x y z')\n",
    "\n",
    "symp4 = p4.save_as_sympy(rational=True)\n",
    "symp5 = p5.save_as_sympy(rational=True)\n",
    "symp6 = p6.save_as_sympy(rational=True)"
   ],
   "metadata": {
    "collapsed": false,
    "ExecuteTime": {
     "start_time": "2023-07-02T00:09:43.266997Z"
    }
   }
  },
  {
   "cell_type": "markdown",
   "source": [
    "----\n",
    "&nbsp;\n",
    "### First partials"
   ],
   "metadata": {
    "collapsed": false,
    "ExecuteTime": {
     "end_time": "2023-07-01T22:37:39.749780Z",
     "start_time": "2023-07-01T22:37:39.562184Z"
    }
   },
   "outputs": [
    {
     "name": "stdout",
     "output_type": "stream",
     "text": [
      "1.0 * x^2 + 2.0 * x * y + 3.0 * x * z + 1.0 * y^2 + 4.0 * y * z + 1.0 * z^2\n"
     ]
    }
   ],
   "execution_count": 32
  },
  {
   "cell_type": "code",
   "execution_count": null,
   "outputs": [],
   "source": [
    "print(p4)"
   ],
   "metadata": {
    "collapsed": false,
    "ExecuteTime": {
     "start_time": "2023-07-02T00:09:43.268699Z"
    }
   }
  },
  {
   "cell_type": "code",
   "execution_count": null,
   "outputs": [],
   "source": [
    "p4x = p4.partial_derivative('x')\n",
    "symp4x = symp4.diff(x)\n",
    "display(symp4x)"
   ],
   "metadata": {
    "collapsed": false,
    "ExecuteTime": {
     "start_time": "2023-07-02T00:09:43.270286Z"
    }
   }
  },
  {
   "cell_type": "code",
   "execution_count": null,
   "outputs": [],
   "source": [
    "p4y = p4.partial_derivative('y')\n",
    "symp4y = symp4.diff(y)\n",
    "display(symp4y)"
   ],
   "metadata": {
    "collapsed": false,
    "ExecuteTime": {
     "start_time": "2023-07-02T00:09:43.271958Z"
    }
   }
  },
  {
   "cell_type": "code",
   "execution_count": null,
   "outputs": [],
   "source": [
    "p4z = p4.partial_derivative('z')\n",
    "symp4z = symp4.diff(z)\n",
    "display(symp4y)"
   ],
   "metadata": {
    "collapsed": false,
    "ExecuteTime": {
     "start_time": "2023-07-02T00:09:43.273700Z"
    }
   }
  },
  {
   "cell_type": "markdown",
   "source": [
    "----"
   ],
   "metadata": {
    "collapsed": false,
    "ExecuteTime": {
     "end_time": "2023-07-01T22:37:39.770608Z",
     "start_time": "2023-07-01T22:37:39.580367Z"
    }
   },
   "outputs": [
    {
     "name": "stdout",
     "output_type": "stream",
     "text": [
      "2.5 * x^3 * y^2 * z^2 + 5.0 * x * y * z^3 + 3.5 * x^2 * y * z - 4.0 * x * y^3 - 6.0 * x^2 * z^2 + 7.0 * y^2 * z^2\n"
     ]
    }
   ],
   "execution_count": 36
  },
  {
   "cell_type": "code",
   "execution_count": null,
   "outputs": [],
   "source": [
    "print(p5)"
   ],
   "metadata": {
    "collapsed": false,
    "ExecuteTime": {
     "start_time": "2023-07-02T00:09:43.275023Z"
    }
   }
  },
  {
   "cell_type": "code",
   "execution_count": null,
   "outputs": [],
   "source": [
    "p5x = p5.partial_derivative('x')\n",
    "symp5x = symp5.diff(x)\n",
    "display(symp5x)"
   ],
   "metadata": {
    "collapsed": false,
    "ExecuteTime": {
     "start_time": "2023-07-02T00:09:43.276006Z"
    }
   }
  },
  {
   "cell_type": "code",
   "execution_count": null,
   "outputs": [],
   "source": [
    "p5y = p5.partial_derivative('y')\n",
    "symp5y = symp5.diff(y)\n",
    "display(symp5y)"
   ],
   "metadata": {
    "collapsed": false,
    "ExecuteTime": {
     "start_time": "2023-07-02T00:09:43.277040Z"
    }
   }
  },
  {
   "cell_type": "code",
   "execution_count": null,
   "outputs": [],
   "source": [
    "p5z = p5.partial_derivative('z')\n",
    "symp5z = symp5.diff(z)\n",
    "display(symp5y)"
   ],
   "metadata": {
    "collapsed": false,
    "ExecuteTime": {
     "start_time": "2023-07-02T00:09:43.277962Z"
    }
   }
  },
  {
   "cell_type": "markdown",
   "source": [
    "----"
   ],
   "metadata": {
    "collapsed": false,
    "ExecuteTime": {
     "end_time": "2023-07-01T22:37:39.771150Z",
     "start_time": "2023-07-01T22:37:39.598249Z"
    }
   },
   "outputs": [
    {
     "name": "stdout",
     "output_type": "stream",
     "text": [
      "8.0 * x^4 * y^3 * z^2 - 7.0 * x^3 * y * z^3 - 5.0 * x * y * z^4 - 3.0 * x * y^2 * z^3 + 6.0 * x^2 * y^2 * z + 4.0 * x^3 * z^2 + 2.0 * x * z^4 - 1.0 * y^3 * z^2 + 9.0 * z^5 + 2.25\n"
     ]
    }
   ],
   "execution_count": 40
  },
  {
   "cell_type": "code",
   "execution_count": null,
   "outputs": [],
   "source": [
    "print(p6)"
   ],
   "metadata": {
    "collapsed": false,
    "ExecuteTime": {
     "start_time": "2023-07-02T00:09:43.278935Z"
    }
   }
  },
  {
   "cell_type": "code",
   "execution_count": null,
   "outputs": [],
   "source": [
    "p6x = p6.partial_derivative('x')\n",
    "symp6x = symp6.diff(x)\n",
    "display(symp6x)"
   ],
   "metadata": {
    "collapsed": false,
    "ExecuteTime": {
     "start_time": "2023-07-02T00:09:43.279848Z"
    }
   }
  },
  {
   "cell_type": "code",
   "execution_count": null,
   "outputs": [],
   "source": [
    "p6y = p6.partial_derivative('y')\n",
    "symp6y = symp6.diff(y)\n",
    "display(symp6y)"
   ],
   "metadata": {
    "collapsed": false,
    "ExecuteTime": {
     "start_time": "2023-07-02T00:09:43.280946Z"
    }
   }
  },
  {
   "cell_type": "code",
   "execution_count": null,
   "outputs": [],
   "source": [
    "p6z = p6.partial_derivative('z')\n",
    "symp6z = symp6.diff(z)\n",
    "display(symp6y)"
   ],
   "metadata": {
    "collapsed": false,
    "ExecuteTime": {
     "start_time": "2023-07-02T00:09:43.281726Z"
    }
   }
  },
  {
   "cell_type": "markdown",
   "source": [
    "----\n",
    "&nbsp;\n",
    "### Second partial derivatives"
   ],
   "metadata": {
    "collapsed": false,
    "ExecuteTime": {
     "end_time": "2023-07-01T22:37:39.771458Z",
     "start_time": "2023-07-01T22:37:39.616288Z"
    }
   },
   "outputs": [
    {
     "name": "stdout",
     "output_type": "stream",
     "text": [
      "Partial derivative with respect to x:\n",
      "2.0 * x + 2.0 * y + 3.0 * z\n",
      "Partial derivative with respect to x:\n",
      "2.0\n"
     ]
    }
   ],
   "execution_count": 44
  },
  {
   "cell_type": "code",
   "execution_count": null,
   "outputs": [],
   "source": [
    "# p4 is a trivial instance\n",
    "p4xx = p4.partial_derivative('x', 'x')"
   ],
   "metadata": {
    "collapsed": false,
    "ExecuteTime": {
     "start_time": "2023-07-02T00:09:43.283049Z"
    }
   }
  },
  {
   "cell_type": "code",
   "execution_count": null,
   "outputs": [],
   "source": [
    "p4yy = p4.partial_derivative('y', 'y')"
   ],
   "metadata": {
    "collapsed": false,
    "ExecuteTime": {
     "start_time": "2023-07-02T00:09:43.284152Z"
    }
   }
  },
  {
   "cell_type": "code",
   "execution_count": null,
   "outputs": [],
   "source": [
    "p4zz = p4.partial_derivative('z', 'z')"
   ],
   "metadata": {
    "collapsed": false,
    "ExecuteTime": {
     "start_time": "2023-07-02T00:09:43.285121Z"
    }
   }
  },
  {
   "cell_type": "code",
   "execution_count": null,
   "outputs": [],
   "source": [
    "print(p5)"
   ],
   "metadata": {
    "collapsed": false,
    "ExecuteTime": {
     "start_time": "2023-07-02T00:09:43.286053Z"
    }
   }
  },
  {
   "cell_type": "code",
   "execution_count": null,
   "outputs": [],
   "source": [
    "p5xx = p5.partial_derivative('x', 'x')\n",
    "symp5xx = symp5.diff(x, x)\n",
    "display(symp5xx)"
   ],
   "metadata": {
    "collapsed": false,
    "ExecuteTime": {
     "start_time": "2023-07-02T00:09:43.286972Z"
    }
   }
  },
  {
   "cell_type": "code",
   "execution_count": null,
   "outputs": [],
   "source": [
    "p5yy = p5.partial_derivative('y', 'y')\n",
    "symp5yy = symp5.diff(y, y)\n",
    "display(symp5yy)"
   ],
   "metadata": {
    "collapsed": false,
    "ExecuteTime": {
     "start_time": "2023-07-02T00:09:43.288017Z"
    }
   }
  },
  {
   "cell_type": "code",
   "execution_count": null,
   "outputs": [],
   "source": [
    "p6zz = p6.partial_derivative('z', 'z')\n",
    "symp6zz = symp6.diff(z, z)\n",
    "display(symp6zz)"
   ],
   "metadata": {
    "collapsed": false,
    "ExecuteTime": {
     "start_time": "2023-07-02T00:09:43.289107Z"
    }
   }
  },
  {
   "cell_type": "markdown",
   "source": [
    "----\n",
    "&nbsp;\n",
    "## Automating testing"
   ],
   "metadata": {
    "collapsed": false,
    "ExecuteTime": {
     "end_time": "2023-07-01T22:37:40.158171Z",
     "start_time": "2023-07-01T22:37:39.668841Z"
    }
   },
   "outputs": [
    {
     "name": "stdout",
     "output_type": "stream",
     "text": [
      "\n",
      "\n",
      "Derivatives for p5:\n",
      "------------------------------\n",
      "------------------------------\n",
      "\n",
      "Second derivative of p5 w.r.t. x and x:\n",
      "------------------------------\n",
      "Your implementation: 15.0 * x * y^2 * z^2 + 7.0 * y * z - 12.0 * z^2\n",
      "Sympy implementation: z*(15.0*x*y**2*z + 7.0*y - 12.0*z)\n",
      "\n",
      "Third derivative of p5 w.r.t. x, x and x:\n",
      "------------------------------\n",
      "Your implementation: 15.0 * y^2 * z^2\n",
      "Sympy implementation: 15.0*y**2*z**2\n",
      "\n",
      "Third derivative of p5 w.r.t. x, x and y:\n",
      "------------------------------\n",
      "Your implementation: 30.0 * x * y * z^2 + 7.0 * z\n",
      "Sympy implementation: z*(30.0*x*y*z + 7.0)\n",
      "\n",
      "Third derivative of p5 w.r.t. x, x and z:\n",
      "------------------------------\n",
      "Your implementation: 30.0 * x * y^2 * z + 7.0 * y - 24.0 * z\n",
      "Sympy implementation: 15.0*x*y**2*z + 7.0*y + z*(15.0*x*y**2 - 12.0) - 12.0*z\n",
      "\n",
      "Second derivative of p5 w.r.t. x and y:\n",
      "------------------------------\n",
      "Your implementation: 15.0 * x^2 * y * z^2 + 5.0 * z^3 + 7.0 * x * z - 12.0 * y^2\n",
      "Sympy implementation: 15.0*x**2*y*z**2 + 7.0*x*z - 12.0*y**2 + 5.0*z**3\n",
      "\n",
      "Third derivative of p5 w.r.t. x, y and x:\n",
      "------------------------------\n",
      "Your implementation: 30.0 * x * y * z^2 + 7.0 * z\n",
      "Sympy implementation: 30.0*x*y*z**2 + 7.0*z\n",
      "\n",
      "Third derivative of p5 w.r.t. x, y and y:\n",
      "------------------------------\n",
      "Your implementation: 15.0 * x^2 * z^2 - 24.0 * y\n",
      "Sympy implementation: 15.0*x**2*z**2 - 24.0*y\n",
      "\n",
      "Third derivative of p5 w.r.t. x, y and z:\n",
      "------------------------------\n",
      "Your implementation: 30.0 * x^2 * y * z + 15.0 * z^2 + 7.0 * x\n",
      "Sympy implementation: 30.0*x**2*y*z + 7.0*x + 15.0*z**2\n",
      "\n",
      "Second derivative of p5 w.r.t. x and z:\n",
      "------------------------------\n",
      "Your implementation: 15.0 * x^2 * y^2 * z + 15.0 * y * z^2 + 7.0 * x * y - 24.0 * x * z\n",
      "Sympy implementation: 15.0*x**2*y**2*z + 7.0*x*y - 24.0*x*z + 15.0*y*z**2\n",
      "\n",
      "Third derivative of p5 w.r.t. x, z and x:\n",
      "------------------------------\n",
      "Your implementation: 30.0 * x * y^2 * z + 7.0 * y - 24.0 * z\n",
      "Sympy implementation: 30.0*x*y**2*z + 7.0*y - 24.0*z\n",
      "\n",
      "Third derivative of p5 w.r.t. x, z and y:\n",
      "------------------------------\n",
      "Your implementation: 30.0 * x^2 * y * z + 15.0 * z^2 + 7.0 * x\n",
      "Sympy implementation: 30.0*x**2*y*z + 7.0*x + 15.0*z**2\n",
      "\n",
      "Third derivative of p5 w.r.t. x, z and z:\n",
      "------------------------------\n",
      "Your implementation: 15.0 * x^2 * y^2 + 30.0 * y * z - 24.0 * x\n",
      "Sympy implementation: 15.0*x**2*y**2 - 24.0*x + 30.0*y*z\n",
      "\n",
      "Second derivative of p5 w.r.t. y and x:\n",
      "------------------------------\n",
      "Your implementation: 15.0 * x^2 * y * z^2 + 5.0 * z^3 + 7.0 * x * z - 12.0 * y^2\n",
      "Sympy implementation: 15.0*x**2*y*z**2 + 7.0*x*z - 12.0*y**2 + 5.0*z**3\n",
      "\n",
      "Third derivative of p5 w.r.t. y, x and x:\n",
      "------------------------------\n",
      "Your implementation: 30.0 * x * y * z^2 + 7.0 * z\n",
      "Sympy implementation: 30.0*x*y*z**2 + 7.0*z\n",
      "\n",
      "Third derivative of p5 w.r.t. y, x and y:\n",
      "------------------------------\n",
      "Your implementation: 15.0 * x^2 * z^2 - 24.0 * y\n",
      "Sympy implementation: 15.0*x**2*z**2 - 24.0*y\n",
      "\n",
      "Third derivative of p5 w.r.t. y, x and z:\n",
      "------------------------------\n",
      "Your implementation: 30.0 * x^2 * y * z + 15.0 * z^2 + 7.0 * x\n",
      "Sympy implementation: 30.0*x**2*y*z + 7.0*x + 15.0*z**2\n",
      "\n",
      "Second derivative of p5 w.r.t. y and y:\n",
      "------------------------------\n",
      "Your implementation: 5.0 * x^3 * z^2 - 24.0 * x * y + 14.0 * z^2\n",
      "Sympy implementation: 5.0*x**3*z**2 - 24.0*x*y + 14.0*z**2\n",
      "\n",
      "Third derivative of p5 w.r.t. y, y and x:\n",
      "------------------------------\n",
      "Your implementation: 15.0 * x^2 * z^2 - 24.0 * y\n",
      "Sympy implementation: 15.0*x**2*z**2 - 24.0*y\n",
      "\n",
      "Third derivative of p5 w.r.t. y, y and y:\n",
      "------------------------------\n",
      "Your implementation: -24.0 * x\n",
      "Sympy implementation: -24.0*x\n",
      "\n",
      "Third derivative of p5 w.r.t. y, y and z:\n",
      "------------------------------\n",
      "Your implementation: 10.0 * x^3 * z + 28.0 * z\n",
      "Sympy implementation: 10.0*x**3*z + 28.0*z\n",
      "\n",
      "Second derivative of p5 w.r.t. y and z:\n",
      "------------------------------\n",
      "Your implementation: 10.0 * x^3 * y * z + 15.0 * x * z^2 + 3.5 * x^2 + 28.0 * y * z\n",
      "Sympy implementation: 10.0*x**3*y*z + 3.5*x**2 + 15.0*x*z**2 + 28.0*y*z\n",
      "\n",
      "Third derivative of p5 w.r.t. y, z and x:\n",
      "------------------------------\n",
      "Your implementation: 30.0 * x^2 * y * z + 15.0 * z^2 + 7.0 * x\n",
      "Sympy implementation: 30.0*x**2*y*z + 7.0*x + 15.0*z**2\n",
      "\n",
      "Third derivative of p5 w.r.t. y, z and y:\n",
      "------------------------------\n",
      "Your implementation: 10.0 * x^3 * z + 28.0 * z\n",
      "Sympy implementation: 10.0*x**3*z + 28.0*z\n",
      "\n",
      "Third derivative of p5 w.r.t. y, z and z:\n",
      "------------------------------\n",
      "Your implementation: 10.0 * x^3 * y + 30.0 * x * z + 28.0 * y\n",
      "Sympy implementation: 10.0*x**3*y + 30.0*x*z + 28.0*y\n",
      "\n",
      "Second derivative of p5 w.r.t. z and x:\n",
      "------------------------------\n",
      "Your implementation: 15.0 * x^2 * y^2 * z + 15.0 * y * z^2 + 7.0 * x * y - 24.0 * x * z\n",
      "Sympy implementation: 15.0*x**2*y**2*z + 7.0*x*y - 24.0*x*z + 15.0*y*z**2\n",
      "\n",
      "Third derivative of p5 w.r.t. z, x and x:\n",
      "------------------------------\n",
      "Your implementation: 30.0 * x * y^2 * z + 7.0 * y - 24.0 * z\n",
      "Sympy implementation: 30.0*x*y**2*z + 7.0*y - 24.0*z\n",
      "\n",
      "Third derivative of p5 w.r.t. z, x and y:\n",
      "------------------------------\n",
      "Your implementation: 30.0 * x^2 * y * z + 15.0 * z^2 + 7.0 * x\n",
      "Sympy implementation: 30.0*x**2*y*z + 7.0*x + 15.0*z**2\n",
      "\n",
      "Third derivative of p5 w.r.t. z, x and z:\n",
      "------------------------------\n",
      "Your implementation: 15.0 * x^2 * y^2 + 30.0 * y * z - 24.0 * x\n",
      "Sympy implementation: 15.0*x**2*y**2 - 24.0*x + 30.0*y*z\n",
      "\n",
      "Second derivative of p5 w.r.t. z and y:\n",
      "------------------------------\n",
      "Your implementation: 10.0 * x^3 * y * z + 15.0 * x * z^2 + 3.5 * x^2 + 28.0 * y * z\n",
      "Sympy implementation: 10.0*x**3*y*z + 3.5*x**2 + 15.0*x*z**2 + 28.0*y*z\n",
      "\n",
      "Third derivative of p5 w.r.t. z, y and x:\n",
      "------------------------------\n",
      "Your implementation: 30.0 * x^2 * y * z + 15.0 * z^2 + 7.0 * x\n",
      "Sympy implementation: 30.0*x**2*y*z + 7.0*x + 15.0*z**2\n",
      "\n",
      "Third derivative of p5 w.r.t. z, y and y:\n",
      "------------------------------\n",
      "Your implementation: 10.0 * x^3 * z + 28.0 * z\n",
      "Sympy implementation: 10.0*x**3*z + 28.0*z\n",
      "\n",
      "Third derivative of p5 w.r.t. z, y and z:\n",
      "------------------------------\n",
      "Your implementation: 10.0 * x^3 * y + 30.0 * x * z + 28.0 * y\n",
      "Sympy implementation: 10.0*x**3*y + 30.0*x*z + 28.0*y\n",
      "\n",
      "Second derivative of p5 w.r.t. z and z:\n",
      "------------------------------\n",
      "Your implementation: 5.0 * x^3 * y^2 + 30.0 * x * y * z - 12.0 * x^2 + 14.0 * y^2\n",
      "Sympy implementation: 5.0*x**3*y**2 - 12.0*x**2 + 30.0*x*y*z + 14.0*y**2\n",
      "\n",
      "Third derivative of p5 w.r.t. z, z and x:\n",
      "------------------------------\n",
      "Your implementation: 15.0 * x^2 * y^2 + 30.0 * y * z - 24.0 * x\n",
      "Sympy implementation: 15.0*x**2*y**2 - 24.0*x + 30.0*y*z\n",
      "\n",
      "Third derivative of p5 w.r.t. z, z and y:\n",
      "------------------------------\n",
      "Your implementation: 10.0 * x^3 * y + 30.0 * x * z + 28.0 * y\n",
      "Sympy implementation: 10.0*x**3*y + 30.0*x*z + 28.0*y\n",
      "\n",
      "Third derivative of p5 w.r.t. z, z and z:\n",
      "------------------------------\n",
      "Your implementation: 30.0 * x * y\n",
      "Sympy implementation: 30.0*x*y\n",
      "\n",
      "\n",
      "Derivatives for p6:\n",
      "------------------------------\n",
      "------------------------------\n",
      "\n",
      "Second derivative of p6 w.r.t. x and x:\n",
      "------------------------------\n",
      "Your implementation: 96.0 * x^2 * y^3 * z^2 - 42.0 * x * y * z^3 + 12.0 * y^2 * z + 24.0 * x * z^2\n",
      "Sympy implementation: z*(96.0*x**2*y**3*z - 42.0*x*y*z**2 + 24.0*x*z + 12.0*y**2)\n",
      "\n",
      "Third derivative of p6 w.r.t. x, x and x:\n",
      "------------------------------\n",
      "Your implementation: 192.0 * x * y^3 * z^2 - 42.0 * y * z^3 + 24.0 * z^2\n",
      "Sympy implementation: z*(192.0*x*y**3*z - 42.0*y*z**2 + 24.0*z)\n",
      "\n",
      "Third derivative of p6 w.r.t. x, x and y:\n",
      "------------------------------\n",
      "Your implementation: 288.0 * x^2 * y^2 * z^2 - 42.0 * x * z^3 + 24.0 * y * z\n",
      "Sympy implementation: z*(288.0*x**2*y**2*z - 42.0*x*z**2 + 24.0*y)\n",
      "\n",
      "Third derivative of p6 w.r.t. x, x and z:\n",
      "------------------------------\n",
      "Your implementation: 192.0 * x^2 * y^3 * z - 126.0 * x * y * z^2 + 12.0 * y^2 + 48.0 * x * z\n",
      "Sympy implementation: 96.0*x**2*y**3*z - 42.0*x*y*z**2 + 24.0*x*z + 12.0*y**2 + z*(96.0*x**2*y**3 - 84.0*x*y*z + 24.0*x)\n",
      "\n",
      "Second derivative of p6 w.r.t. x and y:\n",
      "------------------------------\n",
      "Your implementation: 96.0 * x^3 * y^2 * z^2 - 21.0 * x^2 * z^3 - 5.0 * z^4 - 6.0 * y * z^3 + 24.0 * x * y * z\n",
      "Sympy implementation: z*(96.0*x**3*y**2*z - 21.0*x**2*z**2 + 24.0*x*y - 6.0*y*z**2 - 5.0*z**3)\n",
      "\n",
      "Third derivative of p6 w.r.t. x, y and x:\n",
      "------------------------------\n",
      "Your implementation: 288.0 * x^2 * y^2 * z^2 - 42.0 * x * z^3 + 24.0 * y * z\n",
      "Sympy implementation: z*(288.0*x**2*y**2*z - 42.0*x*z**2 + 24.0*y)\n",
      "\n",
      "Third derivative of p6 w.r.t. x, y and y:\n",
      "------------------------------\n",
      "Your implementation: 192.0 * x^3 * y * z^2 - 6.0 * z^3 + 24.0 * x * z\n",
      "Sympy implementation: z*(192.0*x**3*y*z + 24.0*x - 6.0*z**2)\n",
      "\n",
      "Third derivative of p6 w.r.t. x, y and z:\n",
      "------------------------------\n",
      "Your implementation: 192.0 * x^3 * y^2 * z - 63.0 * x^2 * z^2 - 20.0 * z^3 - 18.0 * y * z^2 + 24.0 * x * y\n",
      "Sympy implementation: 96.0*x**3*y**2*z - 21.0*x**2*z**2 + 24.0*x*y - 6.0*y*z**2 - 5.0*z**3 + z*(96.0*x**3*y**2 - 42.0*x**2*z - 12.0*y*z - 15.0*z**2)\n",
      "\n",
      "Second derivative of p6 w.r.t. x and z:\n",
      "------------------------------\n",
      "Your implementation: 64.0 * x^3 * y^3 * z - 63.0 * x^2 * y * z^2 - 20.0 * y * z^3 - 9.0 * y^2 * z^2 + 12.0 * x * y^2 + 24.0 * x^2 * z + 8.0 * z^3\n",
      "Sympy implementation: 64.0*x**3*y**3*z - 63.0*x**2*y*z**2 + 24.0*x**2*z + 12.0*x*y**2 - 9.0*y**2*z**2 - 20.0*y*z**3 + 8.0*z**3\n",
      "\n",
      "Third derivative of p6 w.r.t. x, z and x:\n",
      "------------------------------\n",
      "Your implementation: 192.0 * x^2 * y^3 * z - 126.0 * x * y * z^2 + 12.0 * y^2 + 48.0 * x * z\n",
      "Sympy implementation: 192.0*x**2*y**3*z - 126.0*x*y*z**2 + 48.0*x*z + 12.0*y**2\n",
      "\n",
      "Third derivative of p6 w.r.t. x, z and y:\n",
      "------------------------------\n",
      "Your implementation: 192.0 * x^3 * y^2 * z - 63.0 * x^2 * z^2 - 20.0 * z^3 - 18.0 * y * z^2 + 24.0 * x * y\n",
      "Sympy implementation: 192.0*x**3*y**2*z - 63.0*x**2*z**2 + 24.0*x*y - 18.0*y*z**2 - 20.0*z**3\n",
      "\n",
      "Third derivative of p6 w.r.t. x, z and z:\n",
      "------------------------------\n",
      "Your implementation: 64.0 * x^3 * y^3 - 126.0 * x^2 * y * z - 60.0 * y * z^2 - 18.0 * y^2 * z + 24.0 * x^2 + 24.0 * z^2\n",
      "Sympy implementation: 64.0*x**3*y**3 - 126.0*x**2*y*z + 24.0*x**2 - 18.0*y**2*z - 60.0*y*z**2 + 24.0*z**2\n",
      "\n",
      "Second derivative of p6 w.r.t. y and x:\n",
      "------------------------------\n",
      "Your implementation: 96.0 * x^3 * y^2 * z^2 - 21.0 * x^2 * z^3 - 5.0 * z^4 - 6.0 * y * z^3 + 24.0 * x * y * z\n",
      "Sympy implementation: z*(96.0*x**3*y**2*z - 21.0*x**2*z**2 + 24.0*x*y - 6.0*y*z**2 - 5.0*z**3)\n",
      "\n",
      "Third derivative of p6 w.r.t. y, x and x:\n",
      "------------------------------\n",
      "Your implementation: 288.0 * x^2 * y^2 * z^2 - 42.0 * x * z^3 + 24.0 * y * z\n",
      "Sympy implementation: z*(288.0*x**2*y**2*z - 42.0*x*z**2 + 24.0*y)\n",
      "\n",
      "Third derivative of p6 w.r.t. y, x and y:\n",
      "------------------------------\n",
      "Your implementation: 192.0 * x^3 * y * z^2 - 6.0 * z^3 + 24.0 * x * z\n",
      "Sympy implementation: z*(192.0*x**3*y*z + 24.0*x - 6.0*z**2)\n",
      "\n",
      "Third derivative of p6 w.r.t. y, x and z:\n",
      "------------------------------\n",
      "Your implementation: 192.0 * x^3 * y^2 * z - 63.0 * x^2 * z^2 - 20.0 * z^3 - 18.0 * y * z^2 + 24.0 * x * y\n",
      "Sympy implementation: 96.0*x**3*y**2*z - 21.0*x**2*z**2 + 24.0*x*y - 6.0*y*z**2 - 5.0*z**3 + z*(96.0*x**3*y**2 - 42.0*x**2*z - 12.0*y*z - 15.0*z**2)\n",
      "\n",
      "Second derivative of p6 w.r.t. y and y:\n",
      "------------------------------\n",
      "Your implementation: 48.0 * x^4 * y * z^2 - 6.0 * x * z^3 + 12.0 * x^2 * z - 6.0 * y * z^2\n",
      "Sympy implementation: z*(48.0*x**4*y*z + 12.0*x**2 - 6.0*x*z**2 - 6.0*y*z)\n",
      "\n",
      "Third derivative of p6 w.r.t. y, y and x:\n",
      "------------------------------\n",
      "Your implementation: 192.0 * x^3 * y * z^2 - 6.0 * z^3 + 24.0 * x * z\n",
      "Sympy implementation: z*(192.0*x**3*y*z + 24.0*x - 6.0*z**2)\n",
      "\n",
      "Third derivative of p6 w.r.t. y, y and y:\n",
      "------------------------------\n",
      "Your implementation: 48.0 * x^4 * z^2 - 6.0 * z^2\n",
      "Sympy implementation: z*(48.0*x**4*z - 6.0*z)\n",
      "\n",
      "Third derivative of p6 w.r.t. y, y and z:\n",
      "------------------------------\n",
      "Your implementation: 96.0 * x^4 * y * z - 18.0 * x * z^2 + 12.0 * x^2 - 12.0 * y * z\n",
      "Sympy implementation: 48.0*x**4*y*z + 12.0*x**2 - 6.0*x*z**2 - 6.0*y*z + z*(48.0*x**4*y - 12.0*x*z - 6.0*y)\n",
      "\n",
      "Second derivative of p6 w.r.t. y and z:\n",
      "------------------------------\n",
      "Your implementation: 48.0 * x^4 * y^2 * z - 21.0 * x^3 * z^2 - 20.0 * x * z^3 - 18.0 * x * y * z^2 + 12.0 * x^2 * y - 6.0 * y^2 * z\n",
      "Sympy implementation: 48.0*x**4*y**2*z - 21.0*x**3*z**2 + 12.0*x**2*y - 18.0*x*y*z**2 - 20.0*x*z**3 - 6.0*y**2*z\n",
      "\n",
      "Third derivative of p6 w.r.t. y, z and x:\n",
      "------------------------------\n",
      "Your implementation: 192.0 * x^3 * y^2 * z - 63.0 * x^2 * z^2 - 20.0 * z^3 - 18.0 * y * z^2 + 24.0 * x * y\n",
      "Sympy implementation: 192.0*x**3*y**2*z - 63.0*x**2*z**2 + 24.0*x*y - 18.0*y*z**2 - 20.0*z**3\n",
      "\n",
      "Third derivative of p6 w.r.t. y, z and y:\n",
      "------------------------------\n",
      "Your implementation: 96.0 * x^4 * y * z - 18.0 * x * z^2 + 12.0 * x^2 - 12.0 * y * z\n",
      "Sympy implementation: 96.0*x**4*y*z + 12.0*x**2 - 18.0*x*z**2 - 12.0*y*z\n",
      "\n",
      "Third derivative of p6 w.r.t. y, z and z:\n",
      "------------------------------\n",
      "Your implementation: 48.0 * x^4 * y^2 - 42.0 * x^3 * z - 60.0 * x * z^2 - 36.0 * x * y * z - 6.0 * y^2\n",
      "Sympy implementation: 48.0*x**4*y**2 - 42.0*x**3*z - 36.0*x*y*z - 60.0*x*z**2 - 6.0*y**2\n",
      "\n",
      "Second derivative of p6 w.r.t. z and x:\n",
      "------------------------------\n",
      "Your implementation: 64.0 * x^3 * y^3 * z - 63.0 * x^2 * y * z^2 - 20.0 * y * z^3 - 9.0 * y^2 * z^2 + 12.0 * x * y^2 + 24.0 * x^2 * z + 8.0 * z^3\n",
      "Sympy implementation: 64.0*x**3*y**3*z - 63.0*x**2*y*z**2 + 24.0*x**2*z + 12.0*x*y**2 - 9.0*y**2*z**2 - 20.0*y*z**3 + 8.0*z**3\n",
      "\n",
      "Third derivative of p6 w.r.t. z, x and x:\n",
      "------------------------------\n",
      "Your implementation: 192.0 * x^2 * y^3 * z - 126.0 * x * y * z^2 + 12.0 * y^2 + 48.0 * x * z\n",
      "Sympy implementation: 192.0*x**2*y**3*z - 126.0*x*y*z**2 + 48.0*x*z + 12.0*y**2\n",
      "\n",
      "Third derivative of p6 w.r.t. z, x and y:\n",
      "------------------------------\n",
      "Your implementation: 192.0 * x^3 * y^2 * z - 63.0 * x^2 * z^2 - 20.0 * z^3 - 18.0 * y * z^2 + 24.0 * x * y\n",
      "Sympy implementation: 192.0*x**3*y**2*z - 63.0*x**2*z**2 + 24.0*x*y - 18.0*y*z**2 - 20.0*z**3\n",
      "\n",
      "Third derivative of p6 w.r.t. z, x and z:\n",
      "------------------------------\n",
      "Your implementation: 64.0 * x^3 * y^3 - 126.0 * x^2 * y * z - 60.0 * y * z^2 - 18.0 * y^2 * z + 24.0 * x^2 + 24.0 * z^2\n",
      "Sympy implementation: 64.0*x**3*y**3 - 126.0*x**2*y*z + 24.0*x**2 - 18.0*y**2*z - 60.0*y*z**2 + 24.0*z**2\n",
      "\n",
      "Second derivative of p6 w.r.t. z and y:\n",
      "------------------------------\n",
      "Your implementation: 48.0 * x^4 * y^2 * z - 21.0 * x^3 * z^2 - 20.0 * x * z^3 - 18.0 * x * y * z^2 + 12.0 * x^2 * y - 6.0 * y^2 * z\n",
      "Sympy implementation: 48.0*x**4*y**2*z - 21.0*x**3*z**2 + 12.0*x**2*y - 18.0*x*y*z**2 - 20.0*x*z**3 - 6.0*y**2*z\n",
      "\n",
      "Third derivative of p6 w.r.t. z, y and x:\n",
      "------------------------------\n",
      "Your implementation: 192.0 * x^3 * y^2 * z - 63.0 * x^2 * z^2 - 20.0 * z^3 - 18.0 * y * z^2 + 24.0 * x * y\n",
      "Sympy implementation: 192.0*x**3*y**2*z - 63.0*x**2*z**2 + 24.0*x*y - 18.0*y*z**2 - 20.0*z**3\n",
      "\n",
      "Third derivative of p6 w.r.t. z, y and y:\n",
      "------------------------------\n",
      "Your implementation: 96.0 * x^4 * y * z - 18.0 * x * z^2 + 12.0 * x^2 - 12.0 * y * z\n",
      "Sympy implementation: 96.0*x**4*y*z + 12.0*x**2 - 18.0*x*z**2 - 12.0*y*z\n",
      "\n",
      "Third derivative of p6 w.r.t. z, y and z:\n",
      "------------------------------\n",
      "Your implementation: 48.0 * x^4 * y^2 - 42.0 * x^3 * z - 60.0 * x * z^2 - 36.0 * x * y * z - 6.0 * y^2\n",
      "Sympy implementation: 48.0*x**4*y**2 - 42.0*x**3*z - 36.0*x*y*z - 60.0*x*z**2 - 6.0*y**2\n",
      "\n",
      "Second derivative of p6 w.r.t. z and z:\n",
      "------------------------------\n",
      "Your implementation: 16.0 * x^4 * y^3 - 42.0 * x^3 * y * z - 60.0 * x * y * z^2 - 18.0 * x * y^2 * z + 8.0 * x^3 + 24.0 * x * z^2 - 2.0 * y^3 + 180.0 * z^3\n",
      "Sympy implementation: 16.0*x**4*y**3 - 42.0*x**3*y*z + 8.0*x**3 - 18.0*x*y**2*z - 60.0*x*y*z**2 + 24.0*x*z**2 - 2.0*y**3 + 180.0*z**3\n",
      "\n",
      "Third derivative of p6 w.r.t. z, z and x:\n",
      "------------------------------\n",
      "Your implementation: 64.0 * x^3 * y^3 - 126.0 * x^2 * y * z - 60.0 * y * z^2 - 18.0 * y^2 * z + 24.0 * x^2 + 24.0 * z^2\n",
      "Sympy implementation: 64.0*x**3*y**3 - 126.0*x**2*y*z + 24.0*x**2 - 18.0*y**2*z - 60.0*y*z**2 + 24.0*z**2\n",
      "\n",
      "Third derivative of p6 w.r.t. z, z and y:\n",
      "------------------------------\n",
      "Your implementation: 48.0 * x^4 * y^2 - 42.0 * x^3 * z - 60.0 * x * z^2 - 36.0 * x * y * z - 6.0 * y^2\n",
      "Sympy implementation: 48.0*x**4*y**2 - 42.0*x**3*z - 36.0*x*y*z - 60.0*x*z**2 - 6.0*y**2\n",
      "\n",
      "Third derivative of p6 w.r.t. z, z and z:\n",
      "------------------------------\n",
      "Your implementation: -42.0 * x^3 * y - 120.0 * x * y * z - 18.0 * x * y^2 + 48.0 * x * z + 540.0 * z^2\n",
      "Sympy implementation: -42.0*x**3*y - 18.0*x*y**2 - 120.0*x*y*z + 48.0*x*z + 540.0*z**2\n"
     ]
    }
   ],
   "execution_count": 51
  },
  {
   "cell_type": "code",
   "execution_count": null,
   "outputs": [],
   "source": [
    "# Variables\n",
    "x, y, z = sympy.symbols('x y z')\n",
    "variables = ['x', 'y', 'z']\n",
    "\n",
    "polynomials = {\n",
    "    'p5': (p5, sympy.sympify(str(p5))),\n",
    "    'p6': (p6, sympy.sympify(str(p6))),\n",
    "}\n",
    "\n",
    "for poly_name, (poly_instance, sympy_instance) in polynomials.items():\n",
    "    print(f\"\\n\\nDerivatives for {poly_name}:\\n{'-'*30}\\n{'-'*30}\")\n",
    "\n",
    "    for var1 in variables:\n",
    "        for var2 in variables:\n",
    "            # Display second derivatives\n",
    "            result = poly_instance.partial_derivative(var1, var2, print_progress=False)\n",
    "            sympy_result = sympy_instance.diff(sympy.symbols(var1), sympy.symbols(var2))\n",
    "            print(f\"\\nSecond derivative of {poly_name} w.r.t. {var1} and {var2}:\\n{'-'*30}\")\n",
    "            print(\"Your implementation:\", result)\n",
    "            print(\"Sympy implementation:\", sympy_result)\n",
    "\n",
    "            if isinstance(result, TriVarPoly):\n",
    "                for var3 in variables:\n",
    "                    # Display third-order mixed derivatives\n",
    "                    result_third = result.partial_derivative(var3, print_progress=False)\n",
    "                    sympy_result_third = sympy_result.diff(sympy.symbols(var3))\n",
    "                    print(f\"\\nThird derivative of {poly_name} w.r.t. {var1}, {var2} and {var3}:\\n{'-'*30}\")\n",
    "                    print(\"Your implementation:\", result_third)\n",
    "                    print(\"Sympy implementation:\", sympy_result_third)"
   ],
   "metadata": {
    "collapsed": false,
    "ExecuteTime": {
     "start_time": "2023-07-02T00:09:43.290156Z"
    }
   }
  },
  {
   "cell_type": "markdown",
   "source": [
    "--------\n",
    "&nbsp;\n",
    "## Looks good"
   ],
   "metadata": {
    "collapsed": false
   }
  }
 ],
 "metadata": {
  "kernelspec": {
   "display_name": "Python 3",
   "language": "python",
   "name": "python3"
  },
  "language_info": {
   "codemirror_mode": {
    "name": "ipython",
    "version": 2
   },
   "file_extension": ".py",
   "mimetype": "text/x-python",
   "name": "python",
   "nbconvert_exporter": "python",
   "pygments_lexer": "ipython2",
   "version": "2.7.6"
  }
 },
 "nbformat": 4,
 "nbformat_minor": 0
}
