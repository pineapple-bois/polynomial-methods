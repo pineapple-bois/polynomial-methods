{
 "cells": [
  {
   "cell_type": "markdown",
   "source": [
    "# Chapter 3 - Symbolic Computation - Computer Algebra"
   ],
   "metadata": {
    "collapsed": false
   }
  },
  {
   "cell_type": "markdown",
   "source": [
    "## [SymPy Library](https://www.sympy.org/en/index.html), [SymPy FAQs](https://github.com/sympy/sympy/wiki/Faq)"
   ],
   "metadata": {
    "collapsed": false
   }
  },
  {
   "cell_type": "code",
   "execution_count": 6,
   "metadata": {
    "collapsed": true
   },
   "outputs": [],
   "source": [
    "# Will on occasion run \"from sympy import *\",\n",
    "# However, the below import method will avoid any namespace conflicts\n",
    "import sympy\n",
    "import numpy as np"
   ]
  },
  {
   "cell_type": "markdown",
   "source": [
    "`SymPy` can render $\\LaTeX$ !!"
   ],
   "metadata": {
    "collapsed": false
   }
  },
  {
   "cell_type": "code",
   "execution_count": 7,
   "outputs": [
    {
     "name": "stdout",
     "output_type": "stream",
     "text": [
      "Output: \\frac{3 x^{4} + 2 x^{3} + x}{2 x^{2} + 3}\n"
     ]
    }
   ],
   "source": [
    "sympy.var(\"x\")        # This is a shortcut method of declaring a symbolic variable\n",
    "\n",
    "expr = (2*x**3+3*x**4+x)/(2*x**2+3)\n",
    "print(f\"Output: {sympy.latex(expr)}\")"
   ],
   "metadata": {
    "collapsed": false
   }
  },
  {
   "cell_type": "markdown",
   "source": [
    "Then put some 'dollar sign' braces around output;\n",
    "&nbsp;\n",
    "$\\frac{3 x^{4} + 2 x^{3} + x}{2 x^{2} + 3}$"
   ],
   "metadata": {
    "collapsed": false
   }
  },
  {
   "cell_type": "markdown",
   "source": [
    "----\n",
    "&nbsp;\n",
    "## Symbols - class `sympy.Symbol`"
   ],
   "metadata": {
    "collapsed": false
   }
  },
  {
   "cell_type": "code",
   "execution_count": 8,
   "outputs": [],
   "source": [
    "x = sympy.Symbol('x')"
   ],
   "metadata": {
    "collapsed": false
   }
  },
  {
   "cell_type": "markdown",
   "source": [
    "The variable $x$ now represents an abstract mathematical symbol $x$"
   ],
   "metadata": {
    "collapsed": false
   }
  },
  {
   "cell_type": "code",
   "execution_count": 9,
   "outputs": [],
   "source": [
    "z = sympy.Symbol(\"z\", imaginary=True)"
   ],
   "metadata": {
    "collapsed": false
   }
  },
  {
   "cell_type": "code",
   "execution_count": 10,
   "outputs": [
    {
     "name": "stdout",
     "output_type": "stream",
     "text": [
      "Is 'z' a real number? False\n"
     ]
    }
   ],
   "source": [
    "print(f\"Is 'z' a real number? {z.is_real}\")"
   ],
   "metadata": {
    "collapsed": false
   }
  },
  {
   "cell_type": "markdown",
   "source": [
    "Variable assumptions"
   ],
   "metadata": {
    "collapsed": false
   }
  },
  {
   "cell_type": "markdown",
   "source": [
    "| Assumption           | Attributes                       | Description                                           |\n",
    "|                      |                                  |                                                       |\n",
    "| -------------------- | -------------------------------- | ----------------------------------------------------- |\n",
    "| real                 | `is_real`, `is_imaginary`        | Specify that a symbol represents a real or imaginary number. |\n",
    "| positive             | `is_positive`, `is_negative`     | Specify that a symbol is positive or negative.        |\n",
    "| integer              | `is_integer`                     | The symbol represents an integer.                     |\n",
    "| odd                  | `is_odd`, `is_even`              | The symbol represents an odd or even integer.          |\n",
    "| prime                | `is_prime`                       | The symbol is a prime number and therefore also an integer. |\n",
    "| finite               | `is_finite`, `is_infinite`        | The symbol represents a quantity that is finite or infinite. |\n",
    "\n"
   ],
   "metadata": {
    "collapsed": false
   }
  },
  {
   "cell_type": "markdown",
   "source": [
    "The most important assumptions to explicitly specify when creating new symbols are `real` and `positive`.\n",
    "When applicable, adding these assumptions to symbols can frequently help SymPy to simplify various expressions further than otherwise possible"
   ],
   "metadata": {
    "collapsed": false
   }
  },
  {
   "cell_type": "code",
   "execution_count": 11,
   "outputs": [],
   "source": [
    "# For example\n",
    "y = sympy.Symbol(\"y\", real=True, positive=True)"
   ],
   "metadata": {
    "collapsed": false
   }
  },
  {
   "cell_type": "code",
   "execution_count": 12,
   "outputs": [
    {
     "data": {
      "text/plain": "sqrt(x**2)",
      "text/latex": "$\\displaystyle \\sqrt{x^{2}}$"
     },
     "metadata": {},
     "output_type": "display_data"
    }
   ],
   "source": [
    "# Real, positive, negative; Undeclared\n",
    "sqrt_x = sympy.sqrt(x ** 2)\n",
    "display(sqrt_x)"
   ],
   "metadata": {
    "collapsed": false
   }
  },
  {
   "cell_type": "code",
   "execution_count": 13,
   "outputs": [
    {
     "data": {
      "text/plain": "y",
      "text/latex": "$\\displaystyle y$"
     },
     "metadata": {},
     "output_type": "display_data"
    }
   ],
   "source": [
    "# Real, declared positive\n",
    "sqrt_y = sympy.sqrt(y ** 2)\n",
    "display(sqrt_y)"
   ],
   "metadata": {
    "collapsed": false
   }
  },
  {
   "cell_type": "code",
   "execution_count": 14,
   "outputs": [
    {
     "data": {
      "text/plain": "I*Abs(z)",
      "text/latex": "$\\displaystyle i \\left|{z}\\right|$"
     },
     "metadata": {},
     "output_type": "display_data"
    }
   ],
   "source": [
    "# Imaginary\n",
    "sqrt_z = sympy.sqrt(z ** 2)\n",
    "display(sqrt_z)"
   ],
   "metadata": {
    "collapsed": false
   }
  },
  {
   "cell_type": "markdown",
   "source": [
    "----\n",
    "&nbsp;\n",
    "Declaring `integer` & `even` or `odd`"
   ],
   "metadata": {
    "collapsed": false
   }
  },
  {
   "cell_type": "code",
   "execution_count": 15,
   "outputs": [],
   "source": [
    "n1 = sympy.Symbol(\"n\")                      # Some variable n\n",
    "n2 = sympy.Symbol(\"n\", integer=True)        # n is an integer\n",
    "n3 = sympy.Symbol(\"n\", odd=True)            # n is an odd integer"
   ],
   "metadata": {
    "collapsed": false
   }
  },
  {
   "cell_type": "code",
   "execution_count": 16,
   "outputs": [
    {
     "data": {
      "text/plain": "cos(pi*n)",
      "text/latex": "$\\displaystyle \\cos{\\left(\\pi n \\right)}$"
     },
     "execution_count": 16,
     "metadata": {},
     "output_type": "execute_result"
    }
   ],
   "source": [
    "sympy.cos(n1 * sympy.pi)"
   ],
   "metadata": {
    "collapsed": false
   }
  },
  {
   "cell_type": "code",
   "execution_count": 17,
   "outputs": [
    {
     "data": {
      "text/plain": "(-1)**n",
      "text/latex": "$\\displaystyle \\left(-1\\right)^{n}$"
     },
     "execution_count": 17,
     "metadata": {},
     "output_type": "execute_result"
    }
   ],
   "source": [
    "sympy.cos(n2 * sympy.pi)"
   ],
   "metadata": {
    "collapsed": false
   }
  },
  {
   "cell_type": "code",
   "execution_count": 18,
   "outputs": [
    {
     "data": {
      "text/plain": "-1",
      "text/latex": "$\\displaystyle -1$"
     },
     "execution_count": 18,
     "metadata": {},
     "output_type": "execute_result"
    }
   ],
   "source": [
    "sympy.cos(n3 * sympy.pi)"
   ],
   "metadata": {
    "collapsed": false
   }
  },
  {
   "cell_type": "markdown",
   "source": [
    "We can declare a number of variables at a time using `symbol` class"
   ],
   "metadata": {
    "collapsed": false
   }
  },
  {
   "cell_type": "code",
   "execution_count": 19,
   "outputs": [],
   "source": [
    "# positive a, b, c\n",
    "a, b, c = sympy.symbols(\"a, b, c\", positive=True)"
   ],
   "metadata": {
    "collapsed": false
   }
  },
  {
   "cell_type": "markdown",
   "source": [
    "-----"
   ],
   "metadata": {
    "collapsed": false
   }
  },
  {
   "cell_type": "markdown",
   "source": [
    "## Numbers"
   ],
   "metadata": {
    "collapsed": false
   }
  },
  {
   "cell_type": "code",
   "execution_count": 20,
   "outputs": [
    {
     "name": "stdout",
     "output_type": "stream",
     "text": [
      "Type of 'i': <class 'sympy.core.numbers.Integer'>\n",
      "Is 'i' an Integer? True\n",
      "Is 'i' real? True\n",
      "Is 'i' odd? True\n"
     ]
    }
   ],
   "source": [
    "# Create instance of sympy.Integer\n",
    "i = sympy.Integer(19)\n",
    "\n",
    "# Query properties of sympy.Integer instance\n",
    "print(f\"Type of 'i': {type(i)}\")\n",
    "print(f\"Is 'i' an Integer? {i.is_Integer}\")\n",
    "print(f\"Is 'i' real? {i.is_real}\")\n",
    "print(f\"Is 'i' odd? {i.is_odd}\")"
   ],
   "metadata": {
    "collapsed": false
   }
  },
  {
   "cell_type": "code",
   "execution_count": 21,
   "outputs": [
    {
     "name": "stdout",
     "output_type": "stream",
     "text": [
      "\n",
      "Type of 'f': <class 'sympy.core.numbers.Float'>\n",
      "Is 'f' an Integer? False\n",
      "Is 'f' real? True\n",
      "Is 'f' odd? False\n"
     ]
    }
   ],
   "source": [
    "# Create instance sympy.Float\n",
    "f = sympy.Float(2.3)\n",
    "\n",
    "# Query properties of sympy.Float instance\n",
    "print(f\"\\nType of 'f': {type(f)}\")\n",
    "print(f\"Is 'f' an Integer? {f.is_Integer}\")\n",
    "print(f\"Is 'f' real? {f.is_real}\")\n",
    "print(f\"Is 'f' odd? {f.is_odd}\")"
   ],
   "metadata": {
    "collapsed": false
   }
  },
  {
   "cell_type": "code",
   "execution_count": 22,
   "outputs": [
    {
     "name": "stdout",
     "output_type": "stream",
     "text": [
      "\n",
      "Casting 'i' to int: 19\n",
      "Casting 'f' to float: 2.3\n",
      "\n",
      "Type of 'i' using sympify: <class 'sympy.core.numbers.Integer'>\n",
      "Type of 'f' using sympify: <class 'sympy.core.numbers.Float'>\n"
     ]
    }
   ],
   "source": [
    "# Cast sympy.Integer and sympy.Float instances to Python built-in types\n",
    "int_i = int(i)\n",
    "float_f = float(f)\n",
    "\n",
    "print(f\"\\nCasting 'i' to int: {int_i}\")\n",
    "print(f\"Casting 'f' to float: {float_f}\")\n",
    "\n",
    "# Creating SymPy representation using sympy.sympify\n",
    "i, f = sympy.sympify(19), sympy.sympify(2.3)\n",
    "\n",
    "print(f\"\\nType of 'i' using sympify: {type(i)}\")\n",
    "print(f\"Type of 'f' using sympify: {type(f)}\")"
   ],
   "metadata": {
    "collapsed": false
   }
  },
  {
   "cell_type": "markdown",
   "source": [
    "#### Integers"
   ],
   "metadata": {
    "collapsed": false
   }
  },
  {
   "cell_type": "code",
   "execution_count": 23,
   "outputs": [
    {
     "name": "stdout",
     "output_type": "stream",
     "text": [
      "n.is_integer: True\n",
      "n.is_Integer: False\n",
      "n.is_positive: None\n",
      "n.is_Symbol: True\n",
      "\n",
      "i.is_integer: True\n",
      "i.is_Integer: True\n",
      "i.is_positive: True\n",
      "i.is_Symbol: False\n"
     ]
    }
   ],
   "source": [
    "# Using Symbol with integer=True\n",
    "n = sympy.Symbol(\"n\", integer=True)\n",
    "print(f\"n.is_integer: {n.is_integer}\")\n",
    "print(f\"n.is_Integer: {n.is_Integer}\")\n",
    "print(f\"n.is_positive: {n.is_positive}\")\n",
    "print(f\"n.is_Symbol: {n.is_Symbol}\")\n",
    "\n",
    "# Using Integer\n",
    "i = sympy.Integer(19)\n",
    "print(f\"\\ni.is_integer: {i.is_integer}\")\n",
    "print(f\"i.is_Integer: {i.is_Integer}\")\n",
    "print(f\"i.is_positive: {i.is_positive}\")\n",
    "print(f\"i.is_Symbol: {i.is_Symbol}\")"
   ],
   "metadata": {
    "collapsed": false
   }
  },
  {
   "cell_type": "code",
   "execution_count": 24,
   "outputs": [
    {
     "name": "stdout",
     "output_type": "stream",
     "text": [
      "\n",
      "i ** 50:\n",
      "8663234049605954426644038200675212212900743262211018069459689001\n",
      "\n",
      "factorial(100):\n",
      "93326215443944152681699238856266700490715968264381621468592963895217599993229915608941463976156518286253697920827223758251185210916864000000000000000000000000\n"
     ]
    }
   ],
   "source": [
    "# Working with large integers\n",
    "result1 = i ** 50\n",
    "print(f\"\\ni ** 50:\\n{result1}\")\n",
    "\n",
    "result2 = sympy.factorial(100)\n",
    "print(f\"\\nfactorial(100):\\n{result2}\")"
   ],
   "metadata": {
    "collapsed": false
   }
  },
  {
   "cell_type": "markdown",
   "source": [
    "#### Floats"
   ],
   "metadata": {
    "collapsed": false
   }
  },
  {
   "cell_type": "markdown",
   "source": [
    "- `f1` is initialized with a Python float 0.3 and a precision of 25 decimal places."
   ],
   "metadata": {
    "collapsed": false
   }
  },
  {
   "cell_type": "code",
   "execution_count": 25,
   "outputs": [
    {
     "name": "stdout",
     "output_type": "stream",
     "text": [
      "f1: 0.2999999999999999888977698\n"
     ]
    }
   ],
   "source": [
    "# Using Float with a Python float\n",
    "f1 = sympy.Float(0.3, 25)\n",
    "print(f\"f1: {f1}\")"
   ],
   "metadata": {
    "collapsed": false
   }
  },
  {
   "cell_type": "markdown",
   "source": [
    "- `f2` is initialized from a string '0.3' with the same precision."
   ],
   "metadata": {
    "collapsed": false
   }
  },
  {
   "cell_type": "code",
   "execution_count": 26,
   "outputs": [
    {
     "name": "stdout",
     "output_type": "stream",
     "text": [
      "f2: 0.3000000000000000000000000\n"
     ]
    }
   ],
   "source": [
    "# Using Float with a string representation\n",
    "f2 = sympy.Float('0.3', 25)\n",
    "print(f\"f2: {f2}\")"
   ],
   "metadata": {
    "collapsed": false
   }
  },
  {
   "cell_type": "code",
   "execution_count": 27,
   "outputs": [
    {
     "name": "stdout",
     "output_type": "stream",
     "text": [
      "\n",
      "0.2999999999999999888977698\n",
      "\n",
      "0.3, 25.d.p == 0.3: True\n",
      "String 0.3 == 0.3: False\n"
     ]
    }
   ],
   "source": [
    "# Displaying the limitation of Python's float\n",
    "python_float = 0.3\n",
    "print(f\"\\n%.25f\" % python_float)\n",
    "\n",
    "# Comparing Float with Python's float\n",
    "print(f\"\\n0.3, 25.d.p == 0.3: {f1 == python_float}\")\n",
    "print(f\"String 0.3 == 0.3: {f2 == python_float}\")"
   ],
   "metadata": {
    "collapsed": false
   }
  },
  {
   "cell_type": "markdown",
   "source": [
    "#### Rational Numbers"
   ],
   "metadata": {
    "collapsed": false
   }
  },
  {
   "cell_type": "code",
   "execution_count": 28,
   "outputs": [
    {
     "name": "stdout",
     "output_type": "stream",
     "text": [
      "r1:\n"
     ]
    },
    {
     "data": {
      "text/plain": "11/13",
      "text/latex": "$\\displaystyle \\frac{11}{13}$"
     },
     "metadata": {},
     "output_type": "display_data"
    },
    {
     "name": "stdout",
     "output_type": "stream",
     "text": [
      "r2:\n"
     ]
    },
    {
     "data": {
      "text/plain": "2/3",
      "text/latex": "$\\displaystyle \\frac{2}{3}$"
     },
     "metadata": {},
     "output_type": "display_data"
    },
    {
     "name": "stdout",
     "output_type": "stream",
     "text": [
      "r3:\n"
     ]
    },
    {
     "data": {
      "text/plain": "4/5",
      "text/latex": "$\\displaystyle \\frac{4}{5}$"
     },
     "metadata": {},
     "output_type": "display_data"
    },
    {
     "name": "stdout",
     "output_type": "stream",
     "text": [
      "r2 * r3:\n"
     ]
    },
    {
     "data": {
      "text/plain": "8/15",
      "text/latex": "$\\displaystyle \\frac{8}{15}$"
     },
     "metadata": {},
     "output_type": "display_data"
    },
    {
     "name": "stdout",
     "output_type": "stream",
     "text": [
      "r2 / r3:\n"
     ]
    },
    {
     "data": {
      "text/plain": "5/6",
      "text/latex": "$\\displaystyle \\frac{5}{6}$"
     },
     "metadata": {},
     "output_type": "display_data"
    }
   ],
   "source": [
    "# Creating rational numbers\n",
    "r1 = sympy.Rational(11, 13)\n",
    "print(f\"r1:\")\n",
    "display(r1)\n",
    "\n",
    "# Performing arithmetic operations\n",
    "r2 = sympy.Rational(2, 3)\n",
    "print(\"r2:\")\n",
    "display(r2)\n",
    "\n",
    "r3 = sympy.Rational(4, 5)\n",
    "print(\"r3:\")\n",
    "display(r3)\n",
    "\n",
    "multiply_result = r2 * r3\n",
    "print(f\"r2 * r3:\")\n",
    "display(multiply_result)\n",
    "\n",
    "divide_result = r2 / r3\n",
    "print(f\"r2 / r3:\")\n",
    "display(divide_result)"
   ],
   "metadata": {
    "collapsed": false
   }
  },
  {
   "cell_type": "markdown",
   "source": [
    "----"
   ],
   "metadata": {
    "collapsed": false
   }
  },
  {
   "cell_type": "markdown",
   "source": [
    "#### Constants & Special Symbols"
   ],
   "metadata": {
    "collapsed": false
   }
  },
  {
   "cell_type": "markdown",
   "source": [
    "| Mathematical Symbol | SymPy Symbol       | Description                                              |\n",
    "|---------------------|--------------------|----------------------------------------------------------|\n",
    "| π                   | `sympy.pi`         | Ratio of the circumference to the diameter of a circle.   |\n",
    "| e                   | `sympy.E`          | The base of the natural logarithm, e = exp(1).            |\n",
    "| γ                   | `sympy.EulerGamma` | Euler’s constant.                                        |\n",
    "| i                   | `sympy.I`          | The imaginary unit.                                      |\n",
    "| ∞                   | `sympy.oo`         | Infinity.                                                |\n"
   ],
   "metadata": {
    "collapsed": false
   }
  },
  {
   "cell_type": "markdown",
   "source": [
    "----\n",
    "&nbsp;\n",
    "## Functions"
   ],
   "metadata": {
    "collapsed": false
   }
  },
  {
   "cell_type": "markdown",
   "source": [
    "#### Defined Functions vs. Undefined Functions:\n",
    "- Defined Functions: These functions have their expressions or bodies defined. They represent specific mathematical functions and can be evaluated or manipulated using SymPy's functionalities.\n",
    "&nbsp;\n",
    "- Undefined Functions: These functions are abstract and do not have their expressions or bodies defined. They represent arbitrary functions that can take any number of input variables. They cannot be evaluated directly because their expressions are not specified."
   ],
   "metadata": {
    "collapsed": false
   }
  },
  {
   "cell_type": "code",
   "execution_count": 29,
   "outputs": [
    {
     "name": "stdout",
     "output_type": "stream",
     "text": [
      "Creating an undefined function f: f\n",
      "Type of f: <class 'sympy.core.function.UndefinedFunction'>\n",
      "Applying function f to symbol x: f(x)\n",
      "\n",
      "Creating a function g directly applied to symbols x, y, z: g(x, y, z)\n",
      "The free symbols associated with function g: {x, y, z}\n"
     ]
    }
   ],
   "source": [
    "x, y, z = sympy.symbols(\"x, y, z\")\n",
    "\n",
    "\n",
    "f = sympy.Function(\"f\")\n",
    "print(f\"Creating an undefined function f: {f}\")\n",
    "print(f\"Type of f: {type(f)}\")\n",
    "print(f\"Applying function f to symbol x: {f(x)}\")\n",
    "\n",
    "\n",
    "g = sympy.Function(\"g\")(x, y, z)\n",
    "print(f\"\\nCreating a function g directly applied to symbols x, y, z: {g}\")\n",
    "print(f\"The free symbols associated with function g: {g.free_symbols}\")"
   ],
   "metadata": {
    "collapsed": false
   }
  },
  {
   "cell_type": "markdown",
   "source": [
    "#### Applied Functions vs. Unapplied Functions:\n",
    "- Applied Functions: These functions are obtained by applying an undefined or defined function to a specific set of input symbols or variables. The result is an unevaluated function with a fixed set of dependent variables. Applied functions can be further manipulated or used in mathematical operations.\n",
    "&nbsp;\n",
    "- Unapplied Functions: These functions are not yet applied to any specific input symbols or variables. They have a name but no associated expression or dependency on particular variables. Unapplied functions can represent general functions of arbitrary input variables and are not evaluated until they are applied to specific symbols."
   ],
   "metadata": {
    "collapsed": false
   }
  },
  {
   "cell_type": "code",
   "execution_count": 30,
   "outputs": [
    {
     "name": "stdout",
     "output_type": "stream",
     "text": [
      "Examples:\n",
      "\n",
      "sympy.sin:\n"
     ]
    },
    {
     "data": {
      "text/plain": "sin"
     },
     "metadata": {},
     "output_type": "display_data"
    },
    {
     "name": "stdout",
     "output_type": "stream",
     "text": [
      "sympy.sin(x):\n"
     ]
    },
    {
     "data": {
      "text/plain": "sin(x)",
      "text/latex": "$\\displaystyle \\sin{\\left(x \\right)}$"
     },
     "metadata": {},
     "output_type": "display_data"
    },
    {
     "name": "stdout",
     "output_type": "stream",
     "text": [
      "sympy.sin(pi * 1.5):\n"
     ]
    },
    {
     "data": {
      "text/plain": "-1",
      "text/latex": "$\\displaystyle -1$"
     },
     "metadata": {},
     "output_type": "display_data"
    },
    {
     "name": "stdout",
     "output_type": "stream",
     "text": [
      "sympy.sin(pi * n):\n"
     ]
    },
    {
     "data": {
      "text/plain": "0",
      "text/latex": "$\\displaystyle 0$"
     },
     "metadata": {},
     "output_type": "display_data"
    }
   ],
   "source": [
    "# Examples\n",
    "x = sympy.symbols(\"x\")\n",
    "print(f\"Examples:\\n\")\n",
    "\n",
    "print(f\"sympy.sin:\")\n",
    "display(sympy.sin)\n",
    "\n",
    "print(f\"sympy.sin(x):\")\n",
    "display(sympy.sin(x))\n",
    "\n",
    "print(f\"sympy.sin(pi * 1.5):\")\n",
    "display(sympy.sin(sympy.pi * 1.5))\n",
    "\n",
    "print(f\"sympy.sin(pi * n):\")\n",
    "display(sympy.sin(sympy.pi * n))\n"
   ],
   "metadata": {
    "collapsed": false
   }
  },
  {
   "cell_type": "markdown",
   "source": [
    "#### Lambda Functions\n",
    "- A third type of function in SymPy is lambda functions, or anonymous functions, which do not have names associated with them, but do have a specific function body that can be evaluated. Lambda functions can be created with sympy.Lambda.\""
   ],
   "metadata": {
    "collapsed": false
   }
  },
  {
   "cell_type": "code",
   "execution_count": 31,
   "outputs": [
    {
     "name": "stdout",
     "output_type": "stream",
     "text": [
      "\n",
      "Lambda Functions:\n",
      "h: Lambda(x, x**2)\n"
     ]
    },
    {
     "data": {
      "text/plain": "Lambda(x, x**2)",
      "text/latex": "$\\displaystyle \\left( x \\mapsto x^{2} \\right)$"
     },
     "metadata": {},
     "output_type": "display_data"
    },
    {
     "name": "stdout",
     "output_type": "stream",
     "text": [
      "h(5):\n"
     ]
    },
    {
     "data": {
      "text/plain": "25",
      "text/latex": "$\\displaystyle 25$"
     },
     "metadata": {},
     "output_type": "display_data"
    },
    {
     "name": "stdout",
     "output_type": "stream",
     "text": [
      "h(1 + x):\n"
     ]
    },
    {
     "data": {
      "text/plain": "(x + 1)**2",
      "text/latex": "$\\displaystyle \\left(x + 1\\right)^{2}$"
     },
     "metadata": {},
     "output_type": "display_data"
    }
   ],
   "source": [
    "# Lambda Functions\n",
    "print(f\"\\nLambda Functions:\")\n",
    "\n",
    "h = sympy.Lambda(x, x**2)\n",
    "\n",
    "print(f\"h: {h}\")\n",
    "display(h)\n",
    "\n",
    "print(f\"h(5):\")\n",
    "display(h(5))\n",
    "\n",
    "print(f\"h(1 + x):\")\n",
    "display(h(1 + x))"
   ],
   "metadata": {
    "collapsed": false
   }
  },
  {
   "cell_type": "markdown",
   "source": [
    "----"
   ],
   "metadata": {
    "collapsed": false
   }
  },
  {
   "cell_type": "markdown",
   "source": [
    "## Expressions"
   ],
   "metadata": {
    "collapsed": false
   }
  },
  {
   "cell_type": "markdown",
   "source": [
    "In SymPy, mathematical expressions are represented as trees where leaves are symbols and nodes are class instances that represent mathematical operations. Examples of these classes are `Add`, `Mul`, and `Pow` for basic arithmetic operators and `Sum`, `Product`, `Integral`, and `Derivative` for analytical mathematical operations."
   ],
   "metadata": {
    "collapsed": false
   }
  },
  {
   "cell_type": "code",
   "execution_count": 32,
   "outputs": [
    {
     "data": {
      "text/plain": "3*x**3 + 2*x**2 + 1",
      "text/latex": "$\\displaystyle 3 x^{3} + 2 x^{2} + 1$"
     },
     "execution_count": 32,
     "metadata": {},
     "output_type": "execute_result"
    }
   ],
   "source": [
    "x = sympy.Symbol(\"x\")\n",
    "\n",
    "expr = 1 + 2*x**2 + 3*x**3\n",
    "expr"
   ],
   "metadata": {
    "collapsed": false
   }
  },
  {
   "cell_type": "markdown",
   "source": [
    "#### Here expr is an instance of `Add`, with the subexpressions `1`, `2*x**2`, and `3*x**3`"
   ],
   "metadata": {
    "collapsed": false
   }
  },
  {
   "cell_type": "markdown",
   "source": [
    "<img height=\"464.8\" src=\"/Users/Ian/Documents/Study/Stage3/Programming/Python/Numerical Python/images/sympy_expression_tree.png\" width=\"827.2\"/>"
   ],
   "metadata": {
    "collapsed": false
   }
  },
  {
   "cell_type": "markdown",
   "source": [
    "The expression can be traversed using the `args` attribute"
   ],
   "metadata": {
    "collapsed": false
   }
  },
  {
   "cell_type": "code",
   "execution_count": 33,
   "outputs": [
    {
     "name": "stdout",
     "output_type": "stream",
     "text": [
      "expr.args: (1, 2*x**2, 3*x**3)\n",
      "\n",
      "expr.args[0]: 1\n",
      "\n",
      "expr.args[1]: 2*x**2\n",
      "\n",
      "expr.args[2]: 3*x**3\n"
     ]
    }
   ],
   "source": [
    "# expr.args\n",
    "print(f\"expr.args: {expr.args}\")\n",
    "\n",
    "# expr.args[0]\n",
    "print(f\"\\nexpr.args[0]: {expr.args[0]}\")\n",
    "\n",
    "# expr.args[1]\n",
    "print(f\"\\nexpr.args[1]: {expr.args[1]}\")\n",
    "\n",
    "# expr.args[2]\n",
    "print(f\"\\nexpr.args[2]: {expr.args[2]}\")"
   ],
   "metadata": {
    "collapsed": false
   }
  },
  {
   "cell_type": "code",
   "execution_count": 34,
   "outputs": [
    {
     "name": "stdout",
     "output_type": "stream",
     "text": [
      "We traverse the second element, [1] in expr.args\n",
      "\n",
      "expr.args[1]: 2*x**2\n",
      "\n",
      "expr.args[1].args[1]: x**2\n",
      "\n",
      "expr.args[1].args[1].args[0]: x\n",
      "\n",
      "expr.args[1].args[1].args[0].args: ()\n",
      "No further to traverse, end of tuple\n"
     ]
    }
   ],
   "source": [
    "print(\"We traverse the second element, [1] in expr.args\")\n",
    "# expr.args[1]\n",
    "print(f\"\\nexpr.args[1]: {expr.args[1]}\")\n",
    "\n",
    "# expr.args[1].args[1]\n",
    "print(f\"\\nexpr.args[1].args[1]: {expr.args[1].args[1]}\")\n",
    "\n",
    "# expr.args[1].args[1].args[0]\n",
    "print(f\"\\nexpr.args[1].args[1].args[0]: {expr.args[1].args[1].args[0]}\")\n",
    "\n",
    "# expr.args[1].args[1].args[0].args\n",
    "print(f\"\\nexpr.args[1].args[1].args[0].args: {expr.args[1].args[1].args[0].args}\\nNo further to traverse, end of tuple\")"
   ],
   "metadata": {
    "collapsed": false
   }
  },
  {
   "cell_type": "markdown",
   "source": [
    "----\n",
    "&nbsp;\n",
    "## Simplification"
   ],
   "metadata": {
    "collapsed": false
   }
  },
  {
   "cell_type": "code",
   "execution_count": 35,
   "outputs": [
    {
     "data": {
      "text/plain": "2*x**2 - x*(x + 1) - 2*x",
      "text/latex": "$\\displaystyle 2 x^{2} - x \\left(x + 1\\right) - 2 x$"
     },
     "metadata": {},
     "output_type": "display_data"
    },
    {
     "name": "stdout",
     "output_type": "stream",
     "text": [
      "simplified_expr (using simplify function):\n"
     ]
    },
    {
     "data": {
      "text/plain": "x*(x - 3)",
      "text/latex": "$\\displaystyle x \\left(x - 3\\right)$"
     },
     "metadata": {},
     "output_type": "display_data"
    },
    {
     "name": "stdout",
     "output_type": "stream",
     "text": [
      "\n",
      "expr_simplified (using simplify method):\n"
     ]
    },
    {
     "data": {
      "text/plain": "x*(x - 3)",
      "text/latex": "$\\displaystyle x \\left(x - 3\\right)$"
     },
     "metadata": {},
     "output_type": "display_data"
    },
    {
     "name": "stdout",
     "output_type": "stream",
     "text": [
      "Both the same...\n",
      "\n",
      "expr remains unchanged:\n"
     ]
    },
    {
     "data": {
      "text/plain": "2*x**2 - x*(x + 1) - 2*x",
      "text/latex": "$\\displaystyle 2 x^{2} - x \\left(x + 1\\right) - 2 x$"
     },
     "metadata": {},
     "output_type": "display_data"
    }
   ],
   "source": [
    "# Create an expression\n",
    "expr = 2 * (x**2 - x) - x * (x + 1)\n",
    "display(expr)\n",
    "\n",
    "# Simplify the expression using the `simplify` function\n",
    "simplified_expr = sympy.simplify(expr)\n",
    "print(f\"simplified_expr (using simplify function):\")\n",
    "display(simplified_expr)\n",
    "\n",
    "# Simplify the expression using the `simplify` method\n",
    "expr_simplified = expr.simplify()\n",
    "print(f\"\\nexpr_simplified (using simplify method):\")\n",
    "display(expr_simplified)\n",
    "print(\"Both the same...\")\n",
    "\n",
    "# Print the original expression to show it remains unchanged\n",
    "print(f\"\\nexpr remains unchanged:\")\n",
    "display(expr)"
   ],
   "metadata": {
    "collapsed": false
   }
  },
  {
   "cell_type": "code",
   "execution_count": 36,
   "outputs": [
    {
     "name": "stdout",
     "output_type": "stream",
     "text": [
      "expr:\n"
     ]
    },
    {
     "data": {
      "text/plain": "2*sin(x)*cos(x)",
      "text/latex": "$\\displaystyle 2 \\sin{\\left(x \\right)} \\cos{\\left(x \\right)}$"
     },
     "metadata": {},
     "output_type": "display_data"
    },
    {
     "name": "stdout",
     "output_type": "stream",
     "text": [
      "\n",
      "simplified_expr:\n"
     ]
    },
    {
     "data": {
      "text/plain": "sin(2*x)",
      "text/latex": "$\\displaystyle \\sin{\\left(2 x \\right)}$"
     },
     "metadata": {},
     "output_type": "display_data"
    }
   ],
   "source": [
    "# Trigonometric expression\n",
    "expr = 2 * sympy.cos(x) * sympy.sin(x)\n",
    "print(f\"expr:\")\n",
    "display(expr)\n",
    "\n",
    "simplified_expr = sympy.simplify(expr)\n",
    "print(f\"\\nsimplified_expr:\")\n",
    "display(simplified_expr)"
   ],
   "metadata": {
    "collapsed": false
   }
  },
  {
   "cell_type": "code",
   "execution_count": 37,
   "outputs": [
    {
     "name": "stdout",
     "output_type": "stream",
     "text": [
      "\n",
      "expr:\n"
     ]
    },
    {
     "data": {
      "text/plain": "exp(x)*exp(y)",
      "text/latex": "$\\displaystyle e^{x} e^{y}$"
     },
     "metadata": {},
     "output_type": "display_data"
    },
    {
     "name": "stdout",
     "output_type": "stream",
     "text": [
      "\n",
      "simplified_expr:\n"
     ]
    },
    {
     "data": {
      "text/plain": "exp(x + y)",
      "text/latex": "$\\displaystyle e^{x + y}$"
     },
     "metadata": {},
     "output_type": "display_data"
    }
   ],
   "source": [
    "# Power expression\n",
    "expr = sympy.exp(x) * sympy.exp(y)\n",
    "print(f\"\\nexpr:\")\n",
    "display(expr)\n",
    "\n",
    "simplified_expr = sympy.simplify(expr)\n",
    "print(f\"\\nsimplified_expr:\")\n",
    "display(simplified_expr)"
   ],
   "metadata": {
    "collapsed": false
   }
  },
  {
   "cell_type": "markdown",
   "source": [
    "----\n",
    "&nbsp;\n",
    "## Expand"
   ],
   "metadata": {
    "collapsed": false
   }
  },
  {
   "cell_type": "markdown",
   "source": [
    "##### Expand expressions using `sympy.expand`"
   ],
   "metadata": {
    "collapsed": false
   }
  },
  {
   "cell_type": "code",
   "execution_count": 38,
   "outputs": [
    {
     "name": "stdout",
     "output_type": "stream",
     "text": [
      "expression: (x + 1)*(x + 2)\n",
      "Expanded expression (products distributed over additions):\n"
     ]
    },
    {
     "data": {
      "text/plain": "x**2 + 3*x + 2",
      "text/latex": "$\\displaystyle x^{2} + 3 x + 2$"
     },
     "metadata": {},
     "output_type": "display_data"
    }
   ],
   "source": [
    "# Distributing products over additions\n",
    "expr = (x + 1) * (x + 2)\n",
    "print(f\"expression: {expr}\")\n",
    "expanded_expr = sympy.expand(expr)\n",
    "print(f\"Expanded expression (products distributed over additions):\")\n",
    "display(expanded_expr)"
   ],
   "metadata": {
    "collapsed": false
   }
  },
  {
   "cell_type": "code",
   "execution_count": 39,
   "outputs": [
    {
     "name": "stdout",
     "output_type": "stream",
     "text": [
      "\n",
      "expression: sin(x + y)\n",
      "Expanded expression (trigonometric expansion):\n"
     ]
    },
    {
     "data": {
      "text/plain": "sin(x)*cos(y) + sin(y)*cos(x)",
      "text/latex": "$\\displaystyle \\sin{\\left(x \\right)} \\cos{\\left(y \\right)} + \\sin{\\left(y \\right)} \\cos{\\left(x \\right)}$"
     },
     "metadata": {},
     "output_type": "display_data"
    }
   ],
   "source": [
    "# Trigonometric expansion\n",
    "expr = sympy.sin(x + y)\n",
    "print(f\"\\nexpression: {expr}\")\n",
    "expanded_expr = sympy.expand(expr, trig=True)\n",
    "print(f\"Expanded expression (trigonometric expansion):\")\n",
    "display(expanded_expr)"
   ],
   "metadata": {
    "collapsed": false
   }
  },
  {
   "cell_type": "code",
   "execution_count": 40,
   "outputs": [
    {
     "name": "stdout",
     "output_type": "stream",
     "text": [
      "\n",
      "expression: log(a*b)\n",
      "Expanded expression (logarithmic expansion):\n"
     ]
    },
    {
     "data": {
      "text/plain": "log(a) + log(b)",
      "text/latex": "$\\displaystyle \\log{\\left(a \\right)} + \\log{\\left(b \\right)}$"
     },
     "metadata": {},
     "output_type": "display_data"
    }
   ],
   "source": [
    "# Logarithmic expansion\n",
    "a, b = sympy.symbols(\"a, b\", positive=True)\n",
    "expr = sympy.log(a * b)\n",
    "print(f\"\\nexpression: {expr}\")\n",
    "expanded_expr = sympy.expand(expr, log=True)\n",
    "print(f\"Expanded expression (logarithmic expansion):\")\n",
    "display(expanded_expr)"
   ],
   "metadata": {
    "collapsed": false
   }
  },
  {
   "cell_type": "code",
   "execution_count": 41,
   "outputs": [
    {
     "name": "stdout",
     "output_type": "stream",
     "text": [
      "\n",
      "expression: exp(I*a + b)\n",
      "Expanded expression (complex expansion):\n"
     ]
    },
    {
     "data": {
      "text/plain": "I*exp(b)*sin(a) + exp(b)*cos(a)",
      "text/latex": "$\\displaystyle i e^{b} \\sin{\\left(a \\right)} + e^{b} \\cos{\\left(a \\right)}$"
     },
     "metadata": {},
     "output_type": "display_data"
    }
   ],
   "source": [
    "# Complex expansion\n",
    "expr = sympy.exp(sympy.I*a + b)\n",
    "expanded_expr = sympy.expand(expr, complex=True)\n",
    "print(f\"\\nexpression: {expr}\")\n",
    "print(f\"Expanded expression (complex expansion):\")\n",
    "display(expanded_expr)"
   ],
   "metadata": {
    "collapsed": false
   }
  },
  {
   "cell_type": "code",
   "execution_count": 42,
   "outputs": [
    {
     "name": "stdout",
     "output_type": "stream",
     "text": [
      "\n",
      "expression: (a*b)**x\n",
      "Expanded expression (power base expansion):\n"
     ]
    },
    {
     "data": {
      "text/plain": "a**x*b**x",
      "text/latex": "$\\displaystyle a^{x} b^{x}$"
     },
     "metadata": {},
     "output_type": "display_data"
    }
   ],
   "source": [
    "# Power base expansion\n",
    "expr = (a * b)**x\n",
    "expanded_expr = sympy.expand(expr, power_base=True)\n",
    "print(f\"\\nexpression: {expr}\")\n",
    "print(f\"Expanded expression (power base expansion):\")\n",
    "display(expanded_expr)"
   ],
   "metadata": {
    "collapsed": false
   }
  },
  {
   "cell_type": "code",
   "execution_count": 43,
   "outputs": [
    {
     "name": "stdout",
     "output_type": "stream",
     "text": [
      "\n",
      "expression: exp(x*(a - b))\n",
      "Expanded expression (power exponent expansion):\n"
     ]
    },
    {
     "data": {
      "text/plain": "exp(a*x)*exp(-b*x)",
      "text/latex": "$\\displaystyle e^{a x} e^{- b x}$"
     },
     "metadata": {},
     "output_type": "display_data"
    }
   ],
   "source": [
    "# Power exponent expansion\n",
    "expr = sympy.exp((a-b)*x)\n",
    "expanded_expr = expr.expand(power_exp=True)\n",
    "print(f\"\\nexpression: {expr}\")\n",
    "print(f\"Expanded expression (power exponent expansion):\")\n",
    "display(expanded_expr)"
   ],
   "metadata": {
    "collapsed": false
   }
  },
  {
   "cell_type": "markdown",
   "source": [
    "----\n",
    "&nbsp;\n",
    "## Factor, Collect & Combine"
   ],
   "metadata": {
    "collapsed": false
   }
  },
  {
   "cell_type": "code",
   "execution_count": 44,
   "outputs": [
    {
     "name": "stdout",
     "output_type": "stream",
     "text": [
      "Expression: x**2 - 1\n",
      "Factored expression:\n"
     ]
    },
    {
     "data": {
      "text/plain": "(x - 1)*(x + 1)",
      "text/latex": "$\\displaystyle \\left(x - 1\\right) \\left(x + 1\\right)$"
     },
     "metadata": {},
     "output_type": "display_data"
    },
    {
     "name": "stdout",
     "output_type": "stream",
     "text": [
      "\n",
      "Expression: x*sin(z) + x*cos(y)\n",
      "Factored expression:\n"
     ]
    },
    {
     "data": {
      "text/plain": "x*(sin(z) + cos(y))",
      "text/latex": "$\\displaystyle x \\left(\\sin{\\left(z \\right)} + \\cos{\\left(y \\right)}\\right)$"
     },
     "metadata": {},
     "output_type": "display_data"
    }
   ],
   "source": [
    "# Factorization using sympy.factor\n",
    "\n",
    "expr = x**2 - 1\n",
    "print(f\"Expression: {expr}\")\n",
    "factored_expr = sympy.factor(expr)\n",
    "print(f\"Factored expression:\")\n",
    "display(factored_expr)\n",
    "\n",
    "expr = x * sympy.cos(y) + sympy.sin(z) * x\n",
    "print(f\"\\nExpression: {expr}\")\n",
    "factored_expr = sympy.factor(expr)\n",
    "print(f\"Factored expression:\")\n",
    "display(factored_expr)"
   ],
   "metadata": {
    "collapsed": false
   }
  },
  {
   "cell_type": "code",
   "execution_count": 45,
   "outputs": [
    {
     "name": "stdout",
     "output_type": "stream",
     "text": [
      "\n",
      "Expression: log(a) - log(b)\n",
      "Simplified expression:\n"
     ]
    },
    {
     "data": {
      "text/plain": "log(a/b)",
      "text/latex": "$\\displaystyle \\log{\\left(\\frac{a}{b} \\right)}$"
     },
     "metadata": {},
     "output_type": "display_data"
    }
   ],
   "source": [
    "# Inverse expansions using sympy.trigsimp, sympy.powsimp, sympy.logcombine\n",
    "expr = sympy.log(a) - sympy.log(b)\n",
    "print(f\"\\nExpression: {expr}\")\n",
    "simplified_expr = sympy.logcombine(expr)\n",
    "print(f\"Simplified expression:\")\n",
    "display(simplified_expr)"
   ],
   "metadata": {
    "collapsed": false
   }
  },
  {
   "cell_type": "code",
   "execution_count": 46,
   "outputs": [
    {
     "name": "stdout",
     "output_type": "stream",
     "text": [
      "\n",
      "Expression: x*y*z + x + y\n",
      "Collected expression with respect to x:\n"
     ]
    },
    {
     "data": {
      "text/plain": "x*(y*z + 1) + y",
      "text/latex": "$\\displaystyle x \\left(y z + 1\\right) + y$"
     },
     "metadata": {},
     "output_type": "display_data"
    },
    {
     "name": "stdout",
     "output_type": "stream",
     "text": [
      "Collected expression with respect to y:\n"
     ]
    },
    {
     "data": {
      "text/plain": "x + y*(x*z + 1)",
      "text/latex": "$\\displaystyle x + y \\left(x z + 1\\right)$"
     },
     "metadata": {},
     "output_type": "display_data"
    }
   ],
   "source": [
    "# Collection using sympy.collect\n",
    "expr = x + y + x * y * z\n",
    "print(f\"\\nExpression: {expr}\")\n",
    "collected_expr = expr.collect(x)\n",
    "print(f\"Collected expression with respect to x:\")\n",
    "display(collected_expr)\n",
    "\n",
    "collected_expr = expr.collect(y)\n",
    "print(f\"Collected expression with respect to y:\")\n",
    "display(collected_expr)"
   ],
   "metadata": {
    "collapsed": false
   }
  },
  {
   "cell_type": "code",
   "execution_count": 47,
   "outputs": [
    {
     "name": "stdout",
     "output_type": "stream",
     "text": [
      "\n",
      "Expression: sin(x - y) + cos(x + y)\n",
      "Expanded and collected expression:\n"
     ]
    },
    {
     "data": {
      "text/plain": "(sin(x) + cos(x))*(-sin(y) + cos(y))",
      "text/latex": "$\\displaystyle \\left(\\sin{\\left(x \\right)} + \\cos{\\left(x \\right)}\\right) \\left(- \\sin{\\left(y \\right)} + \\cos{\\left(y \\right)}\\right)$"
     },
     "metadata": {},
     "output_type": "display_data"
    }
   ],
   "source": [
    "# Chaining collect method calls\n",
    "expr = sympy.cos(x + y) + sympy.sin(x - y)\n",
    "expanded_expr = expr.expand(trig=True)\n",
    "collected_expr = expanded_expr.collect([sympy.cos(x), sympy.sin(x)]).collect(sympy.cos(y) - sympy.sin(y))\n",
    "print(f\"\\nExpression: {expr}\")\n",
    "print(f\"Expanded and collected expression:\")\n",
    "display(collected_expr)"
   ],
   "metadata": {
    "collapsed": false
   }
  },
  {
   "cell_type": "markdown",
   "source": [
    "----\n",
    "&nbsp;\n",
    "## Apart, Together & Cancel"
   ],
   "metadata": {
    "collapsed": false
   }
  },
  {
   "cell_type": "markdown",
   "source": [
    "##### `apart`"
   ],
   "metadata": {
    "collapsed": false
   }
  },
  {
   "cell_type": "code",
   "execution_count": 48,
   "outputs": [
    {
     "name": "stdout",
     "output_type": "stream",
     "text": [
      "Expression: 1/(x**2 + 3*x + 2)\n",
      "Partial fraction decomposition:\n"
     ]
    },
    {
     "data": {
      "text/plain": "-1/(x + 2) + 1/(x + 1)",
      "text/latex": "$\\displaystyle - \\frac{1}{x + 2} + \\frac{1}{x + 1}$"
     },
     "metadata": {},
     "output_type": "display_data"
    }
   ],
   "source": [
    "expr = 1 / (x**2 + 3*x + 2)\n",
    "print(f\"Expression: {expr}\")\n",
    "apart_expr = sympy.apart(expr, x)\n",
    "print(f\"Partial fraction decomposition:\")\n",
    "display(apart_expr)"
   ],
   "metadata": {
    "collapsed": false
   }
  },
  {
   "cell_type": "markdown",
   "source": [
    "##### `together`"
   ],
   "metadata": {
    "collapsed": false
   }
  },
  {
   "cell_type": "code",
   "execution_count": 49,
   "outputs": [
    {
     "name": "stdout",
     "output_type": "stream",
     "text": [
      "\n",
      "Expression: 1/(x*y + y) + 1/(x + 1)\n",
      "Combined expression:\n"
     ]
    },
    {
     "data": {
      "text/plain": "(y + 1)/(y*(x + 1))",
      "text/latex": "$\\displaystyle \\frac{y + 1}{y \\left(x + 1\\right)}$"
     },
     "metadata": {},
     "output_type": "display_data"
    }
   ],
   "source": [
    "expr = 1 / (y * x + y) + 1 / (1 + x)\n",
    "print(f\"\\nExpression: {expr}\")\n",
    "together_expr = sympy.together(expr)\n",
    "print(f\"Combined expression:\")\n",
    "display(together_expr)"
   ],
   "metadata": {
    "collapsed": false
   }
  },
  {
   "cell_type": "markdown",
   "source": [
    "##### `cancel`"
   ],
   "metadata": {
    "collapsed": false
   }
  },
  {
   "cell_type": "code",
   "execution_count": 50,
   "outputs": [
    {
     "name": "stdout",
     "output_type": "stream",
     "text": [
      "\n",
      "Expression: y/(x*y + y)\n",
      "Canceled expression:\n"
     ]
    },
    {
     "data": {
      "text/plain": "1/(x + 1)",
      "text/latex": "$\\displaystyle \\frac{1}{x + 1}$"
     },
     "metadata": {},
     "output_type": "display_data"
    }
   ],
   "source": [
    "# Canceling shared factors using sympy.cancel\n",
    "expr = y / (y * x + y)\n",
    "print(f\"\\nExpression: {expr}\")\n",
    "canceled_expr = sympy.cancel(expr)\n",
    "print(f\"Canceled expression:\")\n",
    "display(canceled_expr)"
   ],
   "metadata": {
    "collapsed": false
   }
  },
  {
   "cell_type": "markdown",
   "source": [
    "----\n",
    "&nbsp;\n",
    "## Substitutions"
   ],
   "metadata": {
    "collapsed": false
   }
  },
  {
   "cell_type": "code",
   "execution_count": 51,
   "outputs": [
    {
     "name": "stdout",
     "output_type": "stream",
     "text": [
      "Expression\n"
     ]
    },
    {
     "data": {
      "text/plain": "x + y",
      "text/latex": "$\\displaystyle x + y$"
     },
     "metadata": {},
     "output_type": "display_data"
    },
    {
     "name": "stdout",
     "output_type": "stream",
     "text": [
      "We substitute x for y:\n"
     ]
    },
    {
     "data": {
      "text/plain": "2*y",
      "text/latex": "$\\displaystyle 2 y$"
     },
     "metadata": {},
     "output_type": "display_data"
    },
    {
     "name": "stdout",
     "output_type": "stream",
     "text": [
      "\n",
      "\n",
      "Expression\n"
     ]
    },
    {
     "data": {
      "text/plain": "sin(x*exp(x))",
      "text/latex": "$\\displaystyle \\sin{\\left(x e^{x} \\right)}$"
     },
     "metadata": {},
     "output_type": "display_data"
    },
    {
     "name": "stdout",
     "output_type": "stream",
     "text": [
      "\n",
      "We Substitute x for y:\n"
     ]
    },
    {
     "data": {
      "text/plain": "sin(y*exp(y))",
      "text/latex": "$\\displaystyle \\sin{\\left(y e^{y} \\right)}$"
     },
     "metadata": {},
     "output_type": "display_data"
    }
   ],
   "source": [
    "print(\"Expression\")\n",
    "display(x + y)\n",
    "\n",
    "# Symbol substitutions using subs method\n",
    "expr = (x + y).subs(x, y)\n",
    "print(f\"We substitute x for y:\")\n",
    "display(expr)\n",
    "\n",
    "expr = sympy.sin(x * sympy.exp(x))\n",
    "substitution = expr.subs(x, y)\n",
    "print(\"\\n\\nExpression\")\n",
    "display(expr)\n",
    "print(f\"\\nWe Substitute x for y:\")\n",
    "display(substitution)"
   ],
   "metadata": {
    "collapsed": false
   }
  },
  {
   "cell_type": "code",
   "execution_count": 52,
   "outputs": [
    {
     "name": "stdout",
     "output_type": "stream",
     "text": [
      "Expression:\n"
     ]
    },
    {
     "data": {
      "text/plain": "sin(x*z)",
      "text/latex": "$\\displaystyle \\sin{\\left(x z \\right)}$"
     },
     "metadata": {},
     "output_type": "display_data"
    },
    {
     "name": "stdout",
     "output_type": "stream",
     "text": [
      "We substitute;\n",
      "exp(y) for z, y for x & cos for sin\n"
     ]
    },
    {
     "data": {
      "text/plain": "cos(y*exp(y))",
      "text/latex": "$\\displaystyle \\cos{\\left(y e^{y} \\right)}$"
     },
     "metadata": {},
     "output_type": "display_data"
    },
    {
     "name": "stdout",
     "output_type": "stream",
     "text": [
      "\n",
      "Expression\n"
     ]
    },
    {
     "data": {
      "text/plain": "x*y + x*z**2",
      "text/latex": "$\\displaystyle x y + x z^{2}$"
     },
     "metadata": {},
     "output_type": "display_data"
    },
    {
     "name": "stdout",
     "output_type": "stream",
     "text": [
      "Expression with numerical substitutions: {x: 1.25, y: 0.4, z: 3.2}\n"
     ]
    },
    {
     "data": {
      "text/plain": "13.3000000000000",
      "text/latex": "$\\displaystyle 13.3$"
     },
     "metadata": {},
     "output_type": "display_data"
    }
   ],
   "source": [
    "# Substituting multiple symbols using a dictionary\n",
    "expr = sympy.sin(x * z)\n",
    "substitution = expr.subs({z: sympy.exp(y), x: y, sympy.sin: sympy.cos})\n",
    "print(f\"Expression:\")\n",
    "display(expr)\n",
    "print(\"We substitute;\\nexp(y) for z, y for x & cos for sin\")\n",
    "display(substitution)\n",
    "\n",
    "\n",
    "# Substituting numerical values in an expression\n",
    "expr = x * y + z**2 * x\n",
    "print(\"\\nExpression\")\n",
    "display(expr)\n",
    "values = {x: 1.25, y: 0.4, z: 3.2}\n",
    "substituted_expr = expr.subs(values)\n",
    "print(f\"Expression with numerical substitutions: {values}\")\n",
    "display(substituted_expr)"
   ],
   "metadata": {
    "collapsed": false
   }
  },
  {
   "cell_type": "markdown",
   "source": [
    "----\n",
    "&nbsp;\n",
    "## Numerical Evaluation"
   ],
   "metadata": {
    "collapsed": false
   }
  },
  {
   "cell_type": "code",
   "execution_count": 53,
   "outputs": [
    {
     "name": "stdout",
     "output_type": "stream",
     "text": [
      "Numerical evaluation using sympy.N: 4.14159265358979\n",
      "\n",
      "Numerical evaluation of pi with 50 digits: 3.1415926535897932384626433832795028841971693993751\n",
      "\n",
      "Numerical evaluation using evalf: x + 0.3183098862\n"
     ]
    }
   ],
   "source": [
    "# Numerical evaluation using sympy.N\n",
    "expr = 1 + sympy.pi\n",
    "result = sympy.N(expr)\n",
    "print(f\"Numerical evaluation using sympy.N: {result}\")\n",
    "\n",
    "expr = sympy.pi\n",
    "result = sympy.N(expr, 50)\n",
    "print(f\"\\nNumerical evaluation of pi with 50 digits: {result}\")\n",
    "\n",
    "# Numerical evaluation using evalf method\n",
    "expr = x + 1/sympy.pi\n",
    "result = expr.evalf(10)\n",
    "print(f\"\\nNumerical evaluation using evalf: {result}\")"
   ],
   "metadata": {
    "collapsed": false
   }
  },
  {
   "cell_type": "code",
   "execution_count": 54,
   "outputs": [
    {
     "name": "stdout",
     "output_type": "stream",
     "text": [
      "\n",
      "Numerical evaluation for a range of input values: [0, 0.774, 0.642, 0.722, 0.944, 0.205, 0.974, 0.977, -0.870, -0.695]\n"
     ]
    }
   ],
   "source": [
    "# Numerical evaluation for a range of input values\n",
    "\n",
    "expr = sympy.sin(sympy.pi * x * sympy.exp(x))\n",
    "results = [expr.subs(x, xx).evalf(3) for xx in range(0, 10)]\n",
    "print(f\"\\nNumerical evaluation for a range of input values: {results}\")"
   ],
   "metadata": {
    "collapsed": false
   }
  },
  {
   "cell_type": "markdown",
   "source": [
    "##### `sympy.lambdify`\n",
    "takes a set of free symbols and an expression as arguments and generates a function that efficiently evaluates the numerical value of the expression.\n",
    "\n",
    "The produced function takes the same number of arguments as the number of free symbols passed as the first argument"
   ],
   "metadata": {
    "collapsed": false
   }
  },
  {
   "cell_type": "code",
   "execution_count": 55,
   "outputs": [
    {
     "data": {
      "text/plain": "sin(pi*x*exp(x))",
      "text/latex": "$\\displaystyle \\sin{\\left(\\pi x e^{x} \\right)}$"
     },
     "metadata": {},
     "output_type": "display_data"
    },
    {
     "name": "stdout",
     "output_type": "stream",
     "text": [
      "\n",
      "Numerical evaluation using lambdify: 0.773942685266709\n",
      "\n",
      "Numerical evaluation using lambdify with NumPy arrays:\n",
      "[ 0.          0.77394269  0.64198244  0.72163867  0.94361635  0.20523391\n",
      "  0.97398794  0.97734066 -0.87034418 -0.69512687]\n"
     ]
    }
   ],
   "source": [
    "display(expr)\n",
    "\n",
    "# Numerical evaluation using lambdify\n",
    "expr_func = sympy.lambdify(x, expr)\n",
    "result = expr_func(1.0)\n",
    "print(f\"\\nNumerical evaluation using lambdify: {result}\")\n",
    "\n",
    "# Numerical evaluation using lambdify with NumPy arrays\n",
    "expr_func = sympy.lambdify(x, expr, 'numpy')\n",
    "xvalues = np.arange(0, 10)\n",
    "result = expr_func(xvalues)\n",
    "print(f\"\\nNumerical evaluation using lambdify with NumPy arrays:\\n{result}\")"
   ],
   "metadata": {
    "collapsed": false
   }
  },
  {
   "cell_type": "markdown",
   "source": [
    "----\n",
    "&nbsp;\n",
    "# Calculus"
   ],
   "metadata": {
    "collapsed": false
   }
  },
  {
   "cell_type": "markdown",
   "source": [
    "### Derivatives\n",
    "using `sympy.diff`"
   ],
   "metadata": {
    "collapsed": false
   }
  },
  {
   "cell_type": "code",
   "execution_count": 58,
   "outputs": [
    {
     "name": "stdout",
     "output_type": "stream",
     "text": [
      "First-order derivative of f(x) with respect to x:\n"
     ]
    },
    {
     "data": {
      "text/plain": "Derivative(f(x), x)",
      "text/latex": "$\\displaystyle \\frac{d}{d x} f{\\left(x \\right)}$"
     },
     "metadata": {},
     "output_type": "display_data"
    },
    {
     "name": "stdout",
     "output_type": "stream",
     "text": [
      "Second-order derivative of f(x) with respect to x:\n"
     ]
    },
    {
     "data": {
      "text/plain": "Derivative(f(x), (x, 2))",
      "text/latex": "$\\displaystyle \\frac{d^{2}}{d x^{2}} f{\\left(x \\right)}$"
     },
     "metadata": {},
     "output_type": "display_data"
    },
    {
     "name": "stdout",
     "output_type": "stream",
     "text": [
      "Third-order derivative of f(x) with respect to x:\n"
     ]
    },
    {
     "data": {
      "text/plain": "Derivative(f(x), (x, 3))",
      "text/latex": "$\\displaystyle \\frac{d^{3}}{d x^{3}} f{\\left(x \\right)}$"
     },
     "metadata": {},
     "output_type": "display_data"
    }
   ],
   "source": [
    "# Calculating derivatives in SymPy\n",
    "\n",
    "# Define the function f(x)\n",
    "f = sympy.Function('f')(x)\n",
    "\n",
    "# Calculate the first-order derivative\n",
    "first_order_derivative = sympy.diff(f, x)  # equivalent to f.diff(x)\n",
    "\n",
    "print(f\"First-order derivative of f(x) with respect to x:\")\n",
    "display(first_order_derivative)\n",
    "\n",
    "# Calculate the second-order derivative\n",
    "second_order_derivative = sympy.diff(f, x, x)\n",
    "\n",
    "print(f\"Second-order derivative of f(x) with respect to x:\")\n",
    "display(second_order_derivative)\n",
    "\n",
    "# Calculate the third-order derivative\n",
    "third_order_derivative = sympy.diff(f, x, 3)  # equivalent to sympy.diff(f, x, x, x)\n",
    "\n",
    "print(f\"Third-order derivative of f(x) with respect to x:\")\n",
    "display(third_order_derivative)\n"
   ],
   "metadata": {
    "collapsed": false
   }
  },
  {
   "cell_type": "markdown",
   "source": [
    "#### Derivatives using `diff` method - Multivariate functions"
   ],
   "metadata": {
    "collapsed": false
   }
  },
  {
   "cell_type": "code",
   "execution_count": 57,
   "outputs": [
    {
     "name": "stdout",
     "output_type": "stream",
     "text": [
      "Partial derivative of g(x, y) with respect to x and y:\n"
     ]
    },
    {
     "data": {
      "text/plain": "Derivative(g(x, y), x, y)",
      "text/latex": "$\\displaystyle \\frac{\\partial^{2}}{\\partial y\\partial x} g{\\left(x,y \\right)}$"
     },
     "metadata": {},
     "output_type": "display_data"
    },
    {
     "name": "stdout",
     "output_type": "stream",
     "text": [
      "Mixed partial derivative of g(x, y) with respect to x and y:\n"
     ]
    },
    {
     "data": {
      "text/plain": "Derivative(g(x, y), (x, 3), (y, 2))",
      "text/latex": "$\\displaystyle \\frac{\\partial^{5}}{\\partial y^{2}\\partial x^{3}} g{\\left(x,y \\right)}$"
     },
     "metadata": {},
     "output_type": "display_data"
    },
    {
     "name": "stdout",
     "output_type": "stream",
     "text": [
      "Mixed partial derivative of g(x, y) with respect to x and y (explicit notation):\n"
     ]
    },
    {
     "data": {
      "text/plain": "Derivative(g(x, y), (x, 3), (y, 2))",
      "text/latex": "$\\displaystyle \\frac{\\partial^{5}}{\\partial y^{2}\\partial x^{3}} g{\\left(x,y \\right)}$"
     },
     "metadata": {},
     "output_type": "display_data"
    }
   ],
   "source": [
    "# Calculating derivatives for multivariate functions in SymPy\n",
    "\n",
    "# Define the function g(x, y)\n",
    "g = sympy.Function('g')(x, y)\n",
    "\n",
    "# Calculate the partial derivative with respect to x and y\n",
    "partial_derivative_xy = g.diff(x, y)\n",
    "\n",
    "print(f\"Partial derivative of g(x, y) with respect to x and y:\")\n",
    "display(partial_derivative_xy)\n",
    "\n",
    "# Calculate a mixed partial derivative\n",
    "mixed_partial_derivative = g.diff(x, 3, y, 2)  # equivalent to sympy.diff(g, x, y)\n",
    "\n",
    "print(f\"Mixed partial derivative of g(x, y) with respect to x and y:\")\n",
    "display(mixed_partial_derivative)\n",
    "\n",
    "# Alternatively, we can use explicit notation for mixed partial derivatives\n",
    "mixed_partial_derivative_explicit = sympy.diff(g, x, x, x, y, y)\n",
    "\n",
    "print(f\"Mixed partial derivative of g(x, y) with respect to x and y (explicit notation):\")\n",
    "display(mixed_partial_derivative_explicit)\n"
   ],
   "metadata": {
    "collapsed": false
   }
  },
  {
   "cell_type": "markdown",
   "source": [
    "##### Defined functions and expressions.\n",
    "Polynomials"
   ],
   "metadata": {
    "collapsed": false
   }
  },
  {
   "cell_type": "code",
   "execution_count": 59,
   "outputs": [
    {
     "name": "stdout",
     "output_type": "stream",
     "text": [
      "Derivative of the expression x**4 + x**3 + x**2 + x + 1, type<class 'sympy.core.add.Add'>:\n"
     ]
    },
    {
     "data": {
      "text/plain": "4*x**3 + 3*x**2 + 2*x + 1",
      "text/latex": "$\\displaystyle 4 x^{3} + 3 x^{2} + 2 x + 1$"
     },
     "metadata": {},
     "output_type": "display_data"
    },
    {
     "name": "stdout",
     "output_type": "stream",
     "text": [
      "Second derivative of the expression x**4 + x**3 + x**2 + x + 1:\n"
     ]
    },
    {
     "data": {
      "text/plain": "2*(6*x**2 + 3*x + 1)",
      "text/latex": "$\\displaystyle 2 \\cdot \\left(6 x^{2} + 3 x + 1\\right)$"
     },
     "metadata": {},
     "output_type": "display_data"
    },
    {
     "name": "stdout",
     "output_type": "stream",
     "text": [
      "Derivative of the expression y**2*(x + 1)**3*(z - 1) with respect to x, y, and z:\n"
     ]
    },
    {
     "data": {
      "text/plain": "6*y*(x + 1)**2",
      "text/latex": "$\\displaystyle 6 y \\left(x + 1\\right)^{2}$"
     },
     "metadata": {},
     "output_type": "display_data"
    }
   ],
   "source": [
    "# Evaluating derivatives of defined functions and expressions in SymPy\n",
    "\n",
    "# Example 1: Derivative of a polynomial expression\n",
    "expr = x**4 + x**3 + x**2 + x + 1\n",
    "derivative_expr = expr.diff(x)\n",
    "\n",
    "print(f\"Derivative of the expression {expr}, type{type(expr)}:\")\n",
    "display(derivative_expr)\n",
    "\n",
    "# Example 2: Second derivative of a polynomial expression\n",
    "second_derivative_expr = expr.diff(x, x)\n",
    "\n",
    "print(f\"Second derivative of the expression {expr}:\")\n",
    "display(second_derivative_expr)\n",
    "\n",
    "# Example 3: Derivative of a more complex expression\n",
    "expr = (x + 1)**3 * y**2 * (z - 1)\n",
    "mixed_derivative_expr = expr.diff(x, y, z)\n",
    "\n",
    "print(f\"Derivative of the expression {expr} with respect to x, y, and z:\")\n",
    "display(mixed_derivative_expr)"
   ],
   "metadata": {
    "collapsed": false
   }
  },
  {
   "cell_type": "markdown",
   "source": [
    "Trigonometric"
   ],
   "metadata": {
    "collapsed": false
   }
  },
  {
   "cell_type": "code",
   "execution_count": 62,
   "outputs": [
    {
     "name": "stdout",
     "output_type": "stream",
     "text": [
      "Derivative of the expression sin(x*y)*cos(x/2):\n"
     ]
    },
    {
     "data": {
      "text/plain": "y*cos(x/2)*cos(x*y) - sin(x/2)*sin(x*y)/2",
      "text/latex": "$\\displaystyle y \\cos{\\left(\\frac{x}{2} \\right)} \\cos{\\left(x y \\right)} - \\frac{\\sin{\\left(\\frac{x}{2} \\right)} \\sin{\\left(x y \\right)}}{2}$"
     },
     "metadata": {},
     "output_type": "display_data"
    }
   ],
   "source": [
    "# Evaluating derivatives of trigonometric expressions\n",
    "\n",
    "# Example 1: Derivative of a trigonometric expression\n",
    "expr = sympy.sin(x * y) * sympy.cos(x / 2)\n",
    "derivative_expr = expr.diff(x)\n",
    "\n",
    "print(f\"Derivative of the expression {expr}:\")\n",
    "display(derivative_expr)"
   ],
   "metadata": {
    "collapsed": false
   }
  },
  {
   "cell_type": "markdown",
   "source": [
    "We can represent an expression symbolically with `Derivative` and evaluate with `doit()`"
   ],
   "metadata": {
    "collapsed": false
   }
  },
  {
   "cell_type": "code",
   "execution_count": 63,
   "outputs": [
    {
     "name": "stdout",
     "output_type": "stream",
     "text": [
      "Expression:\n"
     ]
    },
    {
     "data": {
      "text/plain": "exp(cos(x))",
      "text/latex": "$\\displaystyle e^{\\cos{\\left(x \\right)}}$"
     },
     "metadata": {},
     "output_type": "display_data"
    },
    {
     "name": "stdout",
     "output_type": "stream",
     "text": [
      "Symbolic representation of derivative:\n"
     ]
    },
    {
     "data": {
      "text/plain": "Derivative(exp(cos(x)), x)",
      "text/latex": "$\\displaystyle \\frac{d}{d x} e^{\\cos{\\left(x \\right)}}$"
     },
     "metadata": {},
     "output_type": "display_data"
    },
    {
     "name": "stdout",
     "output_type": "stream",
     "text": [
      "Evaluated derivative:\n"
     ]
    },
    {
     "data": {
      "text/plain": "-exp(cos(x))*sin(x)",
      "text/latex": "$\\displaystyle - e^{\\cos{\\left(x \\right)}} \\sin{\\left(x \\right)}$"
     },
     "metadata": {},
     "output_type": "display_data"
    }
   ],
   "source": [
    "# Example 2: Symbolic representation of a derivative\n",
    "expr = sympy.exp(sympy.cos(x))\n",
    "print(\"Expression:\")\n",
    "display(expr)\n",
    "\n",
    "d = sympy.Derivative(expr, x)\n",
    "print(\"Symbolic representation of derivative:\")\n",
    "display(d)\n",
    "\n",
    "# Evaluate the derivative\n",
    "evaluated_derivative = d.doit()\n",
    "\n",
    "print(\"Evaluated derivative:\")\n",
    "display(evaluated_derivative)"
   ],
   "metadata": {
    "collapsed": false
   }
  },
  {
   "cell_type": "markdown",
   "source": [
    "----"
   ],
   "metadata": {
    "collapsed": false
   }
  },
  {
   "cell_type": "markdown",
   "source": [
    "### Integrals"
   ],
   "metadata": {
    "collapsed": false
   }
  },
  {
   "cell_type": "markdown",
   "source": [
    "Some undefined function `f`"
   ],
   "metadata": {
    "collapsed": false
   }
  },
  {
   "cell_type": "code",
   "execution_count": 64,
   "outputs": [
    {
     "name": "stdout",
     "output_type": "stream",
     "text": [
      "Indefinite integral of f(x):\n"
     ]
    },
    {
     "data": {
      "text/plain": "Integral(f(x), x)",
      "text/latex": "$\\displaystyle \\int f{\\left(x \\right)}\\, dx$"
     },
     "metadata": {},
     "output_type": "display_data"
    },
    {
     "name": "stdout",
     "output_type": "stream",
     "text": [
      "Definite integral of f(x) from a to b:\n"
     ]
    },
    {
     "data": {
      "text/plain": "Integral(f(x), (x, a, b))",
      "text/latex": "$\\displaystyle \\int\\limits_{a}^{b} f{\\left(x \\right)}\\, dx$"
     },
     "metadata": {},
     "output_type": "display_data"
    }
   ],
   "source": [
    "# Computing indefinite and definite integrals in SymPy\n",
    "\n",
    "# Example 1: Indefinite integral\n",
    "a, b, x, y = sympy.symbols(\"a, b, x, y\")\n",
    "f = sympy.Function(\"f\")(x)\n",
    "indefinite_integral = sympy.integrate(f)\n",
    "\n",
    "print(f\"Indefinite integral of {f}:\")\n",
    "display(indefinite_integral)\n",
    "\n",
    "# Example 2: Definite integral\n",
    "definite_integral = sympy.integrate(f, (x, a, b))\n",
    "\n",
    "print(f\"Definite integral of {f} from {a} to {b}:\")\n",
    "display(definite_integral)"
   ],
   "metadata": {
    "collapsed": false
   }
  },
  {
   "cell_type": "code",
   "execution_count": 65,
   "outputs": [
    {
     "name": "stdout",
     "output_type": "stream",
     "text": [
      "Definite integral of sin(x) from a to b:\n"
     ]
    },
    {
     "data": {
      "text/plain": "cos(a) - cos(b)",
      "text/latex": "$\\displaystyle \\cos{\\left(a \\right)} - \\cos{\\left(b \\right)}$"
     },
     "metadata": {},
     "output_type": "display_data"
    }
   ],
   "source": [
    "# Example 3: Evaluating definite integrals for explicit functions\n",
    "integral_sin = sympy.integrate(sympy.sin(x))\n",
    "integral_sin_definite = sympy.integrate(sympy.sin(x), (x, a, b))\n",
    "\n",
    "print(f\"Definite integral of sin(x) from {a} to {b}:\")\n",
    "display(integral_sin_definite)"
   ],
   "metadata": {
    "collapsed": false
   }
  },
  {
   "cell_type": "markdown",
   "source": [
    "SymPy symbol for infinity is `oo`"
   ],
   "metadata": {
    "collapsed": false
   }
  },
  {
   "cell_type": "code",
   "execution_count": 66,
   "outputs": [
    {
     "name": "stdout",
     "output_type": "stream",
     "text": [
      "Definite integral of exp(-x^2) from 0 to infinity:\n"
     ]
    },
    {
     "data": {
      "text/plain": "sqrt(pi)/2",
      "text/latex": "$\\displaystyle \\frac{\\sqrt{\\pi}}{2}$"
     },
     "metadata": {},
     "output_type": "display_data"
    }
   ],
   "source": [
    "# Example 4: Definite integrals with infinite limits\n",
    "integral_exp = sympy.integrate(sympy.exp(-x**2), (x, 0, sympy.oo))\n",
    "\n",
    "print(\"Definite integral of exp(-x^2) from 0 to infinity:\")\n",
    "display(integral_exp)"
   ],
   "metadata": {
    "collapsed": false
   }
  },
  {
   "cell_type": "code",
   "execution_count": 67,
   "outputs": [
    {
     "name": "stdout",
     "output_type": "stream",
     "text": [
      "Definite integral of a * exp(-((x - b) / c)^2) from -infinity to infinity:\n"
     ]
    },
    {
     "data": {
      "text/plain": "sqrt(pi)*a*c",
      "text/latex": "$\\displaystyle \\sqrt{\\pi} a c$"
     },
     "metadata": {},
     "output_type": "display_data"
    }
   ],
   "source": [
    "# Example 5: Definite integrals with positive symbols\n",
    "a, b, c = sympy.symbols(\"a, b, c\", positive=True)\n",
    "integral_gaussian = sympy.integrate(a * sympy.exp(-((x - b) / c)**2), (x, -sympy.oo, sympy.oo))\n",
    "\n",
    "print(\"Definite integral of a * exp(-((x - b) / c)^2) from -infinity to infinity:\")\n",
    "display(integral_gaussian)"
   ],
   "metadata": {
    "collapsed": false
   }
  },
  {
   "cell_type": "markdown",
   "source": [
    "When SymPy fails to evaluate an integral, an instance of `sympy.Integral`, representing the formal integral, is returned instead."
   ],
   "metadata": {
    "collapsed": false
   }
  },
  {
   "cell_type": "code",
   "execution_count": 68,
   "outputs": [
    {
     "name": "stdout",
     "output_type": "stream",
     "text": [
      "Symbolic integration of sin(x * cos(x)):\n"
     ]
    },
    {
     "data": {
      "text/plain": "Integral(sin(x*cos(x)), x)",
      "text/latex": "$\\displaystyle \\int \\sin{\\left(x \\cos{\\left(x \\right)} \\right)}\\, dx$"
     },
     "metadata": {},
     "output_type": "display_data"
    }
   ],
   "source": [
    "# Symbolic integration with SymPy\n",
    "\n",
    "# Example 1: Symbolic integration\n",
    "integral1 = sympy.integrate(sympy.sin(x * sympy.cos(x)))\n",
    "\n",
    "print(\"Symbolic integration of sin(x * cos(x)):\")\n",
    "display(integral1)"
   ],
   "metadata": {
    "collapsed": false
   }
  },
  {
   "cell_type": "markdown",
   "source": [
    "Multi-variate expressions can also be integrated"
   ],
   "metadata": {
    "collapsed": false
   }
  },
  {
   "cell_type": "code",
   "execution_count": 70,
   "outputs": [
    {
     "name": "stdout",
     "output_type": "stream",
     "text": [
      "Indefinite integral of sin(x*exp(y)) with respect to x:\n"
     ]
    },
    {
     "data": {
      "text/plain": "-exp(-y)*cos(x*exp(y))",
      "text/latex": "$\\displaystyle - e^{- y} \\cos{\\left(x e^{y} \\right)}$"
     },
     "metadata": {},
     "output_type": "display_data"
    },
    {
     "name": "stdout",
     "output_type": "stream",
     "text": [
      "Indefinite integral of (x + y)**2 with respect to x and y:\n"
     ]
    },
    {
     "data": {
      "text/plain": "x**3*y/3 + x**2*y**2/2 + x*y**3/3",
      "text/latex": "$\\displaystyle \\frac{x^{3} y}{3} + \\frac{x^{2} y^{2}}{2} + \\frac{x y^{3}}{3}$"
     },
     "metadata": {},
     "output_type": "display_data"
    }
   ],
   "source": [
    "# Example 2: Indefinite integral of a multivariable expression\n",
    "expr1 = sympy.sin(x * sympy.exp(y))\n",
    "indefinite_integral1 = sympy.integrate(expr1, x)\n",
    "\n",
    "print(f\"Indefinite integral of {expr1} with respect to x:\")\n",
    "display(indefinite_integral1)\n",
    "\n",
    "# Example 3: Indefinite integral of a multivariable expression with multiple variables\n",
    "expr2 = (x + y)**2\n",
    "indefinite_integral2 = sympy.integrate(expr2, x, y)\n",
    "\n",
    "print(f\"Indefinite integral of {expr2} with respect to x and y:\")\n",
    "display(indefinite_integral2)"
   ],
   "metadata": {
    "collapsed": false
   }
  },
  {
   "cell_type": "markdown",
   "source": [
    "#### Multivariable Integrals\n",
    "\n",
    "By passing more than one symbol, or multiple tuples that contain symbols and their integration limits, we can carry out multiple integrations:"
   ],
   "metadata": {
    "collapsed": false
   }
  },
  {
   "cell_type": "code",
   "execution_count": 71,
   "outputs": [
    {
     "name": "stdout",
     "output_type": "stream",
     "text": [
      "Definite integral of (x + y)**2 from x = 0 to 1, and y = 0 to 1:\n"
     ]
    },
    {
     "data": {
      "text/plain": "7/6",
      "text/latex": "$\\displaystyle \\frac{7}{6}$"
     },
     "metadata": {},
     "output_type": "display_data"
    }
   ],
   "source": [
    "# Example 4: Definite integral of a multivariable expression\n",
    "definite_integral2 = sympy.integrate(expr2, (x, 0, 1), (y, 0, 1))\n",
    "\n",
    "print(f\"Definite integral of {expr2} from x = 0 to 1, and y = 0 to 1:\")\n",
    "display(definite_integral2)"
   ],
   "metadata": {
    "collapsed": false
   }
  },
  {
   "cell_type": "markdown",
   "source": [
    "----"
   ],
   "metadata": {
    "collapsed": false
   }
  },
  {
   "cell_type": "markdown",
   "source": [
    "## Series\n",
    "&nbsp;\n",
    "Series expansions are an important tool in many disciplines in computing. With a series expansion, an arbitrary function can be written as a polynomial, with coefficients given by the derivatives of the function at the point around which the series expansion is made. By truncating the series expansion at some order n, the nth order approximation of the function is obtained\n"
   ],
   "metadata": {
    "collapsed": false
   }
  },
  {
   "cell_type": "code",
   "execution_count": 72,
   "outputs": [
    {
     "name": "stdout",
     "output_type": "stream",
     "text": [
      "Series expansion of f(x) around x0=0:\n"
     ]
    },
    {
     "data": {
      "text/plain": "f(0) + x*Subs(Derivative(f(xi), xi), xi, 0) + x**2*Subs(Derivative(f(xi), (xi, 2)), xi, 0)/2 + x**3*Subs(Derivative(f(xi), (xi, 3)), xi, 0)/6 + x**4*Subs(Derivative(f(xi), (xi, 4)), xi, 0)/24 + x**5*Subs(Derivative(f(xi), (xi, 5)), xi, 0)/120 + O(x**6)",
      "text/latex": "$\\displaystyle f{\\left(0 \\right)} + x \\left. \\frac{d}{d \\xi} f{\\left(\\xi \\right)} \\right|_{\\substack{ \\xi=0 }} + \\frac{x^{2} \\left. \\frac{d^{2}}{d \\xi^{2}} f{\\left(\\xi \\right)} \\right|_{\\substack{ \\xi=0 }}}{2} + \\frac{x^{3} \\left. \\frac{d^{3}}{d \\xi^{3}} f{\\left(\\xi \\right)} \\right|_{\\substack{ \\xi=0 }}}{6} + \\frac{x^{4} \\left. \\frac{d^{4}}{d \\xi^{4}} f{\\left(\\xi \\right)} \\right|_{\\substack{ \\xi=0 }}}{24} + \\frac{x^{5} \\left. \\frac{d^{5}}{d \\xi^{5}} f{\\left(\\xi \\right)} \\right|_{\\substack{ \\xi=0 }}}{120} + O\\left(x^{6}\\right)$"
     },
     "metadata": {},
     "output_type": "display_data"
    }
   ],
   "source": [
    "# Series expansion with SymPy\n",
    "\n",
    "x, y = sympy.symbols(\"x, y\")\n",
    "x0 = sympy.Symbol(\"x0\")\n",
    "f = sympy.Function(\"f\")(x)\n",
    "\n",
    "# Example 1: Series expansion of an undefined function\n",
    "series_expansion1 = sympy.series(f, x)\n",
    "\n",
    "print(\"Series expansion of f(x) around x0=0:\")\n",
    "display(series_expansion1)"
   ],
   "metadata": {
    "collapsed": false
   }
  },
  {
   "cell_type": "code",
   "execution_count": 73,
   "outputs": [
    {
     "name": "stdout",
     "output_type": "stream",
     "text": [
      "Series expansion of f(x) around x0=x0 with order n=2:\n"
     ]
    },
    {
     "data": {
      "text/plain": "f(x0) + (x - x0)*Subs(Derivative(f(_xi_1), _xi_1), _xi_1, x0) + O((x - x0)**2, (x, x0))",
      "text/latex": "$\\displaystyle f{\\left(x_{0} \\right)} + \\left(x - x_{0}\\right) \\left. \\frac{d}{d \\xi_{1}} f{\\left(\\xi_{1} \\right)} \\right|_{\\substack{ \\xi_{1}=x_{0} }} + O\\left(\\left(x - x_{0}\\right)^{2}; x\\rightarrow x_{0}\\right)$"
     },
     "metadata": {},
     "output_type": "display_data"
    }
   ],
   "source": [
    "# Example 2: Series expansion with a different point and specified order\n",
    "series_expansion2 = f.series(x, x0, n=2)\n",
    "\n",
    "print(f\"Series expansion of f(x) around x0={x0} with order n=2:\")\n",
    "display(series_expansion2)"
   ],
   "metadata": {
    "collapsed": false
   }
  },
  {
   "cell_type": "code",
   "execution_count": 74,
   "outputs": [
    {
     "name": "stdout",
     "output_type": "stream",
     "text": [
      "Series expansion without the order term:\n"
     ]
    },
    {
     "data": {
      "text/plain": "(x - x0)*Subs(Derivative(f(_xi_1), _xi_1), _xi_1, x0) + f(x0)",
      "text/latex": "$\\displaystyle \\left(x - x_{0}\\right) \\left. \\frac{d}{d \\xi_{1}} f{\\left(\\xi_{1} \\right)} \\right|_{\\substack{ \\xi_{1}=x_{0} }} + f{\\left(x_{0} \\right)}$"
     },
     "metadata": {},
     "output_type": "display_data"
    }
   ],
   "source": [
    "# Example 3: Removing the order term from the series expansion\n",
    "series_expansion2_without_order = series_expansion2.removeO()\n",
    "\n",
    "print(\"Series expansion without the order term:\")\n",
    "display(series_expansion2_without_order)"
   ],
   "metadata": {
    "collapsed": false
   }
  },
  {
   "cell_type": "markdown",
   "source": [
    "##### Specific functions and expressions"
   ],
   "metadata": {
    "collapsed": false
   }
  },
  {
   "cell_type": "markdown",
   "source": [
    "In the context of series expansions and asymptotic analysis, \"big O\" notation (denoted as $\\mathcal{O}$) is used to represent the order or magnitude of the error term in a series expansion. It provides an approximation of the remaining terms beyond a certain degree in the expansion."
   ],
   "metadata": {
    "collapsed": false
   }
  },
  {
   "cell_type": "code",
   "execution_count": 76,
   "outputs": [
    {
     "name": "stdout",
     "output_type": "stream",
     "text": [
      "Series expansion of cos(x):\n"
     ]
    },
    {
     "data": {
      "text/plain": "1 - x**2/2 + x**4/24 + O(x**6)",
      "text/latex": "$\\displaystyle 1 - \\frac{x^{2}}{2} + \\frac{x^{4}}{24} + O\\left(x^{6}\\right)$"
     },
     "metadata": {},
     "output_type": "display_data"
    },
    {
     "name": "stdout",
     "output_type": "stream",
     "text": [
      "Series expansion of sin(x):\n"
     ]
    },
    {
     "data": {
      "text/plain": "x - x**3/6 + x**5/120 + O(x**6)",
      "text/latex": "$\\displaystyle x - \\frac{x^{3}}{6} + \\frac{x^{5}}{120} + O\\left(x^{6}\\right)$"
     },
     "metadata": {},
     "output_type": "display_data"
    }
   ],
   "source": [
    "# Series expansions of specific functions and expressions with SymPy\n",
    "\n",
    "x, y = sympy.symbols(\"x, y\")\n",
    "\n",
    "# Example 1: Series expansion of cosine function\n",
    "cos_expansion = sympy.cos(x).series()\n",
    "print(\"Series expansion of cos(x):\")\n",
    "display(cos_expansion)\n",
    "\n",
    "# Example 2: Series expansion of sine function\n",
    "sin_expansion = sympy.sin(x).series()\n",
    "print(\"Series expansion of sin(x):\")\n",
    "display(sin_expansion)"
   ],
   "metadata": {
    "collapsed": false
   }
  },
  {
   "cell_type": "code",
   "execution_count": 81,
   "outputs": [
    {
     "name": "stdout",
     "output_type": "stream",
     "text": [
      "Series expansion of exp(x):\n"
     ]
    },
    {
     "data": {
      "text/plain": "1 + x + x**2/2 + x**3/6 + x**4/24 + x**5/120 + O(x**6)",
      "text/latex": "$\\displaystyle 1 + x + \\frac{x^{2}}{2} + \\frac{x^{3}}{6} + \\frac{x^{4}}{24} + \\frac{x^{5}}{120} + O\\left(x^{6}\\right)$"
     },
     "metadata": {},
     "output_type": "display_data"
    },
    {
     "name": "stdout",
     "output_type": "stream",
     "text": [
      "Series expansion of 1/(x + 1):\n"
     ]
    },
    {
     "data": {
      "text/plain": "1 - x + x**2 - x**3 + x**4 - x**5 + O(x**6)",
      "text/latex": "$\\displaystyle 1 - x + x^{2} - x^{3} + x^{4} - x^{5} + O\\left(x^{6}\\right)$"
     },
     "metadata": {},
     "output_type": "display_data"
    }
   ],
   "source": [
    "# Example 3: Series expansion of exponential function\n",
    "exp_expansion = sympy.exp(x).series()\n",
    "print(\"Series expansion of exp(x):\")\n",
    "display(exp_expansion)\n",
    "\n",
    "# Example 3: Series expansion of some non-core function\n",
    "expr = (1/(1+x))\n",
    "exp_expansion = expr.series()\n",
    "print(f\"Series expansion of {expr}:\")\n",
    "display(exp_expansion)"
   ],
   "metadata": {
    "collapsed": false
   }
  },
  {
   "cell_type": "code",
   "execution_count": 78,
   "outputs": [
    {
     "name": "stdout",
     "output_type": "stream",
     "text": [
      "Series expansion of expr(x, y) with respect to x:\n"
     ]
    },
    {
     "data": {
      "text/plain": "1 - x*y + x**2*(y**2 - 1/2) + x**3*(-5*y**3/6 + y/2) + O(x**4)",
      "text/latex": "$\\displaystyle 1 - x y + x^{2} \\left(y^{2} - \\frac{1}{2}\\right) + x^{3} \\left(- \\frac{5 y^{3}}{6} + \\frac{y}{2}\\right) + O\\left(x^{4}\\right)$"
     },
     "metadata": {},
     "output_type": "display_data"
    },
    {
     "name": "stdout",
     "output_type": "stream",
     "text": [
      "Series expansion of expr(x, y) with respect to y:\n"
     ]
    },
    {
     "data": {
      "text/plain": "cos(x) - x*y*cos(x) + x**2*y**2*cos(x) - 5*x**3*y**3*cos(x)/6 + O(y**4)",
      "text/latex": "$\\displaystyle \\cos{\\left(x \\right)} - x y \\cos{\\left(x \\right)} + x^{2} y^{2} \\cos{\\left(x \\right)} - \\frac{5 x^{3} y^{3} \\cos{\\left(x \\right)}}{6} + O\\left(y^{4}\\right)$"
     },
     "metadata": {},
     "output_type": "display_data"
    }
   ],
   "source": [
    "# Example 5: Series expansion of an arbitrary expression\n",
    "expr = sympy.cos(x) / (1 + sympy.sin(x * y))\n",
    "expr_expansion_x = expr.series(x, n=4)\n",
    "expr_expansion_y = expr.series(y, n=4)\n",
    "\n",
    "print(\"Series expansion of expr(x, y) with respect to x:\")\n",
    "display(expr_expansion_x)\n",
    "\n",
    "print(\"Series expansion of expr(x, y) with respect to y:\")\n",
    "display(expr_expansion_y)"
   ],
   "metadata": {
    "collapsed": false
   }
  },
  {
   "cell_type": "markdown",
   "source": [
    "----"
   ],
   "metadata": {
    "collapsed": false
   }
  },
  {
   "cell_type": "markdown",
   "source": [
    "## Limits\n",
    "&nbsp;\n",
    "An example; definition of the derivative from first principles ;\n",
    "&nbsp;\n",
    "$\\frac{\\mathrm{d}}{\\mathrm{d}x} f(x) = \\lim_{h \\to 0} \\frac{f(x+h)-f(x)}{h}$"
   ],
   "metadata": {
    "collapsed": false
   }
  },
  {
   "cell_type": "code",
   "execution_count": 85,
   "outputs": [
    {
     "data": {
      "text/plain": "1",
      "text/latex": "$\\displaystyle 1$"
     },
     "metadata": {},
     "output_type": "display_data"
    }
   ],
   "source": [
    "# Compute the limit of sin(x)/x as x approaches 0\n",
    "limit_1 = sympy.limit(sympy.sin(x) / x, x, 0)\n",
    "display(limit_1)"
   ],
   "metadata": {
    "collapsed": false
   }
  },
  {
   "cell_type": "code",
   "execution_count": 86,
   "outputs": [
    {
     "data": {
      "text/plain": "-sin(x)",
      "text/latex": "$\\displaystyle - \\sin{\\left(x \\right)}$"
     },
     "metadata": {},
     "output_type": "display_data"
    },
    {
     "data": {
      "text/plain": "cos(x)",
      "text/latex": "$\\displaystyle \\cos{\\left(x \\right)}$"
     },
     "metadata": {},
     "output_type": "display_data"
    }
   ],
   "source": [
    "# Compute symbolic limits by computing derivatives\n",
    "f = sympy.Function('f')\n",
    "x, h = sympy.symbols(\"x, h\")\n",
    "diff_limit = (f(x + h) - f(x))/h\n",
    "\n",
    "limit_2 = sympy.limit(diff_limit.subs(f, sympy.cos), h, 0)\n",
    "limit_3 = sympy.limit(diff_limit.subs(f, sympy.sin), h, 0)\n",
    "\n",
    "display(limit_2)\n",
    "display(limit_3)"
   ],
   "metadata": {
    "collapsed": false
   }
  },
  {
   "cell_type": "markdown",
   "source": [
    "Asymptotic behaviour"
   ],
   "metadata": {
    "collapsed": false
   }
  },
  {
   "cell_type": "code",
   "execution_count": 88,
   "outputs": [
    {
     "data": {
      "text/plain": "(x**2 - 3*x)/(2*x - 2)",
      "text/latex": "$\\displaystyle \\frac{x^{2} - 3 x}{2 x - 2}$"
     },
     "metadata": {},
     "output_type": "display_data"
    }
   ],
   "source": [
    "# Compute the asymptotic behavior of a function\n",
    "expr = (x**2 - 3*x) / (2*x - 2)\n",
    "display(expr)"
   ],
   "metadata": {
    "collapsed": false
   }
  },
  {
   "cell_type": "markdown",
   "source": [
    "Suppose we are interested in the large- x dependence of this function. It will be in the form $f (x) \\to px+q$, and we can compute\n",
    "p and q using `sympy.limit` as in:"
   ],
   "metadata": {
    "collapsed": false
   }
  },
  {
   "cell_type": "code",
   "execution_count": 89,
   "outputs": [
    {
     "data": {
      "text/plain": "1/2",
      "text/latex": "$\\displaystyle \\frac{1}{2}$"
     },
     "metadata": {},
     "output_type": "display_data"
    },
    {
     "data": {
      "text/plain": "-1",
      "text/latex": "$\\displaystyle -1$"
     },
     "metadata": {},
     "output_type": "display_data"
    }
   ],
   "source": [
    "p = sympy.limit(expr/x, x, sympy.oo)\n",
    "q = sympy.limit(expr - p*x, x, sympy.oo)\n",
    "\n",
    "display(p, q)"
   ],
   "metadata": {
    "collapsed": false
   }
  },
  {
   "cell_type": "markdown",
   "source": [
    "Thus, the asymptotic behaviour of $f(x)$ as $x$ become large is the linear function $f(x) \\to x/2-1$"
   ],
   "metadata": {
    "collapsed": false
   }
  },
  {
   "cell_type": "markdown",
   "source": [
    "----"
   ],
   "metadata": {
    "collapsed": false
   }
  },
  {
   "cell_type": "markdown",
   "source": [
    "## Sums & Products using `sympy.Sum` and `sympy.Product`"
   ],
   "metadata": {
    "collapsed": false
   }
  },
  {
   "cell_type": "code",
   "execution_count": 90,
   "outputs": [],
   "source": [
    "n = sympy.symbols(\"n\", integer=True)"
   ],
   "metadata": {
    "collapsed": false
   }
  },
  {
   "cell_type": "markdown",
   "source": [
    "`doit()` method evaluates the sum"
   ],
   "metadata": {
    "collapsed": false
   }
  },
  {
   "cell_type": "code",
   "execution_count": 91,
   "outputs": [
    {
     "name": "stdout",
     "output_type": "stream",
     "text": [
      "Summation:\n"
     ]
    },
    {
     "data": {
      "text/plain": "Sum(n**(-2), (n, 1, oo))",
      "text/latex": "$\\displaystyle \\sum_{n=1}^{\\infty} \\frac{1}{n^{2}}$"
     },
     "metadata": {},
     "output_type": "display_data"
    },
    {
     "name": "stdout",
     "output_type": "stream",
     "text": [
      "Evaluation of the summation:\n"
     ]
    },
    {
     "data": {
      "text/plain": "pi**2/6",
      "text/latex": "$\\displaystyle \\frac{\\pi^{2}}{6}$"
     },
     "metadata": {},
     "output_type": "display_data"
    }
   ],
   "source": [
    "# Example 1: Summation\n",
    "x = sympy.Sum(1/(n**2), (n, 1, sympy.oo))\n",
    "print(\"Summation:\")\n",
    "display(x)\n",
    "print(\"Evaluation of the summation:\")\n",
    "display(x.doit())"
   ],
   "metadata": {
    "collapsed": false
   }
  },
  {
   "cell_type": "code",
   "execution_count": 92,
   "outputs": [
    {
     "name": "stdout",
     "output_type": "stream",
     "text": [
      "Product:\n"
     ]
    },
    {
     "data": {
      "text/plain": "Product(n, (n, 1, 7))",
      "text/latex": "$\\displaystyle \\prod_{n=1}^{7} n$"
     },
     "metadata": {},
     "output_type": "display_data"
    },
    {
     "name": "stdout",
     "output_type": "stream",
     "text": [
      "Evaluation of the product:\n"
     ]
    },
    {
     "data": {
      "text/plain": "5040",
      "text/latex": "$\\displaystyle 5040$"
     },
     "metadata": {},
     "output_type": "display_data"
    }
   ],
   "source": [
    "# Example 2: Product\n",
    "x = sympy.Product(n, (n, 1, 7))\n",
    "print(\"Product:\")\n",
    "display(x)\n",
    "print(\"Evaluation of the product:\")\n",
    "display(x.doit())"
   ],
   "metadata": {
    "collapsed": false
   }
  },
  {
   "cell_type": "markdown",
   "source": [
    "SymPy can handle various types of summations, including those with symbolic variables in the summand. The `simplify()` method can be used to simplify the result"
   ],
   "metadata": {
    "collapsed": false
   }
  },
  {
   "cell_type": "code",
   "execution_count": 94,
   "outputs": [
    {
     "name": "stdout",
     "output_type": "stream",
     "text": [
      "Summation\n"
     ]
    },
    {
     "data": {
      "text/plain": "Sum(x**n/factorial(n), (n, 1, oo))",
      "text/latex": "$\\displaystyle \\sum_{n=1}^{\\infty} \\frac{x^{n}}{n!}$"
     },
     "metadata": {},
     "output_type": "display_data"
    },
    {
     "name": "stdout",
     "output_type": "stream",
     "text": [
      "Simplified expression:\n"
     ]
    },
    {
     "data": {
      "text/plain": "exp(x) - 1",
      "text/latex": "$\\displaystyle e^{x} - 1$"
     },
     "metadata": {},
     "output_type": "display_data"
    }
   ],
   "source": [
    "x = sympy.Symbol(\"x\")\n",
    "print(\"Summation\")\n",
    "display(sympy.Sum((x) ** n / (sympy.factorial(n)), (n, 1, sympy.oo)))\n",
    "\n",
    "simp_sum = sympy.Sum((x) ** n / (sympy.factorial(n)), (n, 1, sympy.oo)).doit().simplify()\n",
    "print(\"Simplified expression:\")\n",
    "display(simp_sum)"
   ],
   "metadata": {
    "collapsed": false
   }
  },
  {
   "cell_type": "markdown",
   "source": [
    "----\n",
    "&nbsp;\n",
    "## Equations"
   ],
   "metadata": {
    "collapsed": false
   }
  },
  {
   "cell_type": "markdown",
   "source": [
    "Find value of $x$ that satisfies a simple quadratic"
   ],
   "metadata": {
    "collapsed": false
   }
  },
  {
   "cell_type": "code",
   "execution_count": 96,
   "outputs": [
    {
     "name": "stdout",
     "output_type": "stream",
     "text": [
      "Expression:\n"
     ]
    },
    {
     "data": {
      "text/plain": "x**2 + 2*x - 3",
      "text/latex": "$\\displaystyle x^{2} + 2 x - 3$"
     },
     "metadata": {},
     "output_type": "display_data"
    },
    {
     "name": "stdout",
     "output_type": "stream",
     "text": [
      "Solutions\n"
     ]
    },
    {
     "data": {
      "text/plain": "[-3, 1]"
     },
     "metadata": {},
     "output_type": "display_data"
    }
   ],
   "source": [
    "# Example 1: x**2 + 2*x - 3 = 0\n",
    "x = sympy.Symbol(\"x\")\n",
    "print(\"Expression:\")\n",
    "expr = x**2 + 2*x - 3\n",
    "display(expr)\n",
    "\n",
    "solutions = sympy.solve(expr)\n",
    "print(\"Solutions\")\n",
    "display(solutions)"
   ],
   "metadata": {
    "collapsed": false
   }
  },
  {
   "cell_type": "markdown",
   "source": [
    "Symbolic quadratic"
   ],
   "metadata": {
    "collapsed": false
   }
  },
  {
   "cell_type": "code",
   "execution_count": 99,
   "outputs": [
    {
     "data": {
      "text/plain": "a*x**2 + b*x + c",
      "text/latex": "$\\displaystyle a x^{2} + b x + c$"
     },
     "metadata": {},
     "output_type": "display_data"
    },
    {
     "name": "stdout",
     "output_type": "stream",
     "text": [
      "Solutions:\n"
     ]
    },
    {
     "data": {
      "text/plain": "[(-b - sqrt(-4*a*c + b**2))/(2*a), (-b + sqrt(-4*a*c + b**2))/(2*a)]"
     },
     "metadata": {},
     "output_type": "display_data"
    }
   ],
   "source": [
    "a, b, c = sympy.symbols(\"a, b, c\")\n",
    "expr = a * x**2 + b * x + c\n",
    "display(expr)\n",
    "\n",
    "solutions = sympy.solve(expr, x)\n",
    "print(\"Solutions:\")\n",
    "display(solutions)"
   ],
   "metadata": {
    "collapsed": false
   }
  },
  {
   "cell_type": "code",
   "execution_count": 102,
   "outputs": [
    {
     "data": {
      "text/plain": "sin(x) - cos(x)",
      "text/latex": "$\\displaystyle \\sin{\\left(x \\right)} - \\cos{\\left(x \\right)}$"
     },
     "metadata": {},
     "output_type": "display_data"
    },
    {
     "name": "stdout",
     "output_type": "stream",
     "text": [
      "Trigonometric equation solutions:\n"
     ]
    },
    {
     "data": {
      "text/plain": "[pi/4]"
     },
     "metadata": {},
     "output_type": "display_data"
    }
   ],
   "source": [
    "# Solve trigonometric equation\n",
    "trig_eq = sympy.sin(x) - sympy.cos(x)\n",
    "display(trig_eq)\n",
    "trig_solutions = sympy.solve(trig_eq, x)\n",
    "\n",
    "print(\"Trigonometric equation solutions:\")\n",
    "display(trig_solutions)"
   ],
   "metadata": {
    "collapsed": false
   }
  },
  {
   "cell_type": "code",
   "execution_count": 101,
   "outputs": [
    {
     "data": {
      "text/plain": "2*x + exp(x)",
      "text/latex": "$\\displaystyle 2 x + e^{x}$"
     },
     "metadata": {},
     "output_type": "display_data"
    },
    {
     "name": "stdout",
     "output_type": "stream",
     "text": [
      "Equation with special function solutions:\n"
     ]
    },
    {
     "data": {
      "text/plain": "[-LambertW(1/2)]"
     },
     "metadata": {},
     "output_type": "display_data"
    }
   ],
   "source": [
    "# Solve equation with special functions\n",
    "special_eq = sympy.exp(x) + 2 * x\n",
    "display(special_eq)\n",
    "special_solutions = sympy.solve(special_eq, x)\n",
    "\n",
    "print(\"Equation with special function solutions:\")\n",
    "display(special_solutions)"
   ],
   "metadata": {
    "collapsed": false
   }
  },
  {
   "cell_type": "markdown",
   "source": [
    "It is not uncommon to encounter equations that are not solvable algebraically or which SymPy is unable to solve.\n",
    "In these cases SymPy will return a formal solution, which can be evaluated numerically if needed, or raise an error if no method is available for that particular type of equation:\n"
   ],
   "metadata": {
    "collapsed": false
   }
  },
  {
   "cell_type": "code",
   "execution_count": 103,
   "outputs": [
    {
     "name": "stdout",
     "output_type": "stream",
     "text": [
      "Equation with no algebraic solution:\n"
     ]
    },
    {
     "data": {
      "text/plain": "[CRootOf(x**5 - x**2 + 1, 0),\n CRootOf(x**5 - x**2 + 1, 1),\n CRootOf(x**5 - x**2 + 1, 2),\n CRootOf(x**5 - x**2 + 1, 3),\n CRootOf(x**5 - x**2 + 1, 4)]"
     },
     "metadata": {},
     "output_type": "display_data"
    }
   ],
   "source": [
    "# Solve equation with no algebraic solution\n",
    "eq1 = x**5 - x**2 + 1\n",
    "sol1 = sympy.solve(eq1, x)\n",
    "\n",
    "print(\"Equation with no algebraic solution:\")\n",
    "display(sol1)"
   ],
   "metadata": {
    "collapsed": false
   }
  },
  {
   "cell_type": "markdown",
   "source": [
    "Insoluble"
   ],
   "metadata": {
    "collapsed": false
   }
  },
  {
   "cell_type": "code",
   "execution_count": 105,
   "outputs": [
    {
     "ename": "NotImplementedError",
     "evalue": "multiple generators [x, tan(x)]\nNo algorithms are implemented to solve equation x + tan(x)",
     "output_type": "error",
     "traceback": [
      "\u001B[0;31m---------------------------------------------------------------------------\u001B[0m",
      "\u001B[0;31mNotImplementedError\u001B[0m                       Traceback (most recent call last)",
      "\u001B[0;32m/var/folders/s9/z74lxq2n7d9ct45y9_ffymd00000gn/T/ipykernel_68104/3480654465.py\u001B[0m in \u001B[0;36m<module>\u001B[0;34m\u001B[0m\n\u001B[1;32m      1\u001B[0m \u001B[0;31m# Solve equation involving trigonometric function\u001B[0m\u001B[0;34m\u001B[0m\u001B[0;34m\u001B[0m\u001B[0m\n\u001B[1;32m      2\u001B[0m \u001B[0meq2\u001B[0m \u001B[0;34m=\u001B[0m \u001B[0msympy\u001B[0m\u001B[0;34m.\u001B[0m\u001B[0mtan\u001B[0m\u001B[0;34m(\u001B[0m\u001B[0mx\u001B[0m\u001B[0;34m)\u001B[0m \u001B[0;34m+\u001B[0m \u001B[0mx\u001B[0m\u001B[0;34m\u001B[0m\u001B[0;34m\u001B[0m\u001B[0m\n\u001B[0;32m----> 3\u001B[0;31m \u001B[0msol2\u001B[0m \u001B[0;34m=\u001B[0m \u001B[0msympy\u001B[0m\u001B[0;34m.\u001B[0m\u001B[0msolve\u001B[0m\u001B[0;34m(\u001B[0m\u001B[0meq2\u001B[0m\u001B[0;34m,\u001B[0m \u001B[0mx\u001B[0m\u001B[0;34m)\u001B[0m\u001B[0;34m\u001B[0m\u001B[0;34m\u001B[0m\u001B[0m\n\u001B[0m",
      "\u001B[0;32m~/opt/anaconda3/lib/python3.9/site-packages/sympy/solvers/solvers.py\u001B[0m in \u001B[0;36msolve\u001B[0;34m(f, *symbols, **flags)\u001B[0m\n\u001B[1;32m   1104\u001B[0m     \u001B[0;31m###########################################################################\u001B[0m\u001B[0;34m\u001B[0m\u001B[0;34m\u001B[0m\u001B[0m\n\u001B[1;32m   1105\u001B[0m     \u001B[0;32mif\u001B[0m \u001B[0mbare_f\u001B[0m\u001B[0;34m:\u001B[0m\u001B[0;34m\u001B[0m\u001B[0;34m\u001B[0m\u001B[0m\n\u001B[0;32m-> 1106\u001B[0;31m         \u001B[0msolution\u001B[0m \u001B[0;34m=\u001B[0m \u001B[0m_solve\u001B[0m\u001B[0;34m(\u001B[0m\u001B[0mf\u001B[0m\u001B[0;34m[\u001B[0m\u001B[0;36m0\u001B[0m\u001B[0;34m]\u001B[0m\u001B[0;34m,\u001B[0m \u001B[0;34m*\u001B[0m\u001B[0msymbols\u001B[0m\u001B[0;34m,\u001B[0m \u001B[0;34m**\u001B[0m\u001B[0mflags\u001B[0m\u001B[0;34m)\u001B[0m\u001B[0;34m\u001B[0m\u001B[0;34m\u001B[0m\u001B[0m\n\u001B[0m\u001B[1;32m   1107\u001B[0m     \u001B[0;32melse\u001B[0m\u001B[0;34m:\u001B[0m\u001B[0;34m\u001B[0m\u001B[0;34m\u001B[0m\u001B[0m\n\u001B[1;32m   1108\u001B[0m         \u001B[0msolution\u001B[0m \u001B[0;34m=\u001B[0m \u001B[0m_solve_system\u001B[0m\u001B[0;34m(\u001B[0m\u001B[0mf\u001B[0m\u001B[0;34m,\u001B[0m \u001B[0msymbols\u001B[0m\u001B[0;34m,\u001B[0m \u001B[0;34m**\u001B[0m\u001B[0mflags\u001B[0m\u001B[0;34m)\u001B[0m\u001B[0;34m\u001B[0m\u001B[0;34m\u001B[0m\u001B[0m\n",
      "\u001B[0;32m~/opt/anaconda3/lib/python3.9/site-packages/sympy/solvers/solvers.py\u001B[0m in \u001B[0;36m_solve\u001B[0;34m(f, *symbols, **flags)\u001B[0m\n\u001B[1;32m   1718\u001B[0m \u001B[0;34m\u001B[0m\u001B[0m\n\u001B[1;32m   1719\u001B[0m     \u001B[0;32mif\u001B[0m \u001B[0mresult\u001B[0m \u001B[0;32mis\u001B[0m \u001B[0;32mFalse\u001B[0m\u001B[0;34m:\u001B[0m\u001B[0;34m\u001B[0m\u001B[0;34m\u001B[0m\u001B[0m\n\u001B[0;32m-> 1720\u001B[0;31m         \u001B[0;32mraise\u001B[0m \u001B[0mNotImplementedError\u001B[0m\u001B[0;34m(\u001B[0m\u001B[0;34m'\\n'\u001B[0m\u001B[0;34m.\u001B[0m\u001B[0mjoin\u001B[0m\u001B[0;34m(\u001B[0m\u001B[0;34m[\u001B[0m\u001B[0mmsg\u001B[0m\u001B[0;34m,\u001B[0m \u001B[0mnot_impl_msg\u001B[0m \u001B[0;34m%\u001B[0m \u001B[0mf\u001B[0m\u001B[0;34m]\u001B[0m\u001B[0;34m)\u001B[0m\u001B[0;34m)\u001B[0m\u001B[0;34m\u001B[0m\u001B[0;34m\u001B[0m\u001B[0m\n\u001B[0m\u001B[1;32m   1721\u001B[0m \u001B[0;34m\u001B[0m\u001B[0m\n\u001B[1;32m   1722\u001B[0m     \u001B[0;32mif\u001B[0m \u001B[0mflags\u001B[0m\u001B[0;34m.\u001B[0m\u001B[0mget\u001B[0m\u001B[0;34m(\u001B[0m\u001B[0;34m'simplify'\u001B[0m\u001B[0;34m,\u001B[0m \u001B[0;32mTrue\u001B[0m\u001B[0;34m)\u001B[0m\u001B[0;34m:\u001B[0m\u001B[0;34m\u001B[0m\u001B[0;34m\u001B[0m\u001B[0m\n",
      "\u001B[0;31mNotImplementedError\u001B[0m: multiple generators [x, tan(x)]\nNo algorithms are implemented to solve equation x + tan(x)"
     ]
    }
   ],
   "source": [
    "# Solve equation involving trigonometric function\n",
    "eq2 = sympy.tan(x) + x\n",
    "sol2 = sympy.solve(eq2, x)"
   ],
   "metadata": {
    "collapsed": false
   }
  },
  {
   "cell_type": "markdown",
   "source": [
    "##### Systems of equations\n",
    "we pass a list of expressions to represent the system"
   ],
   "metadata": {
    "collapsed": false
   }
  },
  {
   "cell_type": "code",
   "execution_count": 112,
   "outputs": [
    {
     "data": {
      "text/plain": "[x + 2*y - 1, x - y + 1]"
     },
     "metadata": {},
     "output_type": "display_data"
    },
    {
     "name": "stdout",
     "output_type": "stream",
     "text": [
      "Linear system solutions:\n"
     ]
    },
    {
     "data": {
      "text/plain": "[{x: -1/3, y: 2/3}]"
     },
     "metadata": {},
     "output_type": "display_data"
    }
   ],
   "source": [
    "# Solve a linear system of equations\n",
    "eq1 = x + 2*y - 1\n",
    "eq2 = x - y + 1\n",
    "linear_system = [eq1, eq2]\n",
    "display(linear_system)\n",
    "\n",
    "solutions_linear = sympy.solve(linear_system, [x, y], dict=True)\n",
    "print(\"Linear system solutions:\")\n",
    "display(solutions_linear)"
   ],
   "metadata": {
    "collapsed": false
   }
  },
  {
   "cell_type": "code",
   "execution_count": 113,
   "outputs": [
    {
     "data": {
      "text/plain": "[x**2 - y, -x + y**2]"
     },
     "metadata": {},
     "output_type": "display_data"
    },
    {
     "name": "stdout",
     "output_type": "stream",
     "text": [
      "Nonlinear system solutions:\n"
     ]
    },
    {
     "data": {
      "text/plain": "[(0, 0),\n (1, 1),\n ((-1/2 - sqrt(3)*I/2)**2, -1/2 - sqrt(3)*I/2),\n ((-1/2 + sqrt(3)*I/2)**2, -1/2 + sqrt(3)*I/2)]"
     },
     "metadata": {},
     "output_type": "display_data"
    },
    {
     "name": "stdout",
     "output_type": "stream",
     "text": [
      "Nonlinear system solutions dictionary format:\n"
     ]
    },
    {
     "data": {
      "text/plain": "[{x: 0, y: 0},\n {x: 1, y: 1},\n {x: (-1/2 - sqrt(3)*I/2)**2, y: -1/2 - sqrt(3)*I/2},\n {x: (-1/2 + sqrt(3)*I/2)**2, y: -1/2 + sqrt(3)*I/2}]"
     },
     "metadata": {},
     "output_type": "display_data"
    }
   ],
   "source": [
    "# Solve a nonlinear system of equations\n",
    "eq3 = x**2 - y\n",
    "eq4 = y**2 - x\n",
    "nonlinear_system = [eq3, eq4]\n",
    "display(nonlinear_system)\n",
    "\n",
    "solutions_nonlinear = sympy.solve(nonlinear_system, [x, y])\n",
    "print(\"Nonlinear system solutions:\")\n",
    "display(solutions_nonlinear)\n",
    "\n",
    "solutions_nonlinear = sympy.solve(nonlinear_system, [x, y], dict=True)\n",
    "print(\"Nonlinear system solutions dictionary format:\")\n",
    "display(solutions_nonlinear)"
   ],
   "metadata": {
    "collapsed": false
   }
  },
  {
   "cell_type": "markdown",
   "source": [
    "We can call the dictionary to `subs` to obtain bools whether the system is satisfied"
   ],
   "metadata": {
    "collapsed": false
   }
  },
  {
   "cell_type": "code",
   "execution_count": 115,
   "outputs": [
    {
     "name": "stdout",
     "output_type": "stream",
     "text": [
      "Checking solutions for the linear system:\n"
     ]
    },
    {
     "data": {
      "text/plain": "[True]"
     },
     "metadata": {},
     "output_type": "display_data"
    }
   ],
   "source": [
    "# Check solutions for the linear system\n",
    "print(\"Checking solutions for the linear system:\")\n",
    "linear_solutions_valid = [eq1.subs(sol).simplify() == 0 and eq2.subs(sol).simplify() == 0\n",
    "                          for sol in solutions_linear]\n",
    "display(linear_solutions_valid)"
   ],
   "metadata": {
    "collapsed": false
   }
  },
  {
   "cell_type": "code",
   "execution_count": 116,
   "outputs": [
    {
     "name": "stdout",
     "output_type": "stream",
     "text": [
      "Checking solutions for the nonlinear system:\n"
     ]
    },
    {
     "data": {
      "text/plain": "[True, True, True, True]"
     },
     "metadata": {},
     "output_type": "display_data"
    }
   ],
   "source": [
    "# Check solutions for the nonlinear system\n",
    "print(\"Checking solutions for the nonlinear system:\")\n",
    "nonlinear_solutions_valid = [eq3.subs(sol).simplify() == 0 and eq4.subs(sol).simplify() == 0\n",
    "                             for sol in solutions_nonlinear]\n",
    "display(nonlinear_solutions_valid)"
   ],
   "metadata": {
    "collapsed": false
   }
  },
  {
   "cell_type": "markdown",
   "source": [
    "----\n",
    "&nbsp;\n",
    "## Linear Algebra"
   ],
   "metadata": {
    "collapsed": false
   }
  },
  {
   "cell_type": "code",
   "execution_count": 117,
   "outputs": [
    {
     "name": "stdout",
     "output_type": "stream",
     "text": [
      "Column Vector:\n"
     ]
    },
    {
     "data": {
      "text/plain": "Matrix([\n[1],\n[2]])",
      "text/latex": "$\\displaystyle \\left[\\begin{matrix}1\\\\2\\end{matrix}\\right]$"
     },
     "metadata": {},
     "output_type": "display_data"
    },
    {
     "name": "stdout",
     "output_type": "stream",
     "text": [
      "Row Matrix:\n"
     ]
    },
    {
     "data": {
      "text/plain": "Matrix([[1, 2]])",
      "text/latex": "$\\displaystyle \\left[\\begin{matrix}1 & 2\\end{matrix}\\right]$"
     },
     "metadata": {},
     "output_type": "display_data"
    },
    {
     "name": "stdout",
     "output_type": "stream",
     "text": [
      "2x2 Matrix:\n"
     ]
    },
    {
     "data": {
      "text/plain": "Matrix([\n[1, 2],\n[3, 4]])",
      "text/latex": "$\\displaystyle \\left[\\begin{matrix}1 & 2\\\\3 & 4\\end{matrix}\\right]$"
     },
     "metadata": {},
     "output_type": "display_data"
    }
   ],
   "source": [
    "# Create matrices\n",
    "print(\"Column Vector:\")\n",
    "matrix1 = sympy.Matrix([1, 2])\n",
    "display(matrix1)\n",
    "\n",
    "print(\"Row Matrix:\")\n",
    "matrix2 = sympy.Matrix([[1, 2]])\n",
    "display(matrix2)\n",
    "\n",
    "print(\"2x2 Matrix:\")\n",
    "matrix3 = sympy.Matrix([[1, 2], [3, 4]])\n",
    "display(matrix3)"
   ],
   "metadata": {
    "collapsed": false
   }
  },
  {
   "cell_type": "markdown",
   "source": [
    "Another way of creating new sympy. Matrix objects is to pass as arguments the number of rows, the number of columns, and a function that takes the row and column index as arguments and returns the value of the corresponding element:"
   ],
   "metadata": {
    "collapsed": false
   }
  },
  {
   "cell_type": "code",
   "execution_count": 118,
   "outputs": [
    {
     "name": "stdout",
     "output_type": "stream",
     "text": [
      "Creating matrix with a function:\n"
     ]
    },
    {
     "data": {
      "text/plain": "Matrix([\n[ 0,  1,  2,  3],\n[10, 11, 12, 13],\n[20, 21, 22, 23]])",
      "text/latex": "$\\displaystyle \\left[\\begin{matrix}0 & 1 & 2 & 3\\\\10 & 11 & 12 & 13\\\\20 & 21 & 22 & 23\\end{matrix}\\right]$"
     },
     "metadata": {},
     "output_type": "display_data"
    }
   ],
   "source": [
    "# Create matrix with a function\n",
    "print(\"Creating matrix from a function:\")\n",
    "matrix_func = sympy.Matrix(3, 4, lambda m, n: 10 * m + n)\n",
    "display(matrix_func)"
   ],
   "metadata": {
    "collapsed": false
   }
  },
  {
   "cell_type": "code",
   "execution_count": 119,
   "outputs": [
    {
     "name": "stdout",
     "output_type": "stream",
     "text": [
      "Creating matrix with symbolic expressions:\n",
      "Matrix M:\n"
     ]
    },
    {
     "data": {
      "text/plain": "Matrix([\n[a, b],\n[c, d]])",
      "text/latex": "$\\displaystyle \\left[\\begin{matrix}a & b\\\\c & d\\end{matrix}\\right]$"
     },
     "metadata": {},
     "output_type": "display_data"
    }
   ],
   "source": [
    "# Create matrix with symbolic expressions\n",
    "print(\"Creating matrix with symbolic expressions:\")\n",
    "a, b, c, d = sympy.symbols(\"a, b, c, d\")\n",
    "M = sympy.Matrix([[a, b], [c, d]])\n",
    "print(\"Matrix M:\")\n",
    "display(M)"
   ],
   "metadata": {
    "collapsed": false
   }
  },
  {
   "cell_type": "code",
   "execution_count": 120,
   "outputs": [
    {
     "name": "stdout",
     "output_type": "stream",
     "text": [
      "Matrix computations:\n",
      "M * M:\n"
     ]
    },
    {
     "data": {
      "text/plain": "Matrix([\n[a**2 + b*c,  a*b + b*d],\n[ a*c + c*d, b*c + d**2]])",
      "text/latex": "$\\displaystyle \\left[\\begin{matrix}a^{2} + b c & a b + b d\\\\a c + c d & b c + d^{2}\\end{matrix}\\right]$"
     },
     "metadata": {},
     "output_type": "display_data"
    },
    {
     "name": "stdout",
     "output_type": "stream",
     "text": [
      "M * x:\n"
     ]
    },
    {
     "data": {
      "text/plain": "Matrix([\n[a*x_1 + b*x_2],\n[c*x_1 + d*x_2]])",
      "text/latex": "$\\displaystyle \\left[\\begin{matrix}a x_{1} + b x_{2}\\\\c x_{1} + d x_{2}\\end{matrix}\\right]$"
     },
     "metadata": {},
     "output_type": "display_data"
    }
   ],
   "source": [
    "# Matrix computations\n",
    "print(\"Matrix computations:\")\n",
    "print(\"M * M:\")\n",
    "display(M * M)\n",
    "\n",
    "x = sympy.Matrix(sympy.symbols(\"x_1, x_2\"))\n",
    "print(\"M * x:\")\n",
    "display(M * x)"
   ],
   "metadata": {
    "collapsed": false
   }
  },
  {
   "cell_type": "markdown",
   "source": [
    "----\n",
    "&nbsp;\n",
    "Solving a system;"
   ],
   "metadata": {
    "collapsed": false
   }
  },
  {
   "cell_type": "code",
   "execution_count": 122,
   "outputs": [
    {
     "name": "stdout",
     "output_type": "stream",
     "text": [
      "Matrix M:\n"
     ]
    },
    {
     "data": {
      "text/plain": "Matrix([\n[1, p],\n[q, 1]])",
      "text/latex": "$\\displaystyle \\left[\\begin{matrix}1 & p\\\\q & 1\\end{matrix}\\right]$"
     },
     "metadata": {},
     "output_type": "display_data"
    },
    {
     "name": "stdout",
     "output_type": "stream",
     "text": [
      "Matrix b:\n"
     ]
    },
    {
     "data": {
      "text/plain": "Matrix([\n[b_1],\n[b_2]])",
      "text/latex": "$\\displaystyle \\left[\\begin{matrix}b_{1}\\\\b_{2}\\end{matrix}\\right]$"
     },
     "metadata": {},
     "output_type": "display_data"
    }
   ],
   "source": [
    "# Create symbols for unknown variables and parameters\n",
    "p, q = sympy.symbols(\"p, q\")\n",
    "\n",
    "# Create matrix M\n",
    "M = sympy.Matrix([[1, p], [q, 1]])\n",
    "print(\"Matrix M:\")\n",
    "display(M)\n",
    "\n",
    "# Create matrix b\n",
    "b = sympy.Matrix(sympy.symbols(\"b_1, b_2\"))\n",
    "print(\"Matrix b:\")\n",
    "display(b)"
   ],
   "metadata": {
    "collapsed": false
   }
  },
  {
   "cell_type": "code",
   "execution_count": 123,
   "outputs": [
    {
     "name": "stdout",
     "output_type": "stream",
     "text": [
      "Solution x using LUsolve:\n"
     ]
    },
    {
     "data": {
      "text/plain": "Matrix([\n[b_1 - p*(-b_1*q + b_2)/(-p*q + 1)],\n[        (-b_1*q + b_2)/(-p*q + 1)]])",
      "text/latex": "$\\displaystyle \\left[\\begin{matrix}b_{1} - \\frac{p \\left(- b_{1} q + b_{2}\\right)}{- p q + 1}\\\\\\frac{- b_{1} q + b_{2}}{- p q + 1}\\end{matrix}\\right]$"
     },
     "metadata": {},
     "output_type": "display_data"
    }
   ],
   "source": [
    "# Solve the linear equation system using LUsolve method\n",
    "x = M.LUsolve(b)\n",
    "print(\"Solution x using LUsolve:\")\n",
    "display(x)"
   ],
   "metadata": {
    "collapsed": false
   }
  },
  {
   "cell_type": "code",
   "execution_count": 124,
   "outputs": [
    {
     "name": "stdout",
     "output_type": "stream",
     "text": [
      "Solution x using matrix inverse:\n"
     ]
    },
    {
     "data": {
      "text/plain": "Matrix([\n[ b_1/(-p*q + 1) - b_2*p/(-p*q + 1)],\n[-b_1*q/(-p*q + 1) + b_2/(-p*q + 1)]])",
      "text/latex": "$\\displaystyle \\left[\\begin{matrix}\\frac{b_{1}}{- p q + 1} - \\frac{b_{2} p}{- p q + 1}\\\\- \\frac{b_{1} q}{- p q + 1} + \\frac{b_{2}}{- p q + 1}\\end{matrix}\\right]$"
     },
     "metadata": {},
     "output_type": "display_data"
    }
   ],
   "source": [
    "# Alternatively, compute the solution by multiplying the inverse of M with b\n",
    "x = M.inv() * b\n",
    "print(\"Solution x using matrix inverse:\")\n",
    "display(x)"
   ],
   "metadata": {
    "collapsed": false
   }
  },
  {
   "cell_type": "markdown",
   "source": [
    "----\n",
    "&nbsp;\n",
    "### Linear Algebra methods"
   ],
   "metadata": {
    "collapsed": false
   }
  },
  {
   "cell_type": "markdown",
   "source": [
    "### all below matrix functions and methods can be implemented using the `sympy.Matrix` class."
   ],
   "metadata": {
    "collapsed": false
   }
  },
  {
   "cell_type": "markdown",
   "source": [
    "| Function/Method   | Description                                                                                         |\n",
    "|-------------------|-----------------------------------------------------------------------------------------------------|\n",
    "| `transpose/T`     | Transpose of a matrix.                                                                              |\n",
    "| `adjoint/H`       | Adjoint of a matrix.                                                                                |\n",
    "| `trace`           | Trace (sum of diagonal elements) of a matrix.                                                       |\n",
    "| `det`             | Determinant of a matrix.                                                                            |\n",
    "| `inv`             | Inverse of a matrix.                                                                                |\n",
    "| `LUdecomposition` | LU decomposition of a matrix.                                                                       |\n",
    "| `LUsolve`         | Solve a linear system of equations in the form Mx = b, for the unknown vector x, using LU factorization. |\n",
    "| `QRdecomposition` | Compute the QR decomposition of a matrix.                                                            |\n",
    "| `QRsolve`         | Solve a linear system of equations in the form Mx = b, for the unknown vector x, using QR factorization. |\n",
    "| `diagonalize`     | Diagonalize a matrix M, such that it can be written in the form D = P^(-1)MP, where D is diagonal.    |\n",
    "| `norm`            | Compute the norm of a matrix.                                                                       |\n",
    "| `nullspace`       | Compute a set of vectors that span the null space of a Matrix.                                      |\n",
    "| `rank`            | Compute the rank of a matrix.                                                                       |\n",
    "| `singular_values` | Compute the singular values of a matrix.                                                             |\n",
    "| `solve`           | Solve a linear system of equations in the form Mx = b.                                              |\n"
   ],
   "metadata": {
    "collapsed": false
   }
  },
  {
   "cell_type": "markdown",
   "source": [
    "----"
   ],
   "metadata": {
    "collapsed": false
   }
  },
  {
   "cell_type": "code",
   "execution_count": null,
   "outputs": [],
   "source": [],
   "metadata": {
    "collapsed": false
   }
  }
 ],
 "metadata": {
  "kernelspec": {
   "display_name": "Python 3",
   "language": "python",
   "name": "python3"
  },
  "language_info": {
   "codemirror_mode": {
    "name": "ipython",
    "version": 2
   },
   "file_extension": ".py",
   "mimetype": "text/x-python",
   "name": "python",
   "nbconvert_exporter": "python",
   "pygments_lexer": "ipython2",
   "version": "2.7.6"
  }
 },
 "nbformat": 4,
 "nbformat_minor": 0
}
