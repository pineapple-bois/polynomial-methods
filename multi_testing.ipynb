{
 "cells": [
  {
   "cell_type": "markdown",
   "source": [
    "# Multivariate Polynomials"
   ],
   "metadata": {
    "collapsed": false
   }
  },
  {
   "cell_type": "code",
   "execution_count": 2,
   "outputs": [],
   "source": [
    "from py_files.poly_dictionary import decompose_polynomial\n",
    "from py_files.polynomial_class_test import *"
   ],
   "metadata": {
    "collapsed": false,
    "ExecuteTime": {
     "end_time": "2023-07-01T21:27:57.951783Z",
     "start_time": "2023-07-01T21:27:57.796191Z"
    }
   }
  },
  {
   "cell_type": "markdown",
   "source": [
    "## Checking instantiation"
   ],
   "metadata": {
    "collapsed": false
   }
  },
  {
   "cell_type": "markdown",
   "source": [
    "Session polynomials can be edited here"
   ],
   "metadata": {
    "collapsed": false
   }
  },
  {
   "cell_type": "code",
   "execution_count": 3,
   "outputs": [],
   "source": [
    "poly1 = decompose_polynomial(\"2*x + 3*y**2\")\n",
    "poly2 = decompose_polynomial(\"5*x**2 - 2.5*x*y + 7*y**2 - 4.5\")\n",
    "poly3 = decompose_polynomial(\"10.5*x**3 - 8*x**2*y + 6*x*y**2 - 4*y**3 + 2*x + 3.25\")"
   ],
   "metadata": {
    "collapsed": false,
    "ExecuteTime": {
     "end_time": "2023-07-01T21:27:58.051612Z",
     "start_time": "2023-07-01T21:27:57.821278Z"
    }
   }
  },
  {
   "cell_type": "code",
   "execution_count": 4,
   "outputs": [],
   "source": [
    "poly4 = decompose_polynomial(\"x**2 + 2*x*y + 3*x*z + y**2 + 4*y*z + z**2\")\n",
    "poly5 = decompose_polynomial(\"2.5*x**3*y**2*z**2 + 3.5*x**2*y*z - 4*x*y**3 + 5*x*y*z**3 - 6*x**2*z**2 + 7*y**2*z**2\")\n",
    "poly6 = decompose_polynomial(\"8*x**4*y**3*z**2 - 7*x**3*y*z**3 + 6*x**2*y**2*z - 5*x*y*z**4 + 4*x**3*z**2 - 3*x*y**2*z**3 + 2*x*z**4 - y**3*z**2 + 9*z**5 + 2.25\")"
   ],
   "metadata": {
    "collapsed": false,
    "ExecuteTime": {
     "end_time": "2023-07-01T21:27:58.051794Z",
     "start_time": "2023-07-01T21:27:57.827941Z"
    }
   }
  },
  {
   "cell_type": "markdown",
   "source": [
    "----\n",
    "&nbsp;\n",
    "### Bi-variate cases"
   ],
   "metadata": {
    "collapsed": false
   }
  },
  {
   "cell_type": "markdown",
   "source": [],
   "metadata": {
    "collapsed": false,
    "ExecuteTime": {
     "end_time": "2023-07-01T21:31:35.604127Z",
     "start_time": "2023-07-01T21:31:35.591009Z"
    }
   },
   "outputs": [],
   "execution_count": 57
  },
  {
   "cell_type": "code",
   "execution_count": 58,
   "outputs": [
    {
     "name": "stdout",
     "output_type": "stream",
     "text": [
      "---\n",
      "p1:\n",
      "3.0 * y^2 + 2.0 * x\n",
      "Bi-variate? True\n",
      "---\n",
      "p2:\n",
      "5.0 * x^2 - 2.5 * x * y + 7.0 * y^2 - 4.5\n",
      "Bi-variate? True\n",
      "---\n",
      "p3:\n",
      "10.5 * x^3 - 8.0 * x^2 * y + 6.0 * x * y^2 - 4.0 * y^3 + 2.0 * x + 3.25\n",
      "Bi-variate? True\n"
     ]
    }
   ],
   "source": [
    "p1 = BiVarPoly(poly1)\n",
    "p2 = BiVarPoly(poly2)\n",
    "p3 = BiVarPoly(poly3)"
   ],
   "metadata": {
    "collapsed": false,
    "ExecuteTime": {
     "end_time": "2023-07-01T21:31:37.474289Z",
     "start_time": "2023-07-01T21:31:37.452929Z"
    }
   }
  },
  {
   "cell_type": "code",
   "execution_count": 6,
   "outputs": [
    {
     "name": "stdout",
     "output_type": "stream",
     "text": [
      "---\n",
      "p1:\n",
      "3.0 * y^2 + 2.0 * x\n",
      "Bi-variate? True\n",
      "---\n",
      "p2:\n",
      "5.0 * x^2 - 2.5 * x * y + 7.0 * y^2 - 4.5\n",
      "Bi-variate? True\n",
      "---\n",
      "p3:\n",
      "10.5 * x^3 - 8.0 * x^2 * y + 6.0 * x * y^2 - 4.0 * y^3 + 2.0 * x + 3.25\n",
      "Bi-variate? True\n"
     ]
    }
   ],
   "source": [
    "bipolys = [p1, p2, p3]\n",
    "for i, poly in enumerate(bipolys, start=1):\n",
    "    print(\"---\")\n",
    "    print(f\"p{i}:\\n{poly}\")\n",
    "    print(f\"Bi-variate? {poly.is_bivariate}\")"
   ],
   "metadata": {
    "collapsed": false,
    "ExecuteTime": {
     "end_time": "2023-07-01T21:27:58.068307Z",
     "start_time": "2023-07-01T21:27:57.842755Z"
    }
   }
  },
  {
   "cell_type": "markdown",
   "source": [
    "Send to SymPy"
   ],
   "metadata": {
    "collapsed": false
   }
  },
  {
   "cell_type": "code",
   "execution_count": 7,
   "outputs": [],
   "source": [
    "symp1 = p1.save_as_sympy(rational=True)\n",
    "symp2 = p2.save_as_sympy(rational=True)\n",
    "symp3 = p3.save_as_sympy(rational=True)"
   ],
   "metadata": {
    "collapsed": false,
    "ExecuteTime": {
     "end_time": "2023-07-01T21:27:58.108609Z",
     "start_time": "2023-07-01T21:27:57.851106Z"
    }
   }
  },
  {
   "cell_type": "code",
   "execution_count": 8,
   "outputs": [
    {
     "data": {
      "text/plain": "Poly(2*x + 3*y**2, x, y, domain='ZZ')",
      "text/latex": "$\\displaystyle \\operatorname{Poly}{\\left( 2 x + 3 y^{2}, x, y, domain=\\mathbb{Z} \\right)}$"
     },
     "metadata": {},
     "output_type": "display_data"
    },
    {
     "data": {
      "text/plain": "Poly(5*x**2 - 5/2*x*y + 7*y**2 - 9/2, x, y, domain='QQ')",
      "text/latex": "$\\displaystyle \\operatorname{Poly}{\\left( 5 x^{2} -  \\frac{5}{2} xy + 7 y^{2} -  \\frac{9}{2}, x, y, domain=\\mathbb{Q} \\right)}$"
     },
     "metadata": {},
     "output_type": "display_data"
    },
    {
     "data": {
      "text/plain": "Poly(21/2*x**3 - 8*x**2*y + 6*x*y**2 + 2*x - 4*y**3 + 13/4, x, y, domain='QQ')",
      "text/latex": "$\\displaystyle \\operatorname{Poly}{\\left( \\frac{21}{2} x^{3} - 8 x^{2}y + 6 xy^{2} + 2 x - 4 y^{3} + \\frac{13}{4}, x, y, domain=\\mathbb{Q} \\right)}$"
     },
     "metadata": {},
     "output_type": "display_data"
    }
   ],
   "source": [
    "display(symp1)\n",
    "display(symp2)\n",
    "display(symp3)"
   ],
   "metadata": {
    "collapsed": false,
    "ExecuteTime": {
     "end_time": "2023-07-01T21:27:58.111965Z",
     "start_time": "2023-07-01T21:27:57.894380Z"
    }
   }
  },
  {
   "cell_type": "markdown",
   "source": [
    "----\n",
    "Incorrect instantiation"
   ],
   "metadata": {
    "collapsed": false
   }
  },
  {
   "cell_type": "code",
   "execution_count": 52,
   "outputs": [],
   "source": [
    "p_error_bi = BiVarPoly(decompose_polynomial(\"x**2 + 2*x*y + 3*x*z + y**2 + 4*y*z + z**2\"))"
   ],
   "metadata": {
    "collapsed": false,
    "ExecuteTime": {
     "end_time": "2023-07-01T21:28:08.597050Z",
     "start_time": "2023-07-01T21:28:08.583344Z"
    }
   }
  },
  {
   "cell_type": "markdown",
   "source": [
    "----\n",
    "&nbsp;\n",
    "### Tri-variate cases"
   ],
   "metadata": {
    "collapsed": false
   }
  },
  {
   "cell_type": "code",
   "execution_count": 53,
   "outputs": [],
   "source": [
    "p4 = TriVarPoly(poly4)\n",
    "p5 = TriVarPoly(poly5)\n",
    "p6 = TriVarPoly(poly6)"
   ],
   "metadata": {
    "collapsed": false,
    "ExecuteTime": {
     "end_time": "2023-07-01T21:28:11.161336Z",
     "start_time": "2023-07-01T21:28:11.148440Z"
    }
   }
  },
  {
   "cell_type": "code",
   "execution_count": 54,
   "outputs": [
    {
     "name": "stdout",
     "output_type": "stream",
     "text": [
      "---\n",
      "p4:\n",
      "x^2 + 2.0 * x * y + 3.0 * x * z + y^2 + 4.0 * y * z + z^2\n",
      "Tri-variate? True\n",
      "---\n",
      "p5:\n",
      "2.5 * x^3 * y^2 * z^2 + 5.0 * x * y * z^3 + 3.5 * x^2 * y * z - 4.0 * x * y^3 - 6.0 * x^2 * z^2 + 7.0 * y^2 * z^2\n",
      "Tri-variate? True\n",
      "---\n",
      "p6:\n",
      "8.0 * x^4 * y^3 * z^2 - 7.0 * x^3 * y * z^3 - 5.0 * x * y * z^4 - 3.0 * x * y^2 * z^3 + 6.0 * x^2 * y^2 * z + 4.0 * x^3 * z^2 + 2.0 * x * z^4 - y^3 * z^2 + 9.0 * z^5 + 2.25\n",
      "Tri-variate? True\n"
     ]
    }
   ],
   "source": [
    "tripolys = [p4, p5, p6]\n",
    "for i, poly in enumerate(tripolys, start=4):\n",
    "    print(\"---\")\n",
    "    print(f\"p{i}:\\n{poly}\")\n",
    "    print(f\"Tri-variate? {poly.is_trivariate}\")"
   ],
   "metadata": {
    "collapsed": false,
    "ExecuteTime": {
     "end_time": "2023-07-01T21:28:13.678830Z",
     "start_time": "2023-07-01T21:28:13.666282Z"
    }
   }
  },
  {
   "cell_type": "code",
   "execution_count": 55,
   "outputs": [],
   "source": [
    "symp4 = p4.save_as_sympy(rational=True)\n",
    "symp5 = p5.save_as_sympy(rational=True)\n",
    "symp6 = p6.save_as_sympy(rational=True)"
   ],
   "metadata": {
    "collapsed": false,
    "ExecuteTime": {
     "end_time": "2023-07-01T21:28:16.179232Z",
     "start_time": "2023-07-01T21:28:16.173199Z"
    }
   }
  },
  {
   "cell_type": "code",
   "execution_count": 56,
   "outputs": [
    {
     "data": {
      "text/plain": "Poly(x**2 + 2*x*y + 3*x*z + y**2 + 4*y*z + z**2, x, y, z, domain='ZZ')",
      "text/latex": "$\\displaystyle \\operatorname{Poly}{\\left( x^{2} + 2 xy + 3 xz + y^{2} + 4 yz + z^{2}, x, y, z, domain=\\mathbb{Z} \\right)}$"
     },
     "metadata": {},
     "output_type": "display_data"
    },
    {
     "data": {
      "text/plain": "Poly(5/2*x**3*y**2*z**2 + 7/2*x**2*y*z - 6*x**2*z**2 - 4*x*y**3 + 5*x*y*z**3 + 7*y**2*z**2, x, y, z, domain='QQ')",
      "text/latex": "$\\displaystyle \\operatorname{Poly}{\\left( \\frac{5}{2} x^{3}y^{2}z^{2} + \\frac{7}{2} x^{2}yz - 6 x^{2}z^{2} - 4 xy^{3} + 5 xyz^{3} + 7 y^{2}z^{2}, x, y, z, domain=\\mathbb{Q} \\right)}$"
     },
     "metadata": {},
     "output_type": "display_data"
    },
    {
     "data": {
      "text/plain": "Poly(8*x**4*y**3*z**2 - 7*x**3*y*z**3 + 4*x**3*z**2 + 6*x**2*y**2*z - 3*x*y**2*z**3 - 5*x*y*z**4 + 2*x*z**4 - y**3*z**2 + 9*z**5 + 9/4, x, y, z, domain='QQ')",
      "text/latex": "$\\displaystyle \\operatorname{Poly}{\\left( 8 x^{4}y^{3}z^{2} - 7 x^{3}yz^{3} + 4 x^{3}z^{2} + 6 x^{2}y^{2}z - 3 xy^{2}z^{3} - 5 xyz^{4} + 2 xz^{4} - y^{3}z^{2} + 9 z^{5} + \\frac{9}{4}, x, y, z, domain=\\mathbb{Q} \\right)}$"
     },
     "metadata": {},
     "output_type": "display_data"
    }
   ],
   "source": [
    "display(symp4)\n",
    "display(symp5)\n",
    "display(symp6)"
   ],
   "metadata": {
    "collapsed": false,
    "ExecuteTime": {
     "end_time": "2023-07-01T21:28:17.740682Z",
     "start_time": "2023-07-01T21:28:17.729264Z"
    }
   }
  },
  {
   "cell_type": "markdown",
   "source": [
    "----\n",
    "&nbsp;\n",
    "Incorrect instantiation"
   ],
   "metadata": {
    "collapsed": false
   }
  },
  {
   "cell_type": "code",
   "execution_count": 14,
   "outputs": [],
   "source": [
    "p_error_tri = TriVarPoly(decompose_polynomial(\"10.5*x**3 - 8*x**2*y + 6*x*y**2 - 4*y**3 + 2*x + 3.25\"))"
   ],
   "metadata": {
    "collapsed": false,
    "ExecuteTime": {
     "end_time": "2023-07-01T21:27:58.145934Z",
     "start_time": "2023-07-01T21:27:57.942478Z"
    }
   }
  },
  {
   "cell_type": "markdown",
   "source": [
    "----\n",
    "&nbsp;\n",
    "### Arithmetic operations on Bi and Tri instances should form Tri-variate Poly"
   ],
   "metadata": {
    "collapsed": false
   }
  },
  {
   "cell_type": "code",
   "execution_count": 15,
   "outputs": [
    {
     "name": "stdout",
     "output_type": "stream",
     "text": [
      "---\n",
      "2.5 * x^3 * y^2 * z^2 + 5.0 * x * y * z^3 + 3.5 * x^2 * y * z - 4.0 * x * y^3 - 6.0 * x^2 * z^2 + 7.0 * y^2 * z^2 + 5.0 * x^2 - 2.5 * x * y + 7.0 * y^2 - 4.5\n",
      "Number of variables? 3\n",
      "---\n",
      "-2.5 * x^3 * y^2 * z^2 - 5.0 * x * y * z^3 - 3.5 * x^2 * y * z + 4.0 * x * y^3 + 6.0 * x^2 * z^2 - 7.0 * y^2 * z^2 + 5.0 * x^2 - 2.5 * x * y + 7.0 * y^2 - 4.5\n",
      "Number of variables? 3\n",
      "---\n",
      "12.5 * x^5 * y^2 * z^2 - 6.25 * x^4 * y^3 * z^2 + 17.5 * x^3 * y^4 * z^2 + 25.0 * x^3 * y * z^3 - 12.5 * x^2 * y^2 * z^3 + 35.0 * x * y^3 * z^3 - 11.25 * x^3 * y^2 * z^2 + 17.5 * x^4 * y * z - 20.0 * x^3 * y^3 - 30.0 * x^4 * z^2 - 7.0 * x^2 * y^2 * z^2 - 8.75 * x^3 * y^2 * z + 10.0 * x^2 * y^4 + 15.0 * x^3 * y * z^2 - 17.5 * x * y^3 * z^2 + 24.5 * x^2 * y^3 * z - 28.0 * x * y^5 + 49.0 * y^4 * z^2 - 22.5 * x * y * z^3 - 15.75 * x^2 * y * z + 18.0 * x * y^3 + 27.0 * x^2 * z^2 - 31.5 * y^2 * z^2\n",
      "Number of variables? 3\n",
      "---\n",
      "15.0 * x^3 * y^2 * z^2 + 30.0 * x * y * z^3 + 21.0 * x^2 * y * z - 24.0 * x * y^3 - 36.0 * x^2 * z^2 + 42.0 * y^2 * z^2\n",
      "Number of variables? 3\n"
     ]
    }
   ],
   "source": [
    "add = p2 + p5\n",
    "sub = p2 - p5\n",
    "mul = p2 * p5\n",
    "scalar = 6 * p5\n",
    "\n",
    "ops = [add, sub, mul, scalar]\n",
    "\n",
    "for op in ops:\n",
    "    print(\"---\")\n",
    "    print(f\"{op}\\nNumber of variables? {op.num_variables}\")"
   ],
   "metadata": {
    "collapsed": false,
    "ExecuteTime": {
     "end_time": "2023-07-01T21:27:58.146571Z",
     "start_time": "2023-07-01T21:27:57.946179Z"
    }
   }
  },
  {
   "cell_type": "markdown",
   "source": [
    "----\n",
    "&nbsp;\n",
    "# Partial Differentiation"
   ],
   "metadata": {
    "collapsed": false
   }
  },
  {
   "cell_type": "markdown",
   "source": [
    "----\n",
    "&nbsp;\n",
    "### Bi-variate"
   ],
   "metadata": {
    "collapsed": false
   }
  },
  {
   "cell_type": "code",
   "execution_count": 16,
   "outputs": [],
   "source": [
    "p1 = BiVarPoly(poly1)\n",
    "p2 = BiVarPoly(poly2)\n",
    "p3 = BiVarPoly(poly3)"
   ],
   "metadata": {
    "collapsed": false,
    "ExecuteTime": {
     "end_time": "2023-07-01T21:27:58.149761Z",
     "start_time": "2023-07-01T21:27:57.955285Z"
    }
   }
  },
  {
   "cell_type": "code",
   "execution_count": 59,
   "outputs": [
    {
     "name": "stdout",
     "output_type": "stream",
     "text": [
      "p1: 3.0 * y^2 + 2.0 * x\n",
      "\n",
      "p1x: 2.0\n",
      "{(0, 0, 0): 2.0}\n",
      "\n",
      "p1y: 6.0 * y\n",
      "{(0, 1, 0): 6.0}\n"
     ]
    }
   ],
   "source": [
    "print(p1)\n",
    "print(p2)\n",
    "print(p3)"
   ],
   "metadata": {
    "collapsed": false,
    "ExecuteTime": {
     "end_time": "2023-07-01T22:18:26.361693Z",
     "start_time": "2023-07-01T22:18:26.332497Z"
    }
   }
  },
  {
   "cell_type": "code",
   "execution_count": 18,
   "outputs": [
    {
     "name": "stdout",
     "output_type": "stream",
     "text": [
      "p1: 3.0 * y^2 + 2.0 * x\n",
      "\n",
      "p1x: 2.0\n",
      "{(0, 0, 0): 2.0}\n",
      "\n",
      "p1y: 6.0 * y\n",
      "{(0, 1, 0): 6.0}\n"
     ]
    }
   ],
   "source": [
    "p1x = p1.partial_derivative('x')\n",
    "p1y = p1.partial_derivative('y')\n",
    "\n",
    "print(f\"p1: {p1}\\n\")\n",
    "print(f\"p1x: {p1x}\\n{p1x.coeff}\\n\")\n",
    "print(f\"p1y: {p1y}\\n{p1y.coeff}\")"
   ],
   "metadata": {
    "collapsed": false,
    "ExecuteTime": {
     "end_time": "2023-07-01T21:27:58.150049Z",
     "start_time": "2023-07-01T21:27:57.961794Z"
    }
   }
  },
  {
   "cell_type": "code",
   "execution_count": 19,
   "outputs": [
    {
     "name": "stdout",
     "output_type": "stream",
     "text": [
      "p2: 5.0 * x^2 - 2.5 * x * y + 7.0 * y^2 - 4.5\n",
      "\n",
      "p2x: 10.0 * x - 2.5 * y\n",
      "{(1, 0, 0): 10.0, (0, 1, 0): -2.5}\n",
      "\n",
      "p2y: -2.5 * x + 14.0 * y\n",
      "{(1, 0, 0): -2.5, (0, 1, 0): 14.0}\n"
     ]
    }
   ],
   "source": [
    "p2x = p2.partial_derivative('x')\n",
    "p2y = p2.partial_derivative('y')\n",
    "\n",
    "print(f\"p2: {p2}\\n\")\n",
    "print(f\"p2x: {p2x}\\n{p2x.coeff}\\n\")\n",
    "print(f\"p2y: {p2y}\\n{p2y.coeff}\")"
   ],
   "metadata": {
    "collapsed": false,
    "ExecuteTime": {
     "end_time": "2023-07-01T21:27:58.150097Z",
     "start_time": "2023-07-01T21:27:57.965237Z"
    }
   }
  },
  {
   "cell_type": "code",
   "execution_count": 20,
   "outputs": [
    {
     "name": "stdout",
     "output_type": "stream",
     "text": [
      "p3: 10.5 * x^3 - 8.0 * x^2 * y + 6.0 * x * y^2 - 4.0 * y^3 + 2.0 * x + 3.25\n",
      "\n",
      "p3x: 31.5 * x^2 - 16.0 * x * y + 6.0 * y^2 + 2.0\n",
      "{(2, 0, 0): 31.5, (1, 1, 0): -16.0, (0, 2, 0): 6.0, (0, 0, 0): 2.0}\n",
      "\n",
      "p3y: -8.0 * x^2 + 12.0 * x * y - 12.0 * y^2\n",
      "{(2, 0, 0): -8.0, (1, 1, 0): 12.0, (0, 2, 0): -12.0}\n"
     ]
    }
   ],
   "source": [
    "p3x = p3.partial_derivative('x')\n",
    "p3y = p3.partial_derivative('y')\n",
    "\n",
    "print(f\"p3: {p3}\\n\")\n",
    "print(f\"p3x: {p3x}\\n{p3x.coeff}\\n\")\n",
    "print(f\"p3y: {p3y}\\n{p3y.coeff}\")"
   ],
   "metadata": {
    "collapsed": false,
    "ExecuteTime": {
     "end_time": "2023-07-01T21:27:58.150144Z",
     "start_time": "2023-07-01T21:27:57.968751Z"
    }
   }
  },
  {
   "cell_type": "markdown",
   "source": [
    "----\n",
    "&nbsp;\n",
    "#### Second partial derivatives,\n",
    "##### $\\frac{\\partial^2 f}{\\partial x^2} = f_{xx}$  and   $\\frac{\\partial^2 f}{\\partial y^2} = f_{yy}$\n",
    "&nbsp;\n",
    "#### Mixed partial derivatives,\n",
    "##### $\\frac{\\partial^2 f}{\\partial x \\partial y} = f_{xy}$  and   $\\frac{\\partial^2 f}{\\partial y \\partial x} = f_{xy}$\n",
    "&nbsp;\n",
    "##### Where, $f_{xy} = f_{yx}$ by the [Mixed Partial Derivative](https://en.wikipedia.org/wiki/Symmetry_of_second_derivatives) Theorem.\n"
   ],
   "metadata": {
    "collapsed": false
   }
  },
  {
   "cell_type": "code",
   "execution_count": 21,
   "outputs": [
    {
     "name": "stdout",
     "output_type": "stream",
     "text": [
      "10.5 * x^3 - 8.0 * x^2 * y + 6.0 * x * y^2 - 4.0 * y^3 + 2.0 * x + 3.25\n"
     ]
    }
   ],
   "source": [
    "print(p3)"
   ],
   "metadata": {
    "collapsed": false,
    "ExecuteTime": {
     "end_time": "2023-07-01T21:27:58.150196Z",
     "start_time": "2023-07-01T21:27:57.973533Z"
    }
   }
  },
  {
   "cell_type": "code",
   "execution_count": 22,
   "outputs": [
    {
     "data": {
      "text/plain": "21*x**3/2 - 8*x**2*y + 6*x*y**2 + 2*x - 4*y**3 + 13/4",
      "text/latex": "$\\displaystyle \\frac{21 x^{3}}{2} - 8 x^{2} y + 6 x y^{2} + 2 x - 4 y^{3} + \\frac{13}{4}$"
     },
     "metadata": {},
     "output_type": "display_data"
    }
   ],
   "source": [
    "x, y = sympy.symbols('x y')\n",
    "symp3 = p3.save_as_sympy(rational=True)\n",
    "display(symp3.args[0])"
   ],
   "metadata": {
    "collapsed": false,
    "ExecuteTime": {
     "end_time": "2023-07-01T21:27:58.244370Z",
     "start_time": "2023-07-01T21:27:57.979362Z"
    }
   }
  },
  {
   "cell_type": "code",
   "execution_count": 23,
   "outputs": [],
   "source": [
    "# Declare second partial derivatives\n",
    "p3xx = p3.partial_derivative('x', 'x')\n",
    "p3xy = p3.partial_derivative('x', 'y')\n",
    "p3yx = p3.partial_derivative('y', 'x')\n",
    "p3yy = p3.partial_derivative('y', 'y')"
   ],
   "metadata": {
    "collapsed": false,
    "ExecuteTime": {
     "end_time": "2023-07-01T21:27:58.244473Z",
     "start_time": "2023-07-01T21:27:58.100356Z"
    }
   }
  },
  {
   "cell_type": "code",
   "execution_count": 24,
   "outputs": [
    {
     "name": "stdout",
     "output_type": "stream",
     "text": [
      "p3xx: 63.0 * x - 16.0 * y\n",
      "{(1, 0, 0): 63.0, (0, 1, 0): -16.0}\n",
      "\n"
     ]
    }
   ],
   "source": [
    "print(f\"p3xx: {p3xx}\\n{p3xx.coeff}\\n\")"
   ],
   "metadata": {
    "collapsed": false,
    "ExecuteTime": {
     "end_time": "2023-07-01T21:27:58.244538Z",
     "start_time": "2023-07-01T21:27:58.105231Z"
    }
   }
  },
  {
   "cell_type": "code",
   "execution_count": 25,
   "outputs": [
    {
     "data": {
      "text/plain": "63*x - 16*y",
      "text/latex": "$\\displaystyle 63 x - 16 y$"
     },
     "metadata": {},
     "output_type": "display_data"
    }
   ],
   "source": [
    "symp3xx = symp3.diff(x, x)\n",
    "display(symp3xx.args[0])"
   ],
   "metadata": {
    "collapsed": false,
    "ExecuteTime": {
     "end_time": "2023-07-01T21:27:58.244601Z",
     "start_time": "2023-07-01T21:27:58.111410Z"
    }
   }
  },
  {
   "cell_type": "code",
   "execution_count": 26,
   "outputs": [
    {
     "name": "stdout",
     "output_type": "stream",
     "text": [
      "p3xy: -16.0 * x + 12.0 * y\n",
      "{(1, 0, 0): -16.0, (0, 1, 0): 12.0}\n",
      "p3yx: -16.0 * x + 12.0 * y\n",
      "{(1, 0, 0): -16.0, (0, 1, 0): 12.0}\n"
     ]
    }
   ],
   "source": [
    "# Mixed partial derivatives\n",
    "print(f\"p3xy: {p3xy}\\n{p3xy.coeff}\")\n",
    "print(f\"p3yx: {p3yx}\\n{p3yx.coeff}\")"
   ],
   "metadata": {
    "collapsed": false,
    "ExecuteTime": {
     "end_time": "2023-07-01T21:27:58.244650Z",
     "start_time": "2023-07-01T21:27:58.115258Z"
    }
   }
  },
  {
   "cell_type": "code",
   "execution_count": 27,
   "outputs": [
    {
     "data": {
      "text/plain": "-16*x + 12*y",
      "text/latex": "$\\displaystyle - 16 x + 12 y$"
     },
     "metadata": {},
     "output_type": "display_data"
    },
    {
     "data": {
      "text/plain": "-16*x + 12*y",
      "text/latex": "$\\displaystyle - 16 x + 12 y$"
     },
     "metadata": {},
     "output_type": "display_data"
    }
   ],
   "source": [
    "symp3xy = symp3.diff(x, y)\n",
    "symp3yx = symp3.diff(y, x)\n",
    "display(symp3xy.args[0])\n",
    "display(symp3yx.args[0])"
   ],
   "metadata": {
    "collapsed": false,
    "ExecuteTime": {
     "end_time": "2023-07-01T21:27:58.244741Z",
     "start_time": "2023-07-01T21:27:58.119988Z"
    }
   }
  },
  {
   "cell_type": "code",
   "execution_count": 28,
   "outputs": [
    {
     "name": "stdout",
     "output_type": "stream",
     "text": [
      "p3yy: 12.0 * x - 24.0 * y\n",
      "{(1, 0, 0): 12.0, (0, 1, 0): -24.0}\n",
      "\n"
     ]
    }
   ],
   "source": [
    "print(f\"p3yy: {p3yy}\\n{p3yy.coeff}\\n\")"
   ],
   "metadata": {
    "collapsed": false,
    "ExecuteTime": {
     "end_time": "2023-07-01T21:27:58.244788Z",
     "start_time": "2023-07-01T21:27:58.124483Z"
    }
   }
  },
  {
   "cell_type": "code",
   "execution_count": 29,
   "outputs": [
    {
     "data": {
      "text/plain": "12*x - 24*y",
      "text/latex": "$\\displaystyle 12 x - 24 y$"
     },
     "metadata": {},
     "output_type": "display_data"
    }
   ],
   "source": [
    "symp3yy = symp3.diff(y, y)\n",
    "display(symp3yy.args[0])"
   ],
   "metadata": {
    "collapsed": false,
    "ExecuteTime": {
     "end_time": "2023-07-01T21:27:58.244839Z",
     "start_time": "2023-07-01T21:27:58.133463Z"
    }
   }
  },
  {
   "cell_type": "markdown",
   "source": [
    "----"
   ],
   "metadata": {
    "collapsed": false
   }
  },
  {
   "cell_type": "markdown",
   "source": [
    "----\n",
    "&nbsp;\n",
    "# Tri-variate"
   ],
   "metadata": {
    "collapsed": false
   }
  },
  {
   "cell_type": "code",
   "execution_count": 30,
   "outputs": [],
   "source": [
    "p4 = TriVarPoly(poly4)\n",
    "p5 = TriVarPoly(poly5)\n",
    "p6 = TriVarPoly(poly6)"
   ],
   "metadata": {
    "collapsed": false,
    "ExecuteTime": {
     "end_time": "2023-07-01T21:27:58.244870Z",
     "start_time": "2023-07-01T21:27:58.136820Z"
    }
   }
  },
  {
   "cell_type": "code",
   "execution_count": 31,
   "outputs": [],
   "source": [
    "x, y, z = sympy.symbols('x y z')\n",
    "\n",
    "symp4 = p4.save_as_sympy(rational=True)\n",
    "symp5 = p5.save_as_sympy(rational=True)\n",
    "symp6 = p6.save_as_sympy(rational=True)"
   ],
   "metadata": {
    "collapsed": false,
    "ExecuteTime": {
     "end_time": "2023-07-01T21:27:58.244896Z",
     "start_time": "2023-07-01T21:27:58.142398Z"
    }
   }
  },
  {
   "cell_type": "markdown",
   "source": [
    "----\n",
    "&nbsp;\n",
    "### First partials"
   ],
   "metadata": {
    "collapsed": false
   }
  },
  {
   "cell_type": "code",
   "execution_count": 32,
   "outputs": [
    {
     "name": "stdout",
     "output_type": "stream",
     "text": [
      "1.0 * x^2 + 2.0 * x * y + 3.0 * x * z + 1.0 * y^2 + 4.0 * y * z + 1.0 * z^2\n"
     ]
    }
   ],
   "source": [
    "print(p4)"
   ],
   "metadata": {
    "collapsed": false,
    "ExecuteTime": {
     "end_time": "2023-07-01T21:27:58.245048Z",
     "start_time": "2023-07-01T21:27:58.145702Z"
    }
   }
  },
  {
   "cell_type": "code",
   "execution_count": 33,
   "outputs": [
    {
     "name": "stdout",
     "output_type": "stream",
     "text": [
      "Partial derivative with respect to x:\n",
      "2.0 * x + 2.0 * y + 3.0 * z\n"
     ]
    },
    {
     "data": {
      "text/plain": "Poly(2*x + 2*y + 3*z, x, y, z, domain='ZZ')",
      "text/latex": "$\\displaystyle \\operatorname{Poly}{\\left( 2 x + 2 y + 3 z, x, y, z, domain=\\mathbb{Z} \\right)}$"
     },
     "metadata": {},
     "output_type": "display_data"
    }
   ],
   "source": [
    "p4x = p4.partial_derivative('x')\n",
    "symp4x = symp4.diff(x)\n",
    "display(symp4x)"
   ],
   "metadata": {
    "collapsed": false,
    "ExecuteTime": {
     "end_time": "2023-07-01T21:27:58.245427Z",
     "start_time": "2023-07-01T21:27:58.151368Z"
    }
   }
  },
  {
   "cell_type": "code",
   "execution_count": 34,
   "outputs": [
    {
     "name": "stdout",
     "output_type": "stream",
     "text": [
      "Partial derivative with respect to y:\n",
      "2.0 * x + 2.0 * y + 4.0 * z\n"
     ]
    },
    {
     "data": {
      "text/plain": "Poly(2*x + 2*y + 4*z, x, y, z, domain='ZZ')",
      "text/latex": "$\\displaystyle \\operatorname{Poly}{\\left( 2 x + 2 y + 4 z, x, y, z, domain=\\mathbb{Z} \\right)}$"
     },
     "metadata": {},
     "output_type": "display_data"
    }
   ],
   "source": [
    "p4y = p4.partial_derivative('y')\n",
    "symp4y = symp4.diff(y)\n",
    "display(symp4y)"
   ],
   "metadata": {
    "collapsed": false,
    "ExecuteTime": {
     "end_time": "2023-07-01T21:27:58.245522Z",
     "start_time": "2023-07-01T21:27:58.156542Z"
    }
   }
  },
  {
   "cell_type": "code",
   "execution_count": 35,
   "outputs": [
    {
     "name": "stdout",
     "output_type": "stream",
     "text": [
      "Partial derivative with respect to z:\n",
      "3.0 * x + 4.0 * y + 2.0 * z\n"
     ]
    },
    {
     "data": {
      "text/plain": "Poly(2*x + 2*y + 4*z, x, y, z, domain='ZZ')",
      "text/latex": "$\\displaystyle \\operatorname{Poly}{\\left( 2 x + 2 y + 4 z, x, y, z, domain=\\mathbb{Z} \\right)}$"
     },
     "metadata": {},
     "output_type": "display_data"
    }
   ],
   "source": [
    "p4z = p4.partial_derivative('z')\n",
    "symp4z = symp4.diff(z)\n",
    "display(symp4y)"
   ],
   "metadata": {
    "collapsed": false,
    "ExecuteTime": {
     "end_time": "2023-07-01T21:27:58.245644Z",
     "start_time": "2023-07-01T21:27:58.161139Z"
    }
   }
  },
  {
   "cell_type": "markdown",
   "source": [
    "----"
   ],
   "metadata": {
    "collapsed": false
   }
  },
  {
   "cell_type": "code",
   "execution_count": 36,
   "outputs": [
    {
     "name": "stdout",
     "output_type": "stream",
     "text": [
      "2.5 * x^3 * y^2 * z^2 + 5.0 * x * y * z^3 + 3.5 * x^2 * y * z - 4.0 * x * y^3 - 6.0 * x^2 * z^2 + 7.0 * y^2 * z^2\n"
     ]
    }
   ],
   "source": [
    "print(p5)"
   ],
   "metadata": {
    "collapsed": false,
    "ExecuteTime": {
     "end_time": "2023-07-01T21:27:58.245690Z",
     "start_time": "2023-07-01T21:27:58.165054Z"
    }
   }
  },
  {
   "cell_type": "code",
   "execution_count": 37,
   "outputs": [
    {
     "name": "stdout",
     "output_type": "stream",
     "text": [
      "Partial derivative with respect to x:\n",
      "7.5 * x^2 * y^2 * z^2 + 5.0 * y * z^3 + 7.0 * x * y * z - 4.0 * y^3 - 12.0 * x * z^2\n"
     ]
    },
    {
     "data": {
      "text/plain": "Poly(15/2*x**2*y**2*z**2 + 7*x*y*z - 12*x*z**2 - 4*y**3 + 5*y*z**3, x, y, z, domain='QQ')",
      "text/latex": "$\\displaystyle \\operatorname{Poly}{\\left( \\frac{15}{2} x^{2}y^{2}z^{2} + 7 xyz - 12 xz^{2} - 4 y^{3} + 5 yz^{3}, x, y, z, domain=\\mathbb{Q} \\right)}$"
     },
     "metadata": {},
     "output_type": "display_data"
    }
   ],
   "source": [
    "p5x = p5.partial_derivative('x')\n",
    "symp5x = symp5.diff(x)\n",
    "display(symp5x)"
   ],
   "metadata": {
    "collapsed": false,
    "ExecuteTime": {
     "end_time": "2023-07-01T21:27:58.245758Z",
     "start_time": "2023-07-01T21:27:58.169171Z"
    }
   }
  },
  {
   "cell_type": "code",
   "execution_count": 38,
   "outputs": [
    {
     "name": "stdout",
     "output_type": "stream",
     "text": [
      "Partial derivative with respect to y:\n",
      "5.0 * x^3 * y * z^2 + 5.0 * x * z^3 + 3.5 * x^2 * z - 12.0 * x * y^2 + 14.0 * y * z^2\n"
     ]
    },
    {
     "data": {
      "text/plain": "Poly(5*x**3*y*z**2 + 7/2*x**2*z - 12*x*y**2 + 5*x*z**3 + 14*y*z**2, x, y, z, domain='QQ')",
      "text/latex": "$\\displaystyle \\operatorname{Poly}{\\left( 5 x^{3}yz^{2} + \\frac{7}{2} x^{2}z - 12 xy^{2} + 5 xz^{3} + 14 yz^{2}, x, y, z, domain=\\mathbb{Q} \\right)}$"
     },
     "metadata": {},
     "output_type": "display_data"
    }
   ],
   "source": [
    "p5y = p5.partial_derivative('y')\n",
    "symp5y = symp5.diff(y)\n",
    "display(symp5y)"
   ],
   "metadata": {
    "collapsed": false,
    "ExecuteTime": {
     "end_time": "2023-07-01T21:27:58.245825Z",
     "start_time": "2023-07-01T21:27:58.174101Z"
    }
   }
  },
  {
   "cell_type": "code",
   "execution_count": 39,
   "outputs": [
    {
     "name": "stdout",
     "output_type": "stream",
     "text": [
      "Partial derivative with respect to z:\n",
      "5.0 * x^3 * y^2 * z + 15.0 * x * y * z^2 + 3.5 * x^2 * y - 12.0 * x^2 * z + 14.0 * y^2 * z\n"
     ]
    },
    {
     "data": {
      "text/plain": "Poly(5*x**3*y*z**2 + 7/2*x**2*z - 12*x*y**2 + 5*x*z**3 + 14*y*z**2, x, y, z, domain='QQ')",
      "text/latex": "$\\displaystyle \\operatorname{Poly}{\\left( 5 x^{3}yz^{2} + \\frac{7}{2} x^{2}z - 12 xy^{2} + 5 xz^{3} + 14 yz^{2}, x, y, z, domain=\\mathbb{Q} \\right)}$"
     },
     "metadata": {},
     "output_type": "display_data"
    }
   ],
   "source": [
    "p5z = p5.partial_derivative('z')\n",
    "symp5z = symp5.diff(z)\n",
    "display(symp5y)"
   ],
   "metadata": {
    "collapsed": false,
    "ExecuteTime": {
     "end_time": "2023-07-01T21:27:58.245936Z",
     "start_time": "2023-07-01T21:27:58.181327Z"
    }
   }
  },
  {
   "cell_type": "markdown",
   "source": [
    "----"
   ],
   "metadata": {
    "collapsed": false
   }
  },
  {
   "cell_type": "code",
   "execution_count": 40,
   "outputs": [
    {
     "name": "stdout",
     "output_type": "stream",
     "text": [
      "8.0 * x^4 * y^3 * z^2 - 7.0 * x^3 * y * z^3 - 5.0 * x * y * z^4 - 3.0 * x * y^2 * z^3 + 6.0 * x^2 * y^2 * z + 4.0 * x^3 * z^2 + 2.0 * x * z^4 - 1.0 * y^3 * z^2 + 9.0 * z^5 + 2.25\n"
     ]
    }
   ],
   "source": [
    "print(p6)"
   ],
   "metadata": {
    "collapsed": false,
    "ExecuteTime": {
     "end_time": "2023-07-01T21:27:58.245981Z",
     "start_time": "2023-07-01T21:27:58.185461Z"
    }
   }
  },
  {
   "cell_type": "code",
   "execution_count": 41,
   "outputs": [
    {
     "name": "stdout",
     "output_type": "stream",
     "text": [
      "Partial derivative with respect to x:\n",
      "32.0 * x^3 * y^3 * z^2 - 21.0 * x^2 * y * z^3 - 5.0 * y * z^4 - 3.0 * y^2 * z^3 + 12.0 * x * y^2 * z + 12.0 * x^2 * z^2 + 2.0 * z^4\n"
     ]
    },
    {
     "data": {
      "text/plain": "Poly(32*x**3*y**3*z**2 - 21*x**2*y*z**3 + 12*x**2*z**2 + 12*x*y**2*z - 3*y**2*z**3 - 5*y*z**4 + 2*z**4, x, y, z, domain='QQ')",
      "text/latex": "$\\displaystyle \\operatorname{Poly}{\\left( 32 x^{3}y^{3}z^{2} - 21 x^{2}yz^{3} + 12 x^{2}z^{2} + 12 xy^{2}z - 3 y^{2}z^{3} - 5 yz^{4} + 2 z^{4}, x, y, z, domain=\\mathbb{Q} \\right)}$"
     },
     "metadata": {},
     "output_type": "display_data"
    }
   ],
   "source": [
    "p6x = p6.partial_derivative('x')\n",
    "symp6x = symp6.diff(x)\n",
    "display(symp6x)"
   ],
   "metadata": {
    "collapsed": false,
    "ExecuteTime": {
     "end_time": "2023-07-01T21:27:58.246048Z",
     "start_time": "2023-07-01T21:27:58.190290Z"
    }
   }
  },
  {
   "cell_type": "code",
   "execution_count": 42,
   "outputs": [
    {
     "name": "stdout",
     "output_type": "stream",
     "text": [
      "Partial derivative with respect to y:\n",
      "24.0 * x^4 * y^2 * z^2 - 7.0 * x^3 * z^3 - 5.0 * x * z^4 - 6.0 * x * y * z^3 + 12.0 * x^2 * y * z - 3.0 * y^2 * z^2\n"
     ]
    },
    {
     "data": {
      "text/plain": "Poly(24*x**4*y**2*z**2 - 7*x**3*z**3 + 12*x**2*y*z - 6*x*y*z**3 - 5*x*z**4 - 3*y**2*z**2, x, y, z, domain='QQ')",
      "text/latex": "$\\displaystyle \\operatorname{Poly}{\\left( 24 x^{4}y^{2}z^{2} - 7 x^{3}z^{3} + 12 x^{2}yz - 6 xyz^{3} - 5 xz^{4} - 3 y^{2}z^{2}, x, y, z, domain=\\mathbb{Q} \\right)}$"
     },
     "metadata": {},
     "output_type": "display_data"
    }
   ],
   "source": [
    "p6y = p6.partial_derivative('y')\n",
    "symp6y = symp6.diff(y)\n",
    "display(symp6y)"
   ],
   "metadata": {
    "collapsed": false,
    "ExecuteTime": {
     "end_time": "2023-07-01T21:27:58.246128Z",
     "start_time": "2023-07-01T21:27:58.196765Z"
    }
   }
  },
  {
   "cell_type": "code",
   "execution_count": 43,
   "outputs": [
    {
     "name": "stdout",
     "output_type": "stream",
     "text": [
      "Partial derivative with respect to z:\n",
      "16.0 * x^4 * y^3 * z - 21.0 * x^3 * y * z^2 - 20.0 * x * y * z^3 - 9.0 * x * y^2 * z^2 + 6.0 * x^2 * y^2 + 8.0 * x^3 * z + 8.0 * x * z^3 - 2.0 * y^3 * z + 45.0 * z^4\n"
     ]
    },
    {
     "data": {
      "text/plain": "Poly(24*x**4*y**2*z**2 - 7*x**3*z**3 + 12*x**2*y*z - 6*x*y*z**3 - 5*x*z**4 - 3*y**2*z**2, x, y, z, domain='QQ')",
      "text/latex": "$\\displaystyle \\operatorname{Poly}{\\left( 24 x^{4}y^{2}z^{2} - 7 x^{3}z^{3} + 12 x^{2}yz - 6 xyz^{3} - 5 xz^{4} - 3 y^{2}z^{2}, x, y, z, domain=\\mathbb{Q} \\right)}$"
     },
     "metadata": {},
     "output_type": "display_data"
    }
   ],
   "source": [
    "p6z = p6.partial_derivative('z')\n",
    "symp6z = symp6.diff(z)\n",
    "display(symp6y)"
   ],
   "metadata": {
    "collapsed": false,
    "ExecuteTime": {
     "end_time": "2023-07-01T21:27:58.246256Z",
     "start_time": "2023-07-01T21:27:58.201878Z"
    }
   }
  },
  {
   "cell_type": "markdown",
   "source": [
    "----\n",
    "&nbsp;\n",
    "### Second partial derivatives"
   ],
   "metadata": {
    "collapsed": false
   }
  },
  {
   "cell_type": "code",
   "execution_count": 44,
   "outputs": [
    {
     "name": "stdout",
     "output_type": "stream",
     "text": [
      "Partial derivative with respect to x:\n",
      "2.0 * x + 2.0 * y + 3.0 * z\n",
      "Partial derivative with respect to x:\n",
      "2.0\n"
     ]
    }
   ],
   "source": [
    "# p4 is a trivial instance\n",
    "p4xx = p4.partial_derivative('x', 'x')"
   ],
   "metadata": {
    "collapsed": false,
    "ExecuteTime": {
     "end_time": "2023-07-01T21:27:58.246322Z",
     "start_time": "2023-07-01T21:27:58.207828Z"
    }
   }
  },
  {
   "cell_type": "code",
   "execution_count": 45,
   "outputs": [
    {
     "name": "stdout",
     "output_type": "stream",
     "text": [
      "Partial derivative with respect to y:\n",
      "2.0 * x + 2.0 * y + 4.0 * z\n",
      "Partial derivative with respect to y:\n",
      "2.0\n"
     ]
    }
   ],
   "source": [
    "p4yy = p4.partial_derivative('y', 'y')"
   ],
   "metadata": {
    "collapsed": false,
    "ExecuteTime": {
     "end_time": "2023-07-01T21:27:58.246544Z",
     "start_time": "2023-07-01T21:27:58.211649Z"
    }
   }
  },
  {
   "cell_type": "code",
   "execution_count": 46,
   "outputs": [
    {
     "name": "stdout",
     "output_type": "stream",
     "text": [
      "Partial derivative with respect to z:\n",
      "3.0 * x + 4.0 * y + 2.0 * z\n",
      "Partial derivative with respect to z:\n",
      "2.0\n"
     ]
    }
   ],
   "source": [
    "p4zz = p4.partial_derivative('z', 'z')"
   ],
   "metadata": {
    "collapsed": false,
    "ExecuteTime": {
     "end_time": "2023-07-01T21:27:58.246686Z",
     "start_time": "2023-07-01T21:27:58.215737Z"
    }
   }
  },
  {
   "cell_type": "code",
   "execution_count": 47,
   "outputs": [
    {
     "name": "stdout",
     "output_type": "stream",
     "text": [
      "2.5 * x^3 * y^2 * z^2 + 5.0 * x * y * z^3 + 3.5 * x^2 * y * z - 4.0 * x * y^3 - 6.0 * x^2 * z^2 + 7.0 * y^2 * z^2\n"
     ]
    }
   ],
   "source": [
    "print(p5)"
   ],
   "metadata": {
    "collapsed": false,
    "ExecuteTime": {
     "end_time": "2023-07-01T21:27:58.246732Z",
     "start_time": "2023-07-01T21:27:58.219353Z"
    }
   }
  },
  {
   "cell_type": "code",
   "execution_count": 48,
   "outputs": [
    {
     "name": "stdout",
     "output_type": "stream",
     "text": [
      "Partial derivative with respect to x:\n",
      "7.5 * x^2 * y^2 * z^2 + 5.0 * y * z^3 + 7.0 * x * y * z - 4.0 * y^3 - 12.0 * x * z^2\n",
      "Partial derivative with respect to x:\n",
      "15.0 * x * y^2 * z^2 + 7.0 * y * z - 12.0 * z^2\n"
     ]
    },
    {
     "data": {
      "text/plain": "Poly(15*x*y**2*z**2 + 7*y*z - 12*z**2, x, y, z, domain='QQ')",
      "text/latex": "$\\displaystyle \\operatorname{Poly}{\\left( 15 xy^{2}z^{2} + 7 yz - 12 z^{2}, x, y, z, domain=\\mathbb{Q} \\right)}$"
     },
     "metadata": {},
     "output_type": "display_data"
    }
   ],
   "source": [
    "p5xx = p5.partial_derivative('x', 'x')\n",
    "symp5xx = symp5.diff(x, x)\n",
    "display(symp5xx)"
   ],
   "metadata": {
    "collapsed": false,
    "ExecuteTime": {
     "end_time": "2023-07-01T21:27:58.246816Z",
     "start_time": "2023-07-01T21:27:58.223583Z"
    }
   }
  },
  {
   "cell_type": "code",
   "execution_count": 49,
   "outputs": [
    {
     "name": "stdout",
     "output_type": "stream",
     "text": [
      "Partial derivative with respect to y:\n",
      "5.0 * x^3 * y * z^2 + 5.0 * x * z^3 + 3.5 * x^2 * z - 12.0 * x * y^2 + 14.0 * y * z^2\n",
      "Partial derivative with respect to y:\n",
      "5.0 * x^3 * z^2 - 24.0 * x * y + 14.0 * z^2\n"
     ]
    },
    {
     "data": {
      "text/plain": "Poly(5*x**3*z**2 - 24*x*y + 14*z**2, x, y, z, domain='QQ')",
      "text/latex": "$\\displaystyle \\operatorname{Poly}{\\left( 5 x^{3}z^{2} - 24 xy + 14 z^{2}, x, y, z, domain=\\mathbb{Q} \\right)}$"
     },
     "metadata": {},
     "output_type": "display_data"
    }
   ],
   "source": [
    "p5yy = p5.partial_derivative('y', 'y')\n",
    "symp5yy = symp5.diff(y, y)\n",
    "display(symp5yy)"
   ],
   "metadata": {
    "collapsed": false,
    "ExecuteTime": {
     "end_time": "2023-07-01T21:27:58.246891Z",
     "start_time": "2023-07-01T21:27:58.229386Z"
    }
   }
  },
  {
   "cell_type": "code",
   "execution_count": 50,
   "outputs": [
    {
     "name": "stdout",
     "output_type": "stream",
     "text": [
      "Partial derivative with respect to z:\n",
      "16.0 * x^4 * y^3 * z - 21.0 * x^3 * y * z^2 - 20.0 * x * y * z^3 - 9.0 * x * y^2 * z^2 + 6.0 * x^2 * y^2 + 8.0 * x^3 * z + 8.0 * x * z^3 - 2.0 * y^3 * z + 45.0 * z^4\n",
      "Partial derivative with respect to z:\n",
      "16.0 * x^4 * y^3 - 42.0 * x^3 * y * z - 60.0 * x * y * z^2 - 18.0 * x * y^2 * z + 8.0 * x^3 + 24.0 * x * z^2 - 2.0 * y^3 + 180.0 * z^3\n"
     ]
    },
    {
     "data": {
      "text/plain": "Poly(16*x**4*y**3 - 42*x**3*y*z + 8*x**3 - 18*x*y**2*z - 60*x*y*z**2 + 24*x*z**2 - 2*y**3 + 180*z**3, x, y, z, domain='QQ')",
      "text/latex": "$\\displaystyle \\operatorname{Poly}{\\left( 16 x^{4}y^{3} - 42 x^{3}yz + 8 x^{3} - 18 xy^{2}z - 60 xyz^{2} + 24 xz^{2} - 2 y^{3} + 180 z^{3}, x, y, z, domain=\\mathbb{Q} \\right)}$"
     },
     "metadata": {},
     "output_type": "display_data"
    }
   ],
   "source": [
    "p6zz = p6.partial_derivative('z', 'z')\n",
    "symp6zz = symp6.diff(z, z)\n",
    "display(symp6zz)"
   ],
   "metadata": {
    "collapsed": false,
    "ExecuteTime": {
     "end_time": "2023-07-01T21:27:58.246976Z",
     "start_time": "2023-07-01T21:27:58.234263Z"
    }
   }
  },
  {
   "cell_type": "markdown",
   "source": [
    "----\n",
    "&nbsp;\n",
    "## Automating testing"
   ],
   "metadata": {
    "collapsed": false
   }
  },
  {
   "cell_type": "code",
   "execution_count": 51,
   "outputs": [
    {
     "name": "stdout",
     "output_type": "stream",
     "text": [
      "\n",
      "\n",
      "Derivatives for p5:\n",
      "------------------------------\n",
      "------------------------------\n",
      "\n",
      "Second derivative of p5 w.r.t. x and x:\n",
      "------------------------------\n",
      "Your implementation: 15.0 * x * y^2 * z^2 + 7.0 * y * z - 12.0 * z^2\n",
      "Sympy implementation: z*(15.0*x*y**2*z + 7.0*y - 12.0*z)\n",
      "\n",
      "Third derivative of p5 w.r.t. x, x and x:\n",
      "------------------------------\n",
      "Your implementation: 15.0 * y^2 * z^2\n",
      "Sympy implementation: 15.0*y**2*z**2\n",
      "\n",
      "Third derivative of p5 w.r.t. x, x and y:\n",
      "------------------------------\n",
      "Your implementation: 30.0 * x * y * z^2 + 7.0 * z\n",
      "Sympy implementation: z*(30.0*x*y*z + 7.0)\n",
      "\n",
      "Third derivative of p5 w.r.t. x, x and z:\n",
      "------------------------------\n",
      "Your implementation: 30.0 * x * y^2 * z + 7.0 * y - 24.0 * z\n",
      "Sympy implementation: 15.0*x*y**2*z + 7.0*y + z*(15.0*x*y**2 - 12.0) - 12.0*z\n",
      "\n",
      "Second derivative of p5 w.r.t. x and y:\n",
      "------------------------------\n",
      "Your implementation: 15.0 * x^2 * y * z^2 + 5.0 * z^3 + 7.0 * x * z - 12.0 * y^2\n",
      "Sympy implementation: 15.0*x**2*y*z**2 + 7.0*x*z - 12.0*y**2 + 5.0*z**3\n",
      "\n",
      "Third derivative of p5 w.r.t. x, y and x:\n",
      "------------------------------\n",
      "Your implementation: 30.0 * x * y * z^2 + 7.0 * z\n",
      "Sympy implementation: 30.0*x*y*z**2 + 7.0*z\n",
      "\n",
      "Third derivative of p5 w.r.t. x, y and y:\n",
      "------------------------------\n",
      "Your implementation: 15.0 * x^2 * z^2 - 24.0 * y\n",
      "Sympy implementation: 15.0*x**2*z**2 - 24.0*y\n",
      "\n",
      "Third derivative of p5 w.r.t. x, y and z:\n",
      "------------------------------\n",
      "Your implementation: 30.0 * x^2 * y * z + 15.0 * z^2 + 7.0 * x\n",
      "Sympy implementation: 30.0*x**2*y*z + 7.0*x + 15.0*z**2\n",
      "\n",
      "Second derivative of p5 w.r.t. x and z:\n",
      "------------------------------\n",
      "Your implementation: 15.0 * x^2 * y^2 * z + 15.0 * y * z^2 + 7.0 * x * y - 24.0 * x * z\n",
      "Sympy implementation: 15.0*x**2*y**2*z + 7.0*x*y - 24.0*x*z + 15.0*y*z**2\n",
      "\n",
      "Third derivative of p5 w.r.t. x, z and x:\n",
      "------------------------------\n",
      "Your implementation: 30.0 * x * y^2 * z + 7.0 * y - 24.0 * z\n",
      "Sympy implementation: 30.0*x*y**2*z + 7.0*y - 24.0*z\n",
      "\n",
      "Third derivative of p5 w.r.t. x, z and y:\n",
      "------------------------------\n",
      "Your implementation: 30.0 * x^2 * y * z + 15.0 * z^2 + 7.0 * x\n",
      "Sympy implementation: 30.0*x**2*y*z + 7.0*x + 15.0*z**2\n",
      "\n",
      "Third derivative of p5 w.r.t. x, z and z:\n",
      "------------------------------\n",
      "Your implementation: 15.0 * x^2 * y^2 + 30.0 * y * z - 24.0 * x\n",
      "Sympy implementation: 15.0*x**2*y**2 - 24.0*x + 30.0*y*z\n",
      "\n",
      "Second derivative of p5 w.r.t. y and x:\n",
      "------------------------------\n",
      "Your implementation: 15.0 * x^2 * y * z^2 + 5.0 * z^3 + 7.0 * x * z - 12.0 * y^2\n",
      "Sympy implementation: 15.0*x**2*y*z**2 + 7.0*x*z - 12.0*y**2 + 5.0*z**3\n",
      "\n",
      "Third derivative of p5 w.r.t. y, x and x:\n",
      "------------------------------\n",
      "Your implementation: 30.0 * x * y * z^2 + 7.0 * z\n",
      "Sympy implementation: 30.0*x*y*z**2 + 7.0*z\n",
      "\n",
      "Third derivative of p5 w.r.t. y, x and y:\n",
      "------------------------------\n",
      "Your implementation: 15.0 * x^2 * z^2 - 24.0 * y\n",
      "Sympy implementation: 15.0*x**2*z**2 - 24.0*y\n",
      "\n",
      "Third derivative of p5 w.r.t. y, x and z:\n",
      "------------------------------\n",
      "Your implementation: 30.0 * x^2 * y * z + 15.0 * z^2 + 7.0 * x\n",
      "Sympy implementation: 30.0*x**2*y*z + 7.0*x + 15.0*z**2\n",
      "\n",
      "Second derivative of p5 w.r.t. y and y:\n",
      "------------------------------\n",
      "Your implementation: 5.0 * x^3 * z^2 - 24.0 * x * y + 14.0 * z^2\n",
      "Sympy implementation: 5.0*x**3*z**2 - 24.0*x*y + 14.0*z**2\n",
      "\n",
      "Third derivative of p5 w.r.t. y, y and x:\n",
      "------------------------------\n",
      "Your implementation: 15.0 * x^2 * z^2 - 24.0 * y\n",
      "Sympy implementation: 15.0*x**2*z**2 - 24.0*y\n",
      "\n",
      "Third derivative of p5 w.r.t. y, y and y:\n",
      "------------------------------\n",
      "Your implementation: -24.0 * x\n",
      "Sympy implementation: -24.0*x\n",
      "\n",
      "Third derivative of p5 w.r.t. y, y and z:\n",
      "------------------------------\n",
      "Your implementation: 10.0 * x^3 * z + 28.0 * z\n",
      "Sympy implementation: 10.0*x**3*z + 28.0*z\n",
      "\n",
      "Second derivative of p5 w.r.t. y and z:\n",
      "------------------------------\n",
      "Your implementation: 10.0 * x^3 * y * z + 15.0 * x * z^2 + 3.5 * x^2 + 28.0 * y * z\n",
      "Sympy implementation: 10.0*x**3*y*z + 3.5*x**2 + 15.0*x*z**2 + 28.0*y*z\n",
      "\n",
      "Third derivative of p5 w.r.t. y, z and x:\n",
      "------------------------------\n",
      "Your implementation: 30.0 * x^2 * y * z + 15.0 * z^2 + 7.0 * x\n",
      "Sympy implementation: 30.0*x**2*y*z + 7.0*x + 15.0*z**2\n",
      "\n",
      "Third derivative of p5 w.r.t. y, z and y:\n",
      "------------------------------\n",
      "Your implementation: 10.0 * x^3 * z + 28.0 * z\n",
      "Sympy implementation: 10.0*x**3*z + 28.0*z\n",
      "\n",
      "Third derivative of p5 w.r.t. y, z and z:\n",
      "------------------------------\n",
      "Your implementation: 10.0 * x^3 * y + 30.0 * x * z + 28.0 * y\n",
      "Sympy implementation: 10.0*x**3*y + 30.0*x*z + 28.0*y\n",
      "\n",
      "Second derivative of p5 w.r.t. z and x:\n",
      "------------------------------\n",
      "Your implementation: 15.0 * x^2 * y^2 * z + 15.0 * y * z^2 + 7.0 * x * y - 24.0 * x * z\n",
      "Sympy implementation: 15.0*x**2*y**2*z + 7.0*x*y - 24.0*x*z + 15.0*y*z**2\n",
      "\n",
      "Third derivative of p5 w.r.t. z, x and x:\n",
      "------------------------------\n",
      "Your implementation: 30.0 * x * y^2 * z + 7.0 * y - 24.0 * z\n",
      "Sympy implementation: 30.0*x*y**2*z + 7.0*y - 24.0*z\n",
      "\n",
      "Third derivative of p5 w.r.t. z, x and y:\n",
      "------------------------------\n",
      "Your implementation: 30.0 * x^2 * y * z + 15.0 * z^2 + 7.0 * x\n",
      "Sympy implementation: 30.0*x**2*y*z + 7.0*x + 15.0*z**2\n",
      "\n",
      "Third derivative of p5 w.r.t. z, x and z:\n",
      "------------------------------\n",
      "Your implementation: 15.0 * x^2 * y^2 + 30.0 * y * z - 24.0 * x\n",
      "Sympy implementation: 15.0*x**2*y**2 - 24.0*x + 30.0*y*z\n",
      "\n",
      "Second derivative of p5 w.r.t. z and y:\n",
      "------------------------------\n",
      "Your implementation: 10.0 * x^3 * y * z + 15.0 * x * z^2 + 3.5 * x^2 + 28.0 * y * z\n",
      "Sympy implementation: 10.0*x**3*y*z + 3.5*x**2 + 15.0*x*z**2 + 28.0*y*z\n",
      "\n",
      "Third derivative of p5 w.r.t. z, y and x:\n",
      "------------------------------\n",
      "Your implementation: 30.0 * x^2 * y * z + 15.0 * z^2 + 7.0 * x\n",
      "Sympy implementation: 30.0*x**2*y*z + 7.0*x + 15.0*z**2\n",
      "\n",
      "Third derivative of p5 w.r.t. z, y and y:\n",
      "------------------------------\n",
      "Your implementation: 10.0 * x^3 * z + 28.0 * z\n",
      "Sympy implementation: 10.0*x**3*z + 28.0*z\n",
      "\n",
      "Third derivative of p5 w.r.t. z, y and z:\n",
      "------------------------------\n",
      "Your implementation: 10.0 * x^3 * y + 30.0 * x * z + 28.0 * y\n",
      "Sympy implementation: 10.0*x**3*y + 30.0*x*z + 28.0*y\n",
      "\n",
      "Second derivative of p5 w.r.t. z and z:\n",
      "------------------------------\n",
      "Your implementation: 5.0 * x^3 * y^2 + 30.0 * x * y * z - 12.0 * x^2 + 14.0 * y^2\n",
      "Sympy implementation: 5.0*x**3*y**2 - 12.0*x**2 + 30.0*x*y*z + 14.0*y**2\n",
      "\n",
      "Third derivative of p5 w.r.t. z, z and x:\n",
      "------------------------------\n",
      "Your implementation: 15.0 * x^2 * y^2 + 30.0 * y * z - 24.0 * x\n",
      "Sympy implementation: 15.0*x**2*y**2 - 24.0*x + 30.0*y*z\n",
      "\n",
      "Third derivative of p5 w.r.t. z, z and y:\n",
      "------------------------------\n",
      "Your implementation: 10.0 * x^3 * y + 30.0 * x * z + 28.0 * y\n",
      "Sympy implementation: 10.0*x**3*y + 30.0*x*z + 28.0*y\n",
      "\n",
      "Third derivative of p5 w.r.t. z, z and z:\n",
      "------------------------------\n",
      "Your implementation: 30.0 * x * y\n",
      "Sympy implementation: 30.0*x*y\n",
      "\n",
      "\n",
      "Derivatives for p6:\n",
      "------------------------------\n",
      "------------------------------\n",
      "\n",
      "Second derivative of p6 w.r.t. x and x:\n",
      "------------------------------\n",
      "Your implementation: 96.0 * x^2 * y^3 * z^2 - 42.0 * x * y * z^3 + 12.0 * y^2 * z + 24.0 * x * z^2\n",
      "Sympy implementation: z*(96.0*x**2*y**3*z - 42.0*x*y*z**2 + 24.0*x*z + 12.0*y**2)\n",
      "\n",
      "Third derivative of p6 w.r.t. x, x and x:\n",
      "------------------------------\n",
      "Your implementation: 192.0 * x * y^3 * z^2 - 42.0 * y * z^3 + 24.0 * z^2\n",
      "Sympy implementation: z*(192.0*x*y**3*z - 42.0*y*z**2 + 24.0*z)\n",
      "\n",
      "Third derivative of p6 w.r.t. x, x and y:\n",
      "------------------------------\n",
      "Your implementation: 288.0 * x^2 * y^2 * z^2 - 42.0 * x * z^3 + 24.0 * y * z\n",
      "Sympy implementation: z*(288.0*x**2*y**2*z - 42.0*x*z**2 + 24.0*y)\n",
      "\n",
      "Third derivative of p6 w.r.t. x, x and z:\n",
      "------------------------------\n",
      "Your implementation: 192.0 * x^2 * y^3 * z - 126.0 * x * y * z^2 + 12.0 * y^2 + 48.0 * x * z\n",
      "Sympy implementation: 96.0*x**2*y**3*z - 42.0*x*y*z**2 + 24.0*x*z + 12.0*y**2 + z*(96.0*x**2*y**3 - 84.0*x*y*z + 24.0*x)\n",
      "\n",
      "Second derivative of p6 w.r.t. x and y:\n",
      "------------------------------\n",
      "Your implementation: 96.0 * x^3 * y^2 * z^2 - 21.0 * x^2 * z^3 - 5.0 * z^4 - 6.0 * y * z^3 + 24.0 * x * y * z\n",
      "Sympy implementation: z*(96.0*x**3*y**2*z - 21.0*x**2*z**2 + 24.0*x*y - 6.0*y*z**2 - 5.0*z**3)\n",
      "\n",
      "Third derivative of p6 w.r.t. x, y and x:\n",
      "------------------------------\n",
      "Your implementation: 288.0 * x^2 * y^2 * z^2 - 42.0 * x * z^3 + 24.0 * y * z\n",
      "Sympy implementation: z*(288.0*x**2*y**2*z - 42.0*x*z**2 + 24.0*y)\n",
      "\n",
      "Third derivative of p6 w.r.t. x, y and y:\n",
      "------------------------------\n",
      "Your implementation: 192.0 * x^3 * y * z^2 - 6.0 * z^3 + 24.0 * x * z\n",
      "Sympy implementation: z*(192.0*x**3*y*z + 24.0*x - 6.0*z**2)\n",
      "\n",
      "Third derivative of p6 w.r.t. x, y and z:\n",
      "------------------------------\n",
      "Your implementation: 192.0 * x^3 * y^2 * z - 63.0 * x^2 * z^2 - 20.0 * z^3 - 18.0 * y * z^2 + 24.0 * x * y\n",
      "Sympy implementation: 96.0*x**3*y**2*z - 21.0*x**2*z**2 + 24.0*x*y - 6.0*y*z**2 - 5.0*z**3 + z*(96.0*x**3*y**2 - 42.0*x**2*z - 12.0*y*z - 15.0*z**2)\n",
      "\n",
      "Second derivative of p6 w.r.t. x and z:\n",
      "------------------------------\n",
      "Your implementation: 64.0 * x^3 * y^3 * z - 63.0 * x^2 * y * z^2 - 20.0 * y * z^3 - 9.0 * y^2 * z^2 + 12.0 * x * y^2 + 24.0 * x^2 * z + 8.0 * z^3\n",
      "Sympy implementation: 64.0*x**3*y**3*z - 63.0*x**2*y*z**2 + 24.0*x**2*z + 12.0*x*y**2 - 9.0*y**2*z**2 - 20.0*y*z**3 + 8.0*z**3\n",
      "\n",
      "Third derivative of p6 w.r.t. x, z and x:\n",
      "------------------------------\n",
      "Your implementation: 192.0 * x^2 * y^3 * z - 126.0 * x * y * z^2 + 12.0 * y^2 + 48.0 * x * z\n",
      "Sympy implementation: 192.0*x**2*y**3*z - 126.0*x*y*z**2 + 48.0*x*z + 12.0*y**2\n",
      "\n",
      "Third derivative of p6 w.r.t. x, z and y:\n",
      "------------------------------\n",
      "Your implementation: 192.0 * x^3 * y^2 * z - 63.0 * x^2 * z^2 - 20.0 * z^3 - 18.0 * y * z^2 + 24.0 * x * y\n",
      "Sympy implementation: 192.0*x**3*y**2*z - 63.0*x**2*z**2 + 24.0*x*y - 18.0*y*z**2 - 20.0*z**3\n",
      "\n",
      "Third derivative of p6 w.r.t. x, z and z:\n",
      "------------------------------\n",
      "Your implementation: 64.0 * x^3 * y^3 - 126.0 * x^2 * y * z - 60.0 * y * z^2 - 18.0 * y^2 * z + 24.0 * x^2 + 24.0 * z^2\n",
      "Sympy implementation: 64.0*x**3*y**3 - 126.0*x**2*y*z + 24.0*x**2 - 18.0*y**2*z - 60.0*y*z**2 + 24.0*z**2\n",
      "\n",
      "Second derivative of p6 w.r.t. y and x:\n",
      "------------------------------\n",
      "Your implementation: 96.0 * x^3 * y^2 * z^2 - 21.0 * x^2 * z^3 - 5.0 * z^4 - 6.0 * y * z^3 + 24.0 * x * y * z\n",
      "Sympy implementation: z*(96.0*x**3*y**2*z - 21.0*x**2*z**2 + 24.0*x*y - 6.0*y*z**2 - 5.0*z**3)\n",
      "\n",
      "Third derivative of p6 w.r.t. y, x and x:\n",
      "------------------------------\n",
      "Your implementation: 288.0 * x^2 * y^2 * z^2 - 42.0 * x * z^3 + 24.0 * y * z\n",
      "Sympy implementation: z*(288.0*x**2*y**2*z - 42.0*x*z**2 + 24.0*y)\n",
      "\n",
      "Third derivative of p6 w.r.t. y, x and y:\n",
      "------------------------------\n",
      "Your implementation: 192.0 * x^3 * y * z^2 - 6.0 * z^3 + 24.0 * x * z\n",
      "Sympy implementation: z*(192.0*x**3*y*z + 24.0*x - 6.0*z**2)\n",
      "\n",
      "Third derivative of p6 w.r.t. y, x and z:\n",
      "------------------------------\n",
      "Your implementation: 192.0 * x^3 * y^2 * z - 63.0 * x^2 * z^2 - 20.0 * z^3 - 18.0 * y * z^2 + 24.0 * x * y\n",
      "Sympy implementation: 96.0*x**3*y**2*z - 21.0*x**2*z**2 + 24.0*x*y - 6.0*y*z**2 - 5.0*z**3 + z*(96.0*x**3*y**2 - 42.0*x**2*z - 12.0*y*z - 15.0*z**2)\n",
      "\n",
      "Second derivative of p6 w.r.t. y and y:\n",
      "------------------------------\n",
      "Your implementation: 48.0 * x^4 * y * z^2 - 6.0 * x * z^3 + 12.0 * x^2 * z - 6.0 * y * z^2\n",
      "Sympy implementation: z*(48.0*x**4*y*z + 12.0*x**2 - 6.0*x*z**2 - 6.0*y*z)\n",
      "\n",
      "Third derivative of p6 w.r.t. y, y and x:\n",
      "------------------------------\n",
      "Your implementation: 192.0 * x^3 * y * z^2 - 6.0 * z^3 + 24.0 * x * z\n",
      "Sympy implementation: z*(192.0*x**3*y*z + 24.0*x - 6.0*z**2)\n",
      "\n",
      "Third derivative of p6 w.r.t. y, y and y:\n",
      "------------------------------\n",
      "Your implementation: 48.0 * x^4 * z^2 - 6.0 * z^2\n",
      "Sympy implementation: z*(48.0*x**4*z - 6.0*z)\n",
      "\n",
      "Third derivative of p6 w.r.t. y, y and z:\n",
      "------------------------------\n",
      "Your implementation: 96.0 * x^4 * y * z - 18.0 * x * z^2 + 12.0 * x^2 - 12.0 * y * z\n",
      "Sympy implementation: 48.0*x**4*y*z + 12.0*x**2 - 6.0*x*z**2 - 6.0*y*z + z*(48.0*x**4*y - 12.0*x*z - 6.0*y)\n",
      "\n",
      "Second derivative of p6 w.r.t. y and z:\n",
      "------------------------------\n",
      "Your implementation: 48.0 * x^4 * y^2 * z - 21.0 * x^3 * z^2 - 20.0 * x * z^3 - 18.0 * x * y * z^2 + 12.0 * x^2 * y - 6.0 * y^2 * z\n",
      "Sympy implementation: 48.0*x**4*y**2*z - 21.0*x**3*z**2 + 12.0*x**2*y - 18.0*x*y*z**2 - 20.0*x*z**3 - 6.0*y**2*z\n",
      "\n",
      "Third derivative of p6 w.r.t. y, z and x:\n",
      "------------------------------\n",
      "Your implementation: 192.0 * x^3 * y^2 * z - 63.0 * x^2 * z^2 - 20.0 * z^3 - 18.0 * y * z^2 + 24.0 * x * y\n",
      "Sympy implementation: 192.0*x**3*y**2*z - 63.0*x**2*z**2 + 24.0*x*y - 18.0*y*z**2 - 20.0*z**3\n",
      "\n",
      "Third derivative of p6 w.r.t. y, z and y:\n",
      "------------------------------\n",
      "Your implementation: 96.0 * x^4 * y * z - 18.0 * x * z^2 + 12.0 * x^2 - 12.0 * y * z\n",
      "Sympy implementation: 96.0*x**4*y*z + 12.0*x**2 - 18.0*x*z**2 - 12.0*y*z\n",
      "\n",
      "Third derivative of p6 w.r.t. y, z and z:\n",
      "------------------------------\n",
      "Your implementation: 48.0 * x^4 * y^2 - 42.0 * x^3 * z - 60.0 * x * z^2 - 36.0 * x * y * z - 6.0 * y^2\n",
      "Sympy implementation: 48.0*x**4*y**2 - 42.0*x**3*z - 36.0*x*y*z - 60.0*x*z**2 - 6.0*y**2\n",
      "\n",
      "Second derivative of p6 w.r.t. z and x:\n",
      "------------------------------\n",
      "Your implementation: 64.0 * x^3 * y^3 * z - 63.0 * x^2 * y * z^2 - 20.0 * y * z^3 - 9.0 * y^2 * z^2 + 12.0 * x * y^2 + 24.0 * x^2 * z + 8.0 * z^3\n",
      "Sympy implementation: 64.0*x**3*y**3*z - 63.0*x**2*y*z**2 + 24.0*x**2*z + 12.0*x*y**2 - 9.0*y**2*z**2 - 20.0*y*z**3 + 8.0*z**3\n",
      "\n",
      "Third derivative of p6 w.r.t. z, x and x:\n",
      "------------------------------\n",
      "Your implementation: 192.0 * x^2 * y^3 * z - 126.0 * x * y * z^2 + 12.0 * y^2 + 48.0 * x * z\n",
      "Sympy implementation: 192.0*x**2*y**3*z - 126.0*x*y*z**2 + 48.0*x*z + 12.0*y**2\n",
      "\n",
      "Third derivative of p6 w.r.t. z, x and y:\n",
      "------------------------------\n",
      "Your implementation: 192.0 * x^3 * y^2 * z - 63.0 * x^2 * z^2 - 20.0 * z^3 - 18.0 * y * z^2 + 24.0 * x * y\n",
      "Sympy implementation: 192.0*x**3*y**2*z - 63.0*x**2*z**2 + 24.0*x*y - 18.0*y*z**2 - 20.0*z**3\n",
      "\n",
      "Third derivative of p6 w.r.t. z, x and z:\n",
      "------------------------------\n",
      "Your implementation: 64.0 * x^3 * y^3 - 126.0 * x^2 * y * z - 60.0 * y * z^2 - 18.0 * y^2 * z + 24.0 * x^2 + 24.0 * z^2\n",
      "Sympy implementation: 64.0*x**3*y**3 - 126.0*x**2*y*z + 24.0*x**2 - 18.0*y**2*z - 60.0*y*z**2 + 24.0*z**2\n",
      "\n",
      "Second derivative of p6 w.r.t. z and y:\n",
      "------------------------------\n",
      "Your implementation: 48.0 * x^4 * y^2 * z - 21.0 * x^3 * z^2 - 20.0 * x * z^3 - 18.0 * x * y * z^2 + 12.0 * x^2 * y - 6.0 * y^2 * z\n",
      "Sympy implementation: 48.0*x**4*y**2*z - 21.0*x**3*z**2 + 12.0*x**2*y - 18.0*x*y*z**2 - 20.0*x*z**3 - 6.0*y**2*z\n",
      "\n",
      "Third derivative of p6 w.r.t. z, y and x:\n",
      "------------------------------\n",
      "Your implementation: 192.0 * x^3 * y^2 * z - 63.0 * x^2 * z^2 - 20.0 * z^3 - 18.0 * y * z^2 + 24.0 * x * y\n",
      "Sympy implementation: 192.0*x**3*y**2*z - 63.0*x**2*z**2 + 24.0*x*y - 18.0*y*z**2 - 20.0*z**3\n",
      "\n",
      "Third derivative of p6 w.r.t. z, y and y:\n",
      "------------------------------\n",
      "Your implementation: 96.0 * x^4 * y * z - 18.0 * x * z^2 + 12.0 * x^2 - 12.0 * y * z\n",
      "Sympy implementation: 96.0*x**4*y*z + 12.0*x**2 - 18.0*x*z**2 - 12.0*y*z\n",
      "\n",
      "Third derivative of p6 w.r.t. z, y and z:\n",
      "------------------------------\n",
      "Your implementation: 48.0 * x^4 * y^2 - 42.0 * x^3 * z - 60.0 * x * z^2 - 36.0 * x * y * z - 6.0 * y^2\n",
      "Sympy implementation: 48.0*x**4*y**2 - 42.0*x**3*z - 36.0*x*y*z - 60.0*x*z**2 - 6.0*y**2\n",
      "\n",
      "Second derivative of p6 w.r.t. z and z:\n",
      "------------------------------\n",
      "Your implementation: 16.0 * x^4 * y^3 - 42.0 * x^3 * y * z - 60.0 * x * y * z^2 - 18.0 * x * y^2 * z + 8.0 * x^3 + 24.0 * x * z^2 - 2.0 * y^3 + 180.0 * z^3\n",
      "Sympy implementation: 16.0*x**4*y**3 - 42.0*x**3*y*z + 8.0*x**3 - 18.0*x*y**2*z - 60.0*x*y*z**2 + 24.0*x*z**2 - 2.0*y**3 + 180.0*z**3\n",
      "\n",
      "Third derivative of p6 w.r.t. z, z and x:\n",
      "------------------------------\n",
      "Your implementation: 64.0 * x^3 * y^3 - 126.0 * x^2 * y * z - 60.0 * y * z^2 - 18.0 * y^2 * z + 24.0 * x^2 + 24.0 * z^2\n",
      "Sympy implementation: 64.0*x**3*y**3 - 126.0*x**2*y*z + 24.0*x**2 - 18.0*y**2*z - 60.0*y*z**2 + 24.0*z**2\n",
      "\n",
      "Third derivative of p6 w.r.t. z, z and y:\n",
      "------------------------------\n",
      "Your implementation: 48.0 * x^4 * y^2 - 42.0 * x^3 * z - 60.0 * x * z^2 - 36.0 * x * y * z - 6.0 * y^2\n",
      "Sympy implementation: 48.0*x**4*y**2 - 42.0*x**3*z - 36.0*x*y*z - 60.0*x*z**2 - 6.0*y**2\n",
      "\n",
      "Third derivative of p6 w.r.t. z, z and z:\n",
      "------------------------------\n",
      "Your implementation: -42.0 * x^3 * y - 120.0 * x * y * z - 18.0 * x * y^2 + 48.0 * x * z + 540.0 * z^2\n",
      "Sympy implementation: -42.0*x**3*y - 18.0*x*y**2 - 120.0*x*y*z + 48.0*x*z + 540.0*z**2\n"
     ]
    }
   ],
   "source": [
    "# Variables\n",
    "x, y, z = sympy.symbols('x y z')\n",
    "variables = ['x', 'y', 'z']\n",
    "\n",
    "# Your polynomial instances and their sympy equivalents\n",
    "polynomials = {\n",
    "    'p5': (p5, sympy.sympify(str(p5))),\n",
    "    'p6': (p6, sympy.sympify(str(p6))),\n",
    "}\n",
    "\n",
    "for poly_name, (poly_instance, sympy_instance) in polynomials.items():\n",
    "    print(f\"\\n\\nDerivatives for {poly_name}:\\n{'-'*30}\\n{'-'*30}\")\n",
    "\n",
    "    for var1 in variables:\n",
    "        for var2 in variables:\n",
    "            # Display second derivatives\n",
    "            result = poly_instance.partial_derivative(var1, var2, print_progress=False)\n",
    "            sympy_result = sympy_instance.diff(sympy.symbols(var1), sympy.symbols(var2))\n",
    "            print(f\"\\nSecond derivative of {poly_name} w.r.t. {var1} and {var2}:\\n{'-'*30}\")\n",
    "            print(\"Your implementation:\", result)\n",
    "            print(\"Sympy implementation:\", sympy_result)\n",
    "\n",
    "            if isinstance(result, TriVarPoly):\n",
    "                for var3 in variables:\n",
    "                    # Display third-order mixed derivatives\n",
    "                    result_third = result.partial_derivative(var3, print_progress=False)\n",
    "                    sympy_result_third = sympy_result.diff(sympy.symbols(var3))\n",
    "                    print(f\"\\nThird derivative of {poly_name} w.r.t. {var1}, {var2} and {var3}:\\n{'-'*30}\")\n",
    "                    print(\"Your implementation:\", result_third)\n",
    "                    print(\"Sympy implementation:\", sympy_result_third)"
   ],
   "metadata": {
    "collapsed": false,
    "ExecuteTime": {
     "end_time": "2023-07-01T21:27:58.756846Z",
     "start_time": "2023-07-01T21:27:58.302033Z"
    }
   }
  },
  {
   "cell_type": "markdown",
   "source": [
    "--------\n",
    "&nbsp;\n",
    "## Looks good"
   ],
   "metadata": {
    "collapsed": false
   }
  }
 ],
 "metadata": {
  "kernelspec": {
   "display_name": "Python 3",
   "language": "python",
   "name": "python3"
  },
  "language_info": {
   "codemirror_mode": {
    "name": "ipython",
    "version": 2
   },
   "file_extension": ".py",
   "mimetype": "text/x-python",
   "name": "python",
   "nbconvert_exporter": "python",
   "pygments_lexer": "ipython2",
   "version": "2.7.6"
  }
 },
 "nbformat": 4,
 "nbformat_minor": 0
}
