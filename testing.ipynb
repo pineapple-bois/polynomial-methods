{
 "cells": [
  {
   "cell_type": "markdown",
   "source": [
    "# Initial testing of the `Polynomial` class"
   ],
   "metadata": {
    "collapsed": false
   }
  },
  {
   "cell_type": "code",
   "execution_count": 1,
   "metadata": {
    "collapsed": true,
    "ExecuteTime": {
     "end_time": "2023-07-01T21:13:42.463190Z",
     "start_time": "2023-07-01T21:13:41.118205Z"
    }
   },
   "outputs": [],
   "source": [
    "from py_files.poly_dictionary import decompose_polynomial\n",
    "from py_files.Polynomial import *"
   ]
  },
  {
   "cell_type": "code",
   "execution_count": 2,
   "outputs": [],
   "source": [
    "poly7 = decompose_polynomial(\"2*x^2 - 3*x + 5\")                                 # Uni-variate\n",
    "poly8 = decompose_polynomial(\"-x^2 + 4*x - 7\")                                  # Uni-variate\n",
    "poly9 = decompose_polynomial(\"5*x^3 - 3*x^2 + 7*x - 10\")                        # Uni-variate"
   ],
   "metadata": {
    "collapsed": false,
    "ExecuteTime": {
     "end_time": "2023-07-01T21:13:45.280465Z",
     "start_time": "2023-07-01T21:13:45.272900Z"
    }
   }
  },
  {
   "cell_type": "code",
   "execution_count": 3,
   "outputs": [],
   "source": [
    "poly10 = decompose_polynomial(\"2*x^2*y - 3*x*y^2 + 5*y\")                        # Multivariate\n",
    "poly11 = decompose_polynomial(\"-x^2*y^2 + 4*x*y - 7*z^3\")                       # Multivariate\n",
    "poly12 = decompose_polynomial(\"5*x^3*y^2*z - 3*x^2*y*z^2 + 7*x*y*z - 10*z^2\")   # Multivariate"
   ],
   "metadata": {
    "collapsed": false,
    "ExecuteTime": {
     "end_time": "2023-07-01T21:13:47.897823Z",
     "start_time": "2023-07-01T21:13:47.888344Z"
    }
   }
  },
  {
   "cell_type": "markdown",
   "source": [
    "## `is_multivariate` functionality"
   ],
   "metadata": {
    "collapsed": false
   }
  },
  {
   "cell_type": "code",
   "execution_count": 4,
   "outputs": [
    {
     "name": "stdout",
     "output_type": "stream",
     "text": [
      "Bi-variate? False\n",
      "Tri-variate? False\n"
     ]
    }
   ],
   "source": [
    "p7 = UniPoly(poly7)\n",
    "p8 = UniPoly(poly8)\n",
    "p9 = UniPoly(poly9)\n",
    "\n",
    "print(f\"Bi-variate? {p7.is_bivariate}\")\n",
    "print(f\"Tri-variate? {p7.is_trivariate}\")"
   ],
   "metadata": {
    "collapsed": false,
    "ExecuteTime": {
     "end_time": "2023-07-01T21:13:50.627714Z",
     "start_time": "2023-07-01T21:13:50.618541Z"
    }
   }
  },
  {
   "cell_type": "code",
   "execution_count": 5,
   "outputs": [
    {
     "data": {
      "text/plain": "True"
     },
     "execution_count": 5,
     "metadata": {},
     "output_type": "execute_result"
    }
   ],
   "source": [
    "p10 = BiVarPoly(poly10)\n",
    "p11 = TriVarPoly(poly11)\n",
    "p12 = TriVarPoly(poly12)\n",
    "\n",
    "p10.is_multivariate"
   ],
   "metadata": {
    "collapsed": false,
    "ExecuteTime": {
     "end_time": "2023-07-01T21:13:55.033476Z",
     "start_time": "2023-07-01T21:13:55.028234Z"
    }
   }
  },
  {
   "cell_type": "code",
   "execution_count": 6,
   "outputs": [
    {
     "name": "stdout",
     "output_type": "stream",
     "text": [
      "2\n"
     ]
    }
   ],
   "source": [
    "print(p10.num_variables)"
   ],
   "metadata": {
    "collapsed": false,
    "ExecuteTime": {
     "end_time": "2023-07-01T21:13:57.313347Z",
     "start_time": "2023-07-01T21:13:57.303295Z"
    }
   }
  },
  {
   "cell_type": "code",
   "execution_count": 7,
   "outputs": [
    {
     "name": "stdout",
     "output_type": "stream",
     "text": [
      "3\n"
     ]
    }
   ],
   "source": [
    "print(p11.num_variables)"
   ],
   "metadata": {
    "collapsed": false,
    "ExecuteTime": {
     "end_time": "2023-07-01T21:13:59.406338Z",
     "start_time": "2023-07-01T21:13:59.397435Z"
    }
   }
  },
  {
   "cell_type": "markdown",
   "source": [
    "----\n",
    "&nbsp;\n",
    "### Incorrect instances"
   ],
   "metadata": {
    "collapsed": false
   }
  },
  {
   "cell_type": "markdown",
   "source": [
    "# NEED ERROR for `BiVarPoly` and `TriVarPoly`"
   ],
   "metadata": {
    "collapsed": false
   }
  },
  {
   "cell_type": "code",
   "execution_count": 8,
   "outputs": [
    {
     "ename": "ValueError",
     "evalue": "The provided expression does not represent a uni-variate polynomial.",
     "output_type": "error",
     "traceback": [
      "\u001B[0;31m---------------------------------------------------------------------------\u001B[0m",
      "\u001B[0;31mValueError\u001B[0m                                Traceback (most recent call last)",
      "\u001B[0;32m/var/folders/s9/z74lxq2n7d9ct45y9_ffymd00000gn/T/ipykernel_55093/3181815689.py\u001B[0m in \u001B[0;36m<module>\u001B[0;34m\u001B[0m\n\u001B[0;32m----> 1\u001B[0;31m \u001B[0mp_error\u001B[0m \u001B[0;34m=\u001B[0m \u001B[0mUniPoly\u001B[0m\u001B[0;34m(\u001B[0m\u001B[0mpoly10\u001B[0m\u001B[0;34m)\u001B[0m\u001B[0;34m\u001B[0m\u001B[0;34m\u001B[0m\u001B[0m\n\u001B[0m",
      "\u001B[0;32m~/Documents/Study/Stage3/Programming/Github/polynomial-methods/py_files/Polynomial.py\u001B[0m in \u001B[0;36m__init__\u001B[0;34m(self, coefficients)\u001B[0m\n\u001B[1;32m    274\u001B[0m         \u001B[0msuper\u001B[0m\u001B[0;34m(\u001B[0m\u001B[0;34m)\u001B[0m\u001B[0;34m.\u001B[0m\u001B[0m__init__\u001B[0m\u001B[0;34m(\u001B[0m\u001B[0mcoefficients\u001B[0m\u001B[0;34m)\u001B[0m\u001B[0;34m\u001B[0m\u001B[0;34m\u001B[0m\u001B[0m\n\u001B[1;32m    275\u001B[0m         \u001B[0;32mif\u001B[0m \u001B[0mself\u001B[0m\u001B[0;34m.\u001B[0m\u001B[0mis_bivariate\u001B[0m \u001B[0;32mor\u001B[0m \u001B[0mself\u001B[0m\u001B[0;34m.\u001B[0m\u001B[0mis_trivariate\u001B[0m\u001B[0;34m:\u001B[0m\u001B[0;34m\u001B[0m\u001B[0;34m\u001B[0m\u001B[0m\n\u001B[0;32m--> 276\u001B[0;31m             \u001B[0;32mraise\u001B[0m \u001B[0mValueError\u001B[0m\u001B[0;34m(\u001B[0m\u001B[0;34m\"The provided expression does not represent a uni-variate polynomial.\"\u001B[0m\u001B[0;34m)\u001B[0m\u001B[0;34m\u001B[0m\u001B[0;34m\u001B[0m\u001B[0m\n\u001B[0m\u001B[1;32m    277\u001B[0m \u001B[0;34m\u001B[0m\u001B[0m\n\u001B[1;32m    278\u001B[0m     \u001B[0;32mdef\u001B[0m \u001B[0mplot\u001B[0m\u001B[0;34m(\u001B[0m\u001B[0mself\u001B[0m\u001B[0;34m,\u001B[0m \u001B[0mx_min\u001B[0m\u001B[0;34m=\u001B[0m\u001B[0;34m-\u001B[0m\u001B[0;36m10\u001B[0m\u001B[0;34m,\u001B[0m \u001B[0mx_max\u001B[0m\u001B[0;34m=\u001B[0m\u001B[0;36m10\u001B[0m\u001B[0;34m,\u001B[0m \u001B[0mnum_points\u001B[0m\u001B[0;34m=\u001B[0m\u001B[0;36m1000\u001B[0m\u001B[0;34m)\u001B[0m\u001B[0;34m:\u001B[0m\u001B[0;34m\u001B[0m\u001B[0;34m\u001B[0m\u001B[0m\n",
      "\u001B[0;31mValueError\u001B[0m: The provided expression does not represent a uni-variate polynomial."
     ]
    }
   ],
   "source": [
    "p_error = UniPoly(poly10)"
   ],
   "metadata": {
    "collapsed": false,
    "ExecuteTime": {
     "end_time": "2023-07-01T21:14:45.974996Z",
     "start_time": "2023-07-01T21:14:45.840Z"
    }
   }
  },
  {
   "cell_type": "code",
   "execution_count": 9,
   "outputs": [],
   "source": [
    "p_error_two = TriVarPoly(poly9)"
   ],
   "metadata": {
    "collapsed": false,
    "ExecuteTime": {
     "end_time": "2023-07-01T21:14:48.396286Z",
     "start_time": "2023-07-01T21:14:48.386777Z"
    }
   }
  },
  {
   "cell_type": "markdown",
   "source": [
    "----\n",
    "&nbsp;\n",
    "## Testing `__add__()`, `__sub__()`, `__mul__()` and `__str__()`  methods"
   ],
   "metadata": {
    "collapsed": false
   }
  },
  {
   "cell_type": "code",
   "execution_count": 10,
   "outputs": [
    {
     "name": "stdout",
     "output_type": "stream",
     "text": [
      "-----\n",
      "p9 + p10\n",
      "{(3, 0, 0): 5.0, (2, 0, 0): -3.0, (1, 0, 0): 7.0, (0, 0, 0): -10.0, (2, 1, 0): 2.0, (1, 2, 0): -3.0, (0, 1, 0): 5.0}\n",
      "5.0 * x^3 + 2.0 * x^2 * y - 3.0 * x * y^2 - 3.0 * x^2 + 7.0 * x + 5.0 * y - 10.0\n",
      "-----\n",
      "p9 + p11\n",
      "{(3, 0, 0): 5.0, (2, 0, 0): -3.0, (1, 0, 0): 7.0, (0, 0, 0): -10.0, (2, 2, 0): -1.0, (1, 1, 0): 4.0, (0, 0, 3): -7.0}\n",
      "-x^2 * y^2 + 5.0 * x^3 - 7.0 * z^3 - 3.0 * x^2 + 4.0 * x * y + 7.0 * x - 10.0\n",
      "-----\n",
      "p9 + p12\n",
      "{(3, 0, 0): 5.0, (2, 0, 0): -3.0, (1, 0, 0): 7.0, (0, 0, 0): -10.0, (3, 2, 1): 5.0, (2, 1, 2): -3.0, (1, 1, 1): 7.0, (0, 0, 2): -10.0}\n",
      "5.0 * x^3 * y^2 * z - 3.0 * x^2 * y * z^2 + 5.0 * x^3 + 7.0 * x * y * z - 3.0 * x^2 - 10.0 * z^2 + 7.0 * x - 10.0\n"
     ]
    }
   ],
   "source": [
    "polynomials = [p10, p11, p12]\n",
    "\n",
    "for i, poly in enumerate(polynomials, start=10):\n",
    "    print(\"-----\")\n",
    "    print(f\"p9 + p{i}\")\n",
    "    print((p9 + poly).coeff)\n",
    "    print(p9 + poly)"
   ],
   "metadata": {
    "collapsed": false,
    "ExecuteTime": {
     "end_time": "2023-07-01T21:14:51.164218Z",
     "start_time": "2023-07-01T21:14:51.155251Z"
    }
   }
  },
  {
   "cell_type": "code",
   "execution_count": 11,
   "outputs": [
    {
     "name": "stdout",
     "output_type": "stream",
     "text": [
      "-----\n",
      "p9 - p10\n",
      "{(3, 0, 0): 5.0, (2, 0, 0): -3.0, (1, 0, 0): 7.0, (0, 0, 0): -10.0, (2, 1, 0): -2.0, (1, 2, 0): 3.0, (0, 1, 0): -5.0}\n",
      "5.0 * x^3 + 2.0 * x^2 * y - 3.0 * x * y^2 - 3.0 * x^2 + 7.0 * x + 5.0 * y - 10.0\n",
      "-----\n",
      "p9 - p11\n",
      "{(3, 0, 0): 5.0, (2, 0, 0): -3.0, (1, 0, 0): 7.0, (0, 0, 0): -10.0, (2, 2, 0): 1.0, (1, 1, 0): -4.0, (0, 0, 3): 7.0}\n",
      "-x^2 * y^2 + 5.0 * x^3 - 7.0 * z^3 - 3.0 * x^2 + 4.0 * x * y + 7.0 * x - 10.0\n",
      "-----\n",
      "p9 - p12\n",
      "{(3, 0, 0): 5.0, (2, 0, 0): -3.0, (1, 0, 0): 7.0, (0, 0, 0): -10.0, (3, 2, 1): -5.0, (2, 1, 2): 3.0, (1, 1, 1): -7.0, (0, 0, 2): 10.0}\n",
      "5.0 * x^3 * y^2 * z - 3.0 * x^2 * y * z^2 + 5.0 * x^3 + 7.0 * x * y * z - 3.0 * x^2 - 10.0 * z^2 + 7.0 * x - 10.0\n"
     ]
    }
   ],
   "source": [
    "for i, poly in enumerate(polynomials, start=10):\n",
    "    print(\"-----\")\n",
    "    print(f\"p9 - p{i}\")\n",
    "    print((p9 - poly).coeff)\n",
    "    print(p9 + poly)"
   ],
   "metadata": {
    "collapsed": false,
    "ExecuteTime": {
     "end_time": "2023-07-01T21:14:53.909863Z",
     "start_time": "2023-07-01T21:14:53.901366Z"
    }
   }
  },
  {
   "cell_type": "code",
   "execution_count": 12,
   "outputs": [
    {
     "name": "stdout",
     "output_type": "stream",
     "text": [
      "-----\n",
      "p9 * p10\n",
      "Coefficients:\n",
      "{(5, 1, 0): 10.0, (4, 2, 0): -15.0, (3, 1, 0): 39.0, (4, 1, 0): -6.0, (3, 2, 0): 9.0, (2, 1, 0): -35.0, (2, 2, 0): -21.0, (1, 1, 0): 35.0, (1, 2, 0): 30.0, (0, 1, 0): -50.0}\n",
      "\n",
      "10.0 * x^5 * y - 15.0 * x^4 * y^2 - 6.0 * x^4 * y + 9.0 * x^3 * y^2 + 39.0 * x^3 * y - 21.0 * x^2 * y^2 - 35.0 * x^2 * y + 30.0 * x * y^2 + 35.0 * x * y - 50.0 * y\n",
      "-----\n",
      "p9 * p11\n",
      "Coefficients:\n",
      "{(5, 2, 0): -5.0, (4, 1, 0): 20.0, (3, 0, 3): -35.0, (4, 2, 0): 3.0, (3, 1, 0): -12.0, (2, 0, 3): 21.0, (3, 2, 0): -7.0, (2, 1, 0): 28.0, (1, 0, 3): -49.0, (2, 2, 0): 10.0, (1, 1, 0): -40.0, (0, 0, 3): 70.0}\n",
      "\n",
      "-5.0 * x^5 * y^2 - 35.0 * x^3 * z^3 + 3.0 * x^4 * y^2 + 20.0 * x^4 * y + 21.0 * x^2 * z^3 - 7.0 * x^3 * y^2 - 12.0 * x^3 * y - 49.0 * x * z^3 + 10.0 * x^2 * y^2 + 28.0 * x^2 * y + 70.0 * z^3 - 40.0 * x * y\n",
      "-----\n",
      "p9 * p12\n",
      "Coefficients:\n",
      "{(6, 2, 1): 25.0, (5, 1, 2): -15.0, (4, 1, 1): 35.0, (3, 0, 2): -50.0, (5, 2, 1): -15.0, (4, 1, 2): 9.0, (3, 1, 1): -21.0, (2, 0, 2): 30.0, (4, 2, 1): 35.0, (3, 1, 2): -21.0, (2, 1, 1): 49.0, (1, 0, 2): -70.0, (3, 2, 1): -50.0, (2, 1, 2): 30.0, (1, 1, 1): -70.0, (0, 0, 2): 100.0}\n",
      "\n",
      "25.0 * x^6 * y^2 * z - 15.0 * x^5 * y * z^2 - 15.0 * x^5 * y^2 * z + 9.0 * x^4 * y * z^2 + 35.0 * x^4 * y^2 * z + 35.0 * x^4 * y * z - 21.0 * x^3 * y * z^2 - 50.0 * x^3 * y^2 * z - 50.0 * x^3 * z^2 - 21.0 * x^3 * y * z + 30.0 * x^2 * y * z^2 + 30.0 * x^2 * z^2 + 49.0 * x^2 * y * z - 70.0 * x * z^2 - 70.0 * x * y * z + 100.0 * z^2\n"
     ]
    }
   ],
   "source": [
    "for i, poly in enumerate(polynomials, start=10):\n",
    "    print(\"-----\")\n",
    "    print(f\"p9 * p{i}\")\n",
    "    print(f\"Coefficients:\\n{(p9 * poly).coeff}\\n\")\n",
    "    print(f\"{p9 * poly}\")"
   ],
   "metadata": {
    "collapsed": false,
    "ExecuteTime": {
     "end_time": "2023-07-01T21:14:56.229764Z",
     "start_time": "2023-07-01T21:14:56.223762Z"
    }
   }
  },
  {
   "cell_type": "markdown",
   "source": [
    "---\n",
    "&nbsp;\n",
    "## Scalar multiplication with `__rmul__()` method"
   ],
   "metadata": {
    "collapsed": false
   }
  },
  {
   "cell_type": "code",
   "execution_count": 13,
   "outputs": [
    {
     "name": "stdout",
     "output_type": "stream",
     "text": [
      "5.0 * x^3 * y^2 * z - 3.0 * x^2 * y * z^2 + 7.0 * x * y * z - 10.0 * z^2\n"
     ]
    }
   ],
   "source": [
    "print(p12)"
   ],
   "metadata": {
    "collapsed": false,
    "ExecuteTime": {
     "end_time": "2023-07-01T21:15:00.730455Z",
     "start_time": "2023-07-01T21:15:00.719932Z"
    }
   }
  },
  {
   "cell_type": "code",
   "execution_count": 14,
   "outputs": [
    {
     "name": "stdout",
     "output_type": "stream",
     "text": [
      "25.0 * x^3 * y^2 * z - 15.0 * x^2 * y * z^2 + 35.0 * x * y * z - 50.0 * z^2\n"
     ]
    }
   ],
   "source": [
    "print(5 * p12)"
   ],
   "metadata": {
    "collapsed": false,
    "ExecuteTime": {
     "end_time": "2023-07-01T21:15:02.379978Z",
     "start_time": "2023-07-01T21:15:02.370244Z"
    }
   }
  },
  {
   "cell_type": "code",
   "execution_count": 15,
   "outputs": [
    {
     "name": "stdout",
     "output_type": "stream",
     "text": [
      "31.0 * x^3 * y^2 * z - 18.6 * x^2 * y * z^2 + 43.4 * x * y * z - 62.0 * z^2\n"
     ]
    }
   ],
   "source": [
    "print(6.2 * p12)"
   ],
   "metadata": {
    "collapsed": false,
    "ExecuteTime": {
     "end_time": "2023-07-01T21:15:03.861012Z",
     "start_time": "2023-07-01T21:15:03.855129Z"
    }
   }
  },
  {
   "cell_type": "markdown",
   "source": [
    "----\n",
    "&nbsp;\n",
    "## Testing `__call__`"
   ],
   "metadata": {
    "collapsed": false
   }
  },
  {
   "cell_type": "code",
   "execution_count": 16,
   "outputs": [
    {
     "name": "stdout",
     "output_type": "stream",
     "text": [
      "p9: 5.0 * x^3 - 3.0 * x^2 + 7.0 * x - 10.0\n"
     ]
    },
    {
     "data": {
      "text/plain": "290.0"
     },
     "execution_count": 16,
     "metadata": {},
     "output_type": "execute_result"
    }
   ],
   "source": [
    "print(f\"p9: {p9}\")\n",
    "p9(4)"
   ],
   "metadata": {
    "collapsed": false,
    "ExecuteTime": {
     "end_time": "2023-07-01T21:15:06.263042Z",
     "start_time": "2023-07-01T21:15:06.253484Z"
    }
   }
  },
  {
   "cell_type": "code",
   "execution_count": 17,
   "outputs": [
    {
     "name": "stdout",
     "output_type": "stream",
     "text": [
      "p10: 2.0 * x^2 * y - 3.0 * x * y^2 + 5.0 * y\n"
     ]
    },
    {
     "data": {
      "text/plain": "10.0"
     },
     "execution_count": 17,
     "metadata": {},
     "output_type": "execute_result"
    }
   ],
   "source": [
    "print(f\"p10: {p10}\")\n",
    "p10(3, 2)"
   ],
   "metadata": {
    "collapsed": false,
    "ExecuteTime": {
     "end_time": "2023-07-01T21:15:07.729967Z",
     "start_time": "2023-07-01T21:15:07.720642Z"
    }
   }
  },
  {
   "cell_type": "code",
   "execution_count": 18,
   "outputs": [
    {
     "name": "stdout",
     "output_type": "stream",
     "text": [
      "p12: 5.0 * x^3 * y^2 * z - 3.0 * x^2 * y * z^2 + 7.0 * x * y * z - 10.0 * z^2\n"
     ]
    },
    {
     "data": {
      "text/plain": "5312.0"
     },
     "execution_count": 18,
     "metadata": {},
     "output_type": "execute_result"
    }
   ],
   "source": [
    "print(f\"p12: {p12}\")\n",
    "p12(4, 3, 2)"
   ],
   "metadata": {
    "collapsed": false,
    "ExecuteTime": {
     "end_time": "2023-07-01T21:15:09.865396Z",
     "start_time": "2023-07-01T21:15:09.854836Z"
    }
   }
  },
  {
   "cell_type": "markdown",
   "source": [
    "----\n",
    "&nbsp;\n",
    "## Testing `plot()`"
   ],
   "metadata": {
    "collapsed": false
   }
  },
  {
   "cell_type": "code",
   "execution_count": 19,
   "outputs": [
    {
     "data": {
      "text/plain": "<Figure size 640x480 with 1 Axes>",
      "image/png": "[encoded data removed]"
     },
     "metadata": {},
     "output_type": "display_data"
    }
   ],
   "source": [
    "p9.plot(-1, 2)"
   ],
   "metadata": {
    "collapsed": false,
    "ExecuteTime": {
     "end_time": "2023-07-01T21:15:12.849158Z",
     "start_time": "2023-07-01T21:15:12.643207Z"
    }
   }
  },
  {
   "cell_type": "code",
   "execution_count": 20,
   "outputs": [
    {
     "name": "stdout",
     "output_type": "stream",
     "text": [
      "15.0 * x^2 - 6.0 * x + 7.0\n"
     ]
    }
   ],
   "source": [
    "dp9 = p9.differentiate()\n",
    "print(dp9)"
   ],
   "metadata": {
    "collapsed": false,
    "ExecuteTime": {
     "end_time": "2023-07-01T21:15:15.261974Z",
     "start_time": "2023-07-01T21:15:15.253336Z"
    }
   }
  },
  {
   "cell_type": "code",
   "execution_count": 21,
   "outputs": [
    {
     "data": {
      "text/plain": "(1.0597580762092567, True, 4)"
     },
     "execution_count": 21,
     "metadata": {},
     "output_type": "execute_result"
    }
   ],
   "source": [
    "p9.newton(0.5)"
   ],
   "metadata": {
    "collapsed": false,
    "ExecuteTime": {
     "end_time": "2023-07-01T21:15:17.622440Z",
     "start_time": "2023-07-01T21:15:17.613909Z"
    }
   }
  },
  {
   "cell_type": "markdown",
   "source": [
    "----"
   ],
   "metadata": {
    "collapsed": false
   }
  },
  {
   "cell_type": "markdown",
   "source": [
    "# Quartic - uni-variate"
   ],
   "metadata": {
    "collapsed": false
   }
  },
  {
   "cell_type": "code",
   "execution_count": 22,
   "outputs": [
    {
     "data": {
      "text/plain": "<Figure size 640x480 with 1 Axes>",
      "image/png": "[encoded data removed]"
     },
     "metadata": {},
     "output_type": "display_data"
    },
    {
     "name": "stdout",
     "output_type": "stream",
     "text": [
      "p13: x^4 - 8.0 * x^3 + 23.0 * x^2 - 26.0 * x + 6.25\n",
      "derivative: 4.0 * x^3 - 24.0 * x^2 + 46.0 * x - 26.0\n",
      "integral: 0.2 * x^5 - 2.0 * x^4 + 7.6667 * x^3 - 13.0 * x^2 + 6.25 * x\n"
     ]
    }
   ],
   "source": [
    "poly13 = decompose_polynomial(\"x^4-8*x^3+ 23*x^2 - 26*x + 6.25\")\n",
    "p13 = UniPoly(poly13)\n",
    "\n",
    "# The lower_x, upper_x arguments can be tweaked to best display the interval of interest\n",
    "# Default is -10, 10\n",
    "p13.plot(-0.5, 3.5)\n",
    "dp13 = p13.differentiate()\n",
    "ip13 = p13.integrate()\n",
    "\n",
    "print(f\"p13: {p13}\")\n",
    "print(f\"derivative: {dp13}\")\n",
    "print(f\"integral: {ip13}\")"
   ],
   "metadata": {
    "collapsed": false,
    "ExecuteTime": {
     "end_time": "2023-07-01T21:15:44.013759Z",
     "start_time": "2023-07-01T21:15:43.910965Z"
    }
   }
  },
  {
   "cell_type": "markdown",
   "source": [],
   "metadata": {
    "collapsed": false
   }
  },
  {
   "cell_type": "markdown",
   "source": [
    "----\n",
    "&nbsp;\n",
    "### Root finding with `newton()`"
   ],
   "metadata": {
    "collapsed": false
   }
  },
  {
   "cell_type": "code",
   "execution_count": 23,
   "outputs": [
    {
     "data": {
      "text/plain": "(0.32246327598946956, True, 3)"
     },
     "execution_count": 23,
     "metadata": {},
     "output_type": "execute_result"
    }
   ],
   "source": [
    "p13.newton(0.5)"
   ],
   "metadata": {
    "collapsed": false,
    "ExecuteTime": {
     "end_time": "2023-07-01T21:15:47.161535Z",
     "start_time": "2023-07-01T21:15:47.154262Z"
    }
   }
  },
  {
   "cell_type": "code",
   "execution_count": 24,
   "outputs": [
    {
     "data": {
      "text/plain": "(2.9320716171852697, True, 2)"
     },
     "execution_count": 24,
     "metadata": {},
     "output_type": "execute_result"
    }
   ],
   "source": [
    "p13.newton(3)"
   ],
   "metadata": {
    "collapsed": false,
    "ExecuteTime": {
     "end_time": "2023-07-01T21:15:49.351635Z",
     "start_time": "2023-07-01T21:15:49.338193Z"
    }
   }
  },
  {
   "cell_type": "markdown",
   "source": [
    "The other two roots are complex"
   ],
   "metadata": {
    "collapsed": false
   }
  },
  {
   "cell_type": "markdown",
   "source": [
    "----\n",
    "&nbsp;\n",
    "# `SymPy` integration"
   ],
   "metadata": {
    "collapsed": false
   }
  },
  {
   "cell_type": "code",
   "execution_count": 25,
   "outputs": [
    {
     "data": {
      "text/plain": "False"
     },
     "execution_count": 25,
     "metadata": {},
     "output_type": "execute_result"
    }
   ],
   "source": [
    "# uni-variate instance, the quartic defined above\n",
    "p13.is_multivariate"
   ],
   "metadata": {
    "collapsed": false,
    "ExecuteTime": {
     "end_time": "2023-07-01T21:15:52.346782Z",
     "start_time": "2023-07-01T21:15:52.337121Z"
    }
   }
  },
  {
   "cell_type": "code",
   "execution_count": 26,
   "outputs": [
    {
     "data": {
      "text/plain": "Poly(1.0*x**4 - 8.0*x**3 + 23.0*x**2 - 26.0*x + 6.25, x, domain='RR')",
      "text/latex": "$\\displaystyle \\operatorname{Poly}{\\left( 1.0 x^{4} - 8.0 x^{3} + 23.0 x^{2} - 26.0 x + 6.25, x, domain=\\mathbb{R} \\right)}$"
     },
     "metadata": {},
     "output_type": "display_data"
    }
   ],
   "source": [
    "# can use the display() method directly on a Polynomial instance for 'pretty' IPython printing\n",
    "p13.display()"
   ],
   "metadata": {
    "collapsed": false,
    "ExecuteTime": {
     "end_time": "2023-07-01T21:15:59.255017Z",
     "start_time": "2023-07-01T21:15:59.205120Z"
    }
   }
  },
  {
   "cell_type": "markdown",
   "source": [
    "We'll save an instance in `SymPy` and cast the coefficients as rationals.\n",
    "&nbsp;\n",
    "This method *could* throw up some very interesting rational numbers. Hence, argument `rational` is default `False`."
   ],
   "metadata": {
    "collapsed": false
   }
  },
  {
   "cell_type": "code",
   "execution_count": 27,
   "outputs": [
    {
     "name": "stdout",
     "output_type": "stream",
     "text": [
      "symp13 is <class 'sympy.polys.polytools.Poly'>\n"
     ]
    }
   ],
   "source": [
    "# created a sympy object from our class instance with rational coefficients\n",
    "symp13 = p13.save_as_sympy(rational=True)\n",
    "print(f\"symp13 is {type(symp13)}\")"
   ],
   "metadata": {
    "collapsed": false,
    "ExecuteTime": {
     "end_time": "2023-07-01T21:16:02.641728Z",
     "start_time": "2023-07-01T21:16:02.634267Z"
    }
   }
  },
  {
   "cell_type": "code",
   "execution_count": 28,
   "outputs": [
    {
     "data": {
      "text/plain": "Poly(x**4 - 8*x**3 + 23*x**2 - 26*x + 25/4, x, domain='QQ')",
      "text/latex": "$\\displaystyle \\operatorname{Poly}{\\left( x^{4} - 8 x^{3} + 23 x^{2} - 26 x + \\frac{25}{4}, x, domain=\\mathbb{Q} \\right)}$"
     },
     "metadata": {},
     "output_type": "display_data"
    }
   ],
   "source": [
    "display(symp13)"
   ],
   "metadata": {
    "collapsed": false,
    "ExecuteTime": {
     "end_time": "2023-07-01T21:16:05.199080Z",
     "start_time": "2023-07-01T21:16:05.187774Z"
    }
   }
  },
  {
   "cell_type": "code",
   "execution_count": 29,
   "outputs": [
    {
     "data": {
      "text/plain": "x**5/5 - 2*x**4 + 23*x**3/3 - 13*x**2 + 25*x/4",
      "text/latex": "$\\displaystyle \\frac{x^{5}}{5} - 2 x^{4} + \\frac{23 x^{3}}{3} - 13 x^{2} + \\frac{25 x}{4}$"
     },
     "metadata": {},
     "output_type": "display_data"
    }
   ],
   "source": [
    "# integral\n",
    "integral = sympy.Poly.integrate(symp13)\n",
    "display(integral.args[0])"
   ],
   "metadata": {
    "collapsed": false,
    "ExecuteTime": {
     "end_time": "2023-07-01T21:16:07.424233Z",
     "start_time": "2023-07-01T21:16:07.260364Z"
    }
   }
  },
  {
   "cell_type": "code",
   "execution_count": 30,
   "outputs": [
    {
     "data": {
      "text/plain": "[CRootOf(4*x**4 - 32*x**3 + 92*x**2 - 104*x + 25, 0),\n CRootOf(4*x**4 - 32*x**3 + 92*x**2 - 104*x + 25, 1),\n CRootOf(4*x**4 - 32*x**3 + 92*x**2 - 104*x + 25, 2),\n CRootOf(4*x**4 - 32*x**3 + 92*x**2 - 104*x + 25, 3)]"
     },
     "execution_count": 30,
     "metadata": {},
     "output_type": "execute_result"
    }
   ],
   "source": [
    "# Symbolic roots are not always returned\n",
    "roots = symp13.all_roots()\n",
    "roots"
   ],
   "metadata": {
    "collapsed": false,
    "ExecuteTime": {
     "end_time": "2023-07-01T21:16:11.088611Z",
     "start_time": "2023-07-01T21:16:11.032747Z"
    }
   }
  },
  {
   "cell_type": "code",
   "execution_count": 31,
   "outputs": [
    {
     "name": "stdout",
     "output_type": "stream",
     "text": [
      "0.322472272991042\n",
      "2.93203447945380\n",
      "2.37274662377758 - 0.99011808307134*I\n",
      "2.37274662377758 + 0.99011808307134*I\n"
     ]
    }
   ],
   "source": [
    "# we can evaluate numerically,\n",
    "for root in roots:\n",
    "    print(root.evalf())"
   ],
   "metadata": {
    "collapsed": false,
    "ExecuteTime": {
     "end_time": "2023-07-01T21:16:14.183264Z",
     "start_time": "2023-07-01T21:16:13.610924Z"
    }
   }
  },
  {
   "cell_type": "code",
   "execution_count": 32,
   "outputs": [
    {
     "data": {
      "text/plain": "[0.322472272991042,\n 2.93203447945380,\n 2.37274662377758 - 0.99011808307134*I,\n 2.37274662377758 + 0.99011808307134*I]"
     },
     "execution_count": 32,
     "metadata": {},
     "output_type": "execute_result"
    }
   ],
   "source": [
    "# Or access using nroots() method\n",
    "symp13.nroots()"
   ],
   "metadata": {
    "collapsed": false,
    "ExecuteTime": {
     "end_time": "2023-07-01T21:16:17.243017Z",
     "start_time": "2023-07-01T21:16:17.230192Z"
    }
   }
  },
  {
   "cell_type": "markdown",
   "source": [
    "----\n",
    "&nbsp;\n",
    "### Floating point coefficients cast to rational"
   ],
   "metadata": {
    "collapsed": false
   }
  },
  {
   "cell_type": "code",
   "execution_count": 33,
   "outputs": [
    {
     "data": {
      "text/plain": "Poly(5.82456*x**4 - 8.12324*x**3 + 23.2233*x**2 - 26.3565*x + 6.25, x, domain='RR')",
      "text/latex": "$\\displaystyle \\operatorname{Poly}{\\left( 5.82456 x^{4} - 8.12324 x^{3} + 23.2233 x^{2} - 26.3565 x + 6.25, x, domain=\\mathbb{R} \\right)}$"
     },
     "metadata": {},
     "output_type": "display_data"
    }
   ],
   "source": [
    "poly14 = decompose_polynomial(\"5.82456*x^4-8.12324*x^3+ 23.2233*x^2 - 26.3565*x + 6.25\")\n",
    "p14 = UniPoly(poly14)\n",
    "p14.display()"
   ],
   "metadata": {
    "collapsed": false,
    "ExecuteTime": {
     "end_time": "2023-07-01T21:16:19.716385Z",
     "start_time": "2023-07-01T21:16:19.710550Z"
    }
   }
  },
  {
   "cell_type": "code",
   "execution_count": 34,
   "outputs": [
    {
     "data": {
      "text/plain": "72807*x**4/12500 - 203081*x**3/25000 + 232233*x**2/10000 - 52713*x/2000 + 25/4",
      "text/latex": "$\\displaystyle \\frac{72807 x^{4}}{12500} - \\frac{203081 x^{3}}{25000} + \\frac{232233 x^{2}}{10000} - \\frac{52713 x}{2000} + \\frac{25}{4}$"
     },
     "metadata": {},
     "output_type": "display_data"
    }
   ],
   "source": [
    "symp14 = p14.save_as_sympy(rational=True)\n",
    "display(symp14.args[0])"
   ],
   "metadata": {
    "collapsed": false,
    "ExecuteTime": {
     "end_time": "2023-07-01T21:16:21.596888Z",
     "start_time": "2023-07-01T21:16:21.581518Z"
    }
   }
  },
  {
   "cell_type": "markdown",
   "source": [
    "----\n",
    "&nbsp;\n",
    "## Multivariate instance in `SymPy`"
   ],
   "metadata": {
    "collapsed": false
   }
  },
  {
   "cell_type": "code",
   "execution_count": 35,
   "outputs": [
    {
     "data": {
      "text/plain": "True"
     },
     "execution_count": 35,
     "metadata": {},
     "output_type": "execute_result"
    }
   ],
   "source": [
    "p12.is_multivariate"
   ],
   "metadata": {
    "collapsed": false,
    "ExecuteTime": {
     "end_time": "2023-07-01T21:16:23.950922Z",
     "start_time": "2023-07-01T21:16:23.938545Z"
    }
   }
  },
  {
   "cell_type": "code",
   "execution_count": 36,
   "outputs": [
    {
     "data": {
      "text/plain": "Poly(5.0*x**3*y**2*z - 3.0*x**2*y*z**2 + 7.0*x*y*z - 10.0*z**2, x, y, z, domain='RR')",
      "text/latex": "$\\displaystyle \\operatorname{Poly}{\\left( 5.0 x^{3}y^{2}z - 3.0 x^{2}yz^{2} + 7.0 xyz - 10.0 z^{2}, x, y, z, domain=\\mathbb{R} \\right)}$"
     },
     "metadata": {},
     "output_type": "display_data"
    }
   ],
   "source": [
    "p12.display()"
   ],
   "metadata": {
    "collapsed": false,
    "ExecuteTime": {
     "end_time": "2023-07-01T21:16:25.600786Z",
     "start_time": "2023-07-01T21:16:25.587870Z"
    }
   }
  },
  {
   "cell_type": "code",
   "execution_count": 37,
   "outputs": [
    {
     "data": {
      "text/plain": "5*x**3*y**2*z - 3*x**2*y*z**2 + 7*x*y*z - 10*z**2",
      "text/latex": "$\\displaystyle 5 x^{3} y^{2} z - 3 x^{2} y z^{2} + 7 x y z - 10 z^{2}$"
     },
     "metadata": {},
     "output_type": "display_data"
    }
   ],
   "source": [
    "symp12 = p12.save_as_sympy(rational=True)\n",
    "display(symp12.args[0])"
   ],
   "metadata": {
    "collapsed": false,
    "ExecuteTime": {
     "end_time": "2023-07-01T21:16:28.348529Z",
     "start_time": "2023-07-01T21:16:28.334291Z"
    }
   }
  },
  {
   "cell_type": "markdown",
   "source": [
    "We can calculate the first partial derivative with respect to x"
   ],
   "metadata": {
    "collapsed": false
   }
  },
  {
   "cell_type": "code",
   "execution_count": 38,
   "outputs": [
    {
     "data": {
      "text/plain": "15*x**2*y**2*z - 6*x*y*z**2 + 7*y*z",
      "text/latex": "$\\displaystyle 15 x^{2} y^{2} z - 6 x y z^{2} + 7 y z$"
     },
     "metadata": {},
     "output_type": "display_data"
    }
   ],
   "source": [
    "# Need to declare symbolic variables\n",
    "x, y, z = sympy.symbols('x y z')\n",
    "\n",
    "# extract the first argument from the Poly class which is the expression\n",
    "expr = symp12.args[0]\n",
    "\n",
    "# first partial derivative with respect to x\n",
    "partial_x = expr.diff(x)\n",
    "display(sympy.expand(partial_x))"
   ],
   "metadata": {
    "collapsed": false,
    "ExecuteTime": {
     "end_time": "2023-07-01T21:16:36.870451Z",
     "start_time": "2023-07-01T21:16:36.844264Z"
    }
   }
  },
  {
   "cell_type": "code",
   "execution_count": 39,
   "outputs": [
    {
     "data": {
      "text/plain": "30*x*y**2*z - 6*y*z**2",
      "text/latex": "$\\displaystyle 30 x y^{2} z - 6 y z^{2}$"
     },
     "metadata": {},
     "output_type": "display_data"
    }
   ],
   "source": [
    "# second partial derivative with respect to x\n",
    "partial_x_two = expr.diff(x, x)\n",
    "display(sympy.expand(partial_x_two))"
   ],
   "metadata": {
    "collapsed": false,
    "ExecuteTime": {
     "end_time": "2023-07-01T21:16:40.215037Z",
     "start_time": "2023-07-01T21:16:40.204263Z"
    }
   }
  },
  {
   "cell_type": "markdown",
   "source": [
    "----"
   ],
   "metadata": {
    "collapsed": false
   }
  },
  {
   "cell_type": "markdown",
   "source": [
    "#### Creating a `sympy.Poly` class instance for our polynomial gives access to a range of symbolic methods.\n",
    "[Sympy docs](https://docs.sympy.org/latest/index.html)"
   ],
   "metadata": {
    "collapsed": false
   }
  },
  {
   "cell_type": "code",
   "execution_count": 40,
   "outputs": [],
   "source": [
    "# Not all these methods are callable.\n",
    "#print(dir(symp13))"
   ],
   "metadata": {
    "collapsed": false,
    "ExecuteTime": {
     "end_time": "2023-07-01T21:16:53.273927Z",
     "start_time": "2023-07-01T21:16:53.263332Z"
    }
   }
  },
  {
   "cell_type": "markdown",
   "source": [
    "----"
   ],
   "metadata": {
    "collapsed": false
   }
  },
  {
   "cell_type": "markdown",
   "source": [
    "# Cubic - uni-variate"
   ],
   "metadata": {
    "collapsed": false
   }
  },
  {
   "cell_type": "code",
   "execution_count": 41,
   "outputs": [
    {
     "data": {
      "text/plain": "<Figure size 640x480 with 1 Axes>",
      "image/png": "[encoded data removed]"
     },
     "metadata": {},
     "output_type": "display_data"
    },
    {
     "name": "stdout",
     "output_type": "stream",
     "text": [
      "p15: x^3 - 5.0 * x^2 + 4.0 * x + 3.0\n",
      "derivative: 3.0 * x^2 - 10.0 * x + 4.0\n",
      "integral: 0.25 * x^4 - 1.6667 * x^3 + 2.0 * x^2 + 3.0 * x\n"
     ]
    }
   ],
   "source": [
    "poly15 = decompose_polynomial(\"x^3 - 5*x^2 + 4*x +3\")\n",
    "p15 = UniPoly(poly15)\n",
    "\n",
    "p15.plot(-1, 5)\n",
    "dp15 = p15.differentiate()\n",
    "ip15 = p15.integrate()\n",
    "\n",
    "print(f\"p15: {p15}\")\n",
    "print(f\"derivative: {dp15}\")\n",
    "print(f\"integral: {ip15}\")"
   ],
   "metadata": {
    "collapsed": false,
    "ExecuteTime": {
     "end_time": "2023-07-01T21:17:02.405378Z",
     "start_time": "2023-07-01T21:17:02.327016Z"
    }
   }
  },
  {
   "cell_type": "code",
   "execution_count": 42,
   "outputs": [
    {
     "data": {
      "text/plain": "3.749999999999999"
     },
     "execution_count": 42,
     "metadata": {},
     "output_type": "execute_result"
    }
   ],
   "source": [
    "# definite integral (lower bound, upper bound)\n",
    "p15.integrate_definite(-1, 2)"
   ],
   "metadata": {
    "collapsed": false,
    "ExecuteTime": {
     "end_time": "2023-07-01T21:17:04.896552Z",
     "start_time": "2023-07-01T21:17:04.888515Z"
    }
   }
  },
  {
   "cell_type": "code",
   "execution_count": 43,
   "outputs": [
    {
     "data": {
      "text/plain": "(-0.4605056069250443, True, 2)"
     },
     "execution_count": 43,
     "metadata": {},
     "output_type": "execute_result"
    }
   ],
   "source": [
    "p15.newton(-0.5)"
   ],
   "metadata": {
    "collapsed": false,
    "ExecuteTime": {
     "end_time": "2023-07-01T21:17:06.530281Z",
     "start_time": "2023-07-01T21:17:06.522381Z"
    }
   }
  },
  {
   "cell_type": "code",
   "execution_count": 44,
   "outputs": [
    {
     "data": {
      "text/plain": "(1.7608695652173914, True, 2)"
     },
     "execution_count": 44,
     "metadata": {},
     "output_type": "execute_result"
    }
   ],
   "source": [
    "p15.newton(2)"
   ],
   "metadata": {
    "collapsed": false,
    "ExecuteTime": {
     "end_time": "2023-07-01T21:17:09.696285Z",
     "start_time": "2023-07-01T21:17:09.687828Z"
    }
   }
  },
  {
   "cell_type": "code",
   "execution_count": 45,
   "outputs": [
    {
     "data": {
      "text/plain": "(0.9531653390632921, True, 7)"
     },
     "execution_count": 45,
     "metadata": {},
     "output_type": "execute_result"
    }
   ],
   "source": [
    "p14.newton(3.5)"
   ],
   "metadata": {
    "collapsed": false,
    "ExecuteTime": {
     "end_time": "2023-07-01T21:17:13.881856Z",
     "start_time": "2023-07-01T21:17:13.872717Z"
    }
   }
  },
  {
   "cell_type": "markdown",
   "source": [
    "----"
   ],
   "metadata": {
    "collapsed": false
   }
  },
  {
   "cell_type": "markdown",
   "source": [
    "### An Example where starting points could enter an infinite cycle"
   ],
   "metadata": {
    "collapsed": false
   }
  },
  {
   "cell_type": "code",
   "execution_count": 46,
   "outputs": [
    {
     "name": "stdout",
     "output_type": "stream",
     "text": [
      "p15: x^3 - 2.0 * x + 2.0\n"
     ]
    },
    {
     "data": {
      "text/plain": "<Figure size 640x480 with 1 Axes>",
      "image/png": "[encoded data removed]"
     },
     "metadata": {},
     "output_type": "display_data"
    },
    {
     "name": "stdout",
     "output_type": "stream",
     "text": [
      "derivative: 3.0 * x^2 - 2.0\n"
     ]
    }
   ],
   "source": [
    "poly15 = decompose_polynomial(\"x^3 - 2*x +2\")\n",
    "p15 = UniPoly(poly15)\n",
    "\n",
    "print(f\"p15: {p15}\")\n",
    "p15.plot(-2, 2)\n",
    "dp15 = p15.differentiate()\n",
    "print(f\"derivative: {dp15}\")"
   ],
   "metadata": {
    "collapsed": false,
    "ExecuteTime": {
     "end_time": "2023-07-01T21:17:17.539753Z",
     "start_time": "2023-07-01T21:17:17.421044Z"
    }
   }
  },
  {
   "cell_type": "markdown",
   "source": [
    "Choosing $x=0$ or $x=1$ as starting points, Newton's method fails to converge even after 100 iterations"
   ],
   "metadata": {
    "collapsed": false
   }
  },
  {
   "cell_type": "code",
   "execution_count": 47,
   "outputs": [
    {
     "data": {
      "text/plain": "(1.0, False, 100)"
     },
     "execution_count": 47,
     "metadata": {},
     "output_type": "execute_result"
    }
   ],
   "source": [
    "p15.newton(1, max_it=100)"
   ],
   "metadata": {
    "collapsed": false,
    "ExecuteTime": {
     "end_time": "2023-07-01T21:17:20.680329Z",
     "start_time": "2023-07-01T21:17:20.672110Z"
    }
   }
  },
  {
   "cell_type": "code",
   "execution_count": 48,
   "outputs": [
    {
     "data": {
      "text/plain": "(0.0, False, 100)"
     },
     "execution_count": 48,
     "metadata": {},
     "output_type": "execute_result"
    }
   ],
   "source": [
    "p15.newton(0, max_it=100)"
   ],
   "metadata": {
    "collapsed": false,
    "ExecuteTime": {
     "end_time": "2023-07-01T21:17:22.345715Z",
     "start_time": "2023-07-01T21:17:22.337869Z"
    }
   }
  },
  {
   "cell_type": "markdown",
   "source": [
    "The graph of the function aids finding suitable starting points"
   ],
   "metadata": {
    "collapsed": false
   }
  },
  {
   "cell_type": "code",
   "execution_count": 49,
   "outputs": [
    {
     "data": {
      "text/plain": "(-1.769292662905941, True, 2)"
     },
     "execution_count": 49,
     "metadata": {},
     "output_type": "execute_result"
    }
   ],
   "source": [
    "p15.newton(-2)"
   ],
   "metadata": {
    "collapsed": false,
    "ExecuteTime": {
     "end_time": "2023-07-01T21:17:24.562464Z",
     "start_time": "2023-07-01T21:17:24.554126Z"
    }
   }
  },
  {
   "cell_type": "code",
   "execution_count": 50,
   "outputs": [
    {
     "data": {
      "text/plain": "(-1.76929656115579, True, 7)"
     },
     "execution_count": 50,
     "metadata": {},
     "output_type": "execute_result"
    }
   ],
   "source": [
    "p15.newton(0.5)"
   ],
   "metadata": {
    "collapsed": false,
    "ExecuteTime": {
     "end_time": "2023-07-01T21:17:26.279073Z",
     "start_time": "2023-07-01T21:17:26.271678Z"
    }
   }
  },
  {
   "cell_type": "markdown",
   "source": [
    "----"
   ],
   "metadata": {
    "collapsed": false
   }
  }
 ],
 "metadata": {
  "kernelspec": {
   "display_name": "Python 3",
   "language": "python",
   "name": "python3"
  },
  "language_info": {
   "codemirror_mode": {
    "name": "ipython",
    "version": 2
   },
   "file_extension": ".py",
   "mimetype": "text/x-python",
   "name": "python",
   "nbconvert_exporter": "python",
   "pygments_lexer": "ipython2",
   "version": "2.7.6"
  }
 },
 "nbformat": 4,
 "nbformat_minor": 0
}
